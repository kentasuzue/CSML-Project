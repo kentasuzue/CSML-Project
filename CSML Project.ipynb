{
 "cells": [
  {
   "cell_type": "code",
   "execution_count": 365,
   "id": "43028d8b",
   "metadata": {},
   "outputs": [
    {
     "name": "stdout",
     "output_type": "stream",
     "text": [
      "1.0.2\n"
     ]
    }
   ],
   "source": [
    "import sklearn\n",
    "import pandas as pd\n",
    "from sklearn.preprocessing import LabelEncoder\n",
    "import numpy as np \n",
    "import matplotlib.pyplot as plt\n",
    "import warnings\n",
    "warnings.filterwarnings(\"ignore\")\n",
    "%matplotlib inline\n",
    "print(sklearn.__version__)"
   ]
  },
  {
   "cell_type": "code",
   "execution_count": 596,
   "id": "524b5b7f",
   "metadata": {},
   "outputs": [
    {
     "data": {
      "text/plain": [
       "(5110, 10)"
      ]
     },
     "execution_count": 596,
     "metadata": {},
     "output_type": "execute_result"
    }
   ],
   "source": [
    "stroke_df = pd.read_csv('./healthcare-dataset-stroke-data.csv')\n",
    "y_stroke_df = stroke_df['stroke']\n",
    "X_stroke_df = stroke_df.drop(['stroke', 'id'], axis=1)\n",
    "# X_stroke_df = stroke_df.drop('id', axis=1)\n",
    "y_stroke_df.shape\n",
    "X_stroke_df.shape"
   ]
  },
  {
   "cell_type": "code",
   "execution_count": 135,
   "id": "f2ea4200",
   "metadata": {},
   "outputs": [],
   "source": [
    "X_stroke_df['avg_glucose_level'] = \\\n",
    "(X_stroke_df['avg_glucose_level'] - X_stroke_df['avg_glucose_level'].mean()) / X_stroke_df['avg_glucose_level'].std()"
   ]
  },
  {
   "cell_type": "code",
   "execution_count": 138,
   "id": "45a59ae5",
   "metadata": {},
   "outputs": [],
   "source": [
    "X_stroke_df['age'] = \\\n",
    "(X_stroke_df['age'] - X_stroke_df['age'].mean()) / X_stroke_df['age'].std()"
   ]
  },
  {
   "cell_type": "code",
   "execution_count": 586,
   "id": "5e259d6b",
   "metadata": {},
   "outputs": [
    {
     "data": {
      "text/plain": [
       "0"
      ]
     },
     "execution_count": 586,
     "metadata": {},
     "output_type": "execute_result"
    }
   ],
   "source": [
    "# X_stroke_df.tail()\n",
    "X_stroke_df['bmi'].fillna(stroke_df['bmi'].mean(),inplace=True)\n",
    "# stroke_df[stroke_df.isna().any(axis=1)]\n",
    "# stroke_df.isna().any(axis=1).sum()\n",
    "X_stroke_df.isna().any(axis=1).sum()\n",
    "# print(X_stroke_df[X_stroke_df.isna().any(axis=1)].to_string())"
   ]
  },
  {
   "cell_type": "code",
   "execution_count": 144,
   "id": "22a78e14",
   "metadata": {},
   "outputs": [],
   "source": [
    "X_stroke_df['bmi'] = \\\n",
    "(X_stroke_df['bmi'] - X_stroke_df['bmi'].mean()) / X_stroke_df['bmi'].std()"
   ]
  },
  {
   "cell_type": "code",
   "execution_count": 237,
   "id": "29fe97ba",
   "metadata": {},
   "outputs": [],
   "source": [
    "norm_features = ['avg_glucose_level', 'age', 'bmi']\n",
    "\n",
    "def normalize_features(df, features):\n",
    "    for feature in features:\n",
    "        df[feature] = (df[feature] - df[feature].mean()) / df[feature].std()\n",
    "    return df\n",
    "\n",
    "X_stroke_df['bmi'].fillna(X_stroke_df['bmi'].mean(),inplace=True)\n",
    "X_stroke_df = normalize_features(X_stroke_df, norm_features)"
   ]
  },
  {
   "cell_type": "code",
   "execution_count": 581,
   "id": "dd39d45d",
   "metadata": {},
   "outputs": [
    {
     "data": {
      "text/html": [
       "<div>\n",
       "<style scoped>\n",
       "    .dataframe tbody tr th:only-of-type {\n",
       "        vertical-align: middle;\n",
       "    }\n",
       "\n",
       "    .dataframe tbody tr th {\n",
       "        vertical-align: top;\n",
       "    }\n",
       "\n",
       "    .dataframe thead th {\n",
       "        text-align: right;\n",
       "    }\n",
       "</style>\n",
       "<table border=\"1\" class=\"dataframe\">\n",
       "  <thead>\n",
       "    <tr style=\"text-align: right;\">\n",
       "      <th></th>\n",
       "      <th>gender</th>\n",
       "      <th>age</th>\n",
       "      <th>hypertension</th>\n",
       "      <th>heart_disease</th>\n",
       "      <th>ever_married</th>\n",
       "      <th>work_type</th>\n",
       "      <th>Residence_type</th>\n",
       "      <th>avg_glucose_level</th>\n",
       "      <th>bmi</th>\n",
       "      <th>smoking_status</th>\n",
       "    </tr>\n",
       "  </thead>\n",
       "  <tbody>\n",
       "    <tr>\n",
       "      <th>0</th>\n",
       "      <td>Male</td>\n",
       "      <td>67.0</td>\n",
       "      <td>0</td>\n",
       "      <td>1</td>\n",
       "      <td>Yes</td>\n",
       "      <td>Private</td>\n",
       "      <td>Urban</td>\n",
       "      <td>228.69</td>\n",
       "      <td>36.6</td>\n",
       "      <td>formerly smoked</td>\n",
       "    </tr>\n",
       "    <tr>\n",
       "      <th>1</th>\n",
       "      <td>Female</td>\n",
       "      <td>61.0</td>\n",
       "      <td>0</td>\n",
       "      <td>0</td>\n",
       "      <td>Yes</td>\n",
       "      <td>Self-employed</td>\n",
       "      <td>Rural</td>\n",
       "      <td>202.21</td>\n",
       "      <td>NaN</td>\n",
       "      <td>never smoked</td>\n",
       "    </tr>\n",
       "    <tr>\n",
       "      <th>2</th>\n",
       "      <td>Male</td>\n",
       "      <td>80.0</td>\n",
       "      <td>0</td>\n",
       "      <td>1</td>\n",
       "      <td>Yes</td>\n",
       "      <td>Private</td>\n",
       "      <td>Rural</td>\n",
       "      <td>105.92</td>\n",
       "      <td>32.5</td>\n",
       "      <td>never smoked</td>\n",
       "    </tr>\n",
       "    <tr>\n",
       "      <th>3</th>\n",
       "      <td>Female</td>\n",
       "      <td>49.0</td>\n",
       "      <td>0</td>\n",
       "      <td>0</td>\n",
       "      <td>Yes</td>\n",
       "      <td>Private</td>\n",
       "      <td>Urban</td>\n",
       "      <td>171.23</td>\n",
       "      <td>34.4</td>\n",
       "      <td>smokes</td>\n",
       "    </tr>\n",
       "    <tr>\n",
       "      <th>4</th>\n",
       "      <td>Female</td>\n",
       "      <td>79.0</td>\n",
       "      <td>1</td>\n",
       "      <td>0</td>\n",
       "      <td>Yes</td>\n",
       "      <td>Self-employed</td>\n",
       "      <td>Rural</td>\n",
       "      <td>174.12</td>\n",
       "      <td>24.0</td>\n",
       "      <td>never smoked</td>\n",
       "    </tr>\n",
       "    <tr>\n",
       "      <th>...</th>\n",
       "      <td>...</td>\n",
       "      <td>...</td>\n",
       "      <td>...</td>\n",
       "      <td>...</td>\n",
       "      <td>...</td>\n",
       "      <td>...</td>\n",
       "      <td>...</td>\n",
       "      <td>...</td>\n",
       "      <td>...</td>\n",
       "      <td>...</td>\n",
       "    </tr>\n",
       "    <tr>\n",
       "      <th>5105</th>\n",
       "      <td>Female</td>\n",
       "      <td>80.0</td>\n",
       "      <td>1</td>\n",
       "      <td>0</td>\n",
       "      <td>Yes</td>\n",
       "      <td>Private</td>\n",
       "      <td>Urban</td>\n",
       "      <td>83.75</td>\n",
       "      <td>NaN</td>\n",
       "      <td>never smoked</td>\n",
       "    </tr>\n",
       "    <tr>\n",
       "      <th>5106</th>\n",
       "      <td>Female</td>\n",
       "      <td>81.0</td>\n",
       "      <td>0</td>\n",
       "      <td>0</td>\n",
       "      <td>Yes</td>\n",
       "      <td>Self-employed</td>\n",
       "      <td>Urban</td>\n",
       "      <td>125.20</td>\n",
       "      <td>40.0</td>\n",
       "      <td>never smoked</td>\n",
       "    </tr>\n",
       "    <tr>\n",
       "      <th>5107</th>\n",
       "      <td>Female</td>\n",
       "      <td>35.0</td>\n",
       "      <td>0</td>\n",
       "      <td>0</td>\n",
       "      <td>Yes</td>\n",
       "      <td>Self-employed</td>\n",
       "      <td>Rural</td>\n",
       "      <td>82.99</td>\n",
       "      <td>30.6</td>\n",
       "      <td>never smoked</td>\n",
       "    </tr>\n",
       "    <tr>\n",
       "      <th>5108</th>\n",
       "      <td>Male</td>\n",
       "      <td>51.0</td>\n",
       "      <td>0</td>\n",
       "      <td>0</td>\n",
       "      <td>Yes</td>\n",
       "      <td>Private</td>\n",
       "      <td>Rural</td>\n",
       "      <td>166.29</td>\n",
       "      <td>25.6</td>\n",
       "      <td>formerly smoked</td>\n",
       "    </tr>\n",
       "    <tr>\n",
       "      <th>5109</th>\n",
       "      <td>Female</td>\n",
       "      <td>44.0</td>\n",
       "      <td>0</td>\n",
       "      <td>0</td>\n",
       "      <td>Yes</td>\n",
       "      <td>Govt_job</td>\n",
       "      <td>Urban</td>\n",
       "      <td>85.28</td>\n",
       "      <td>26.2</td>\n",
       "      <td>Unknown</td>\n",
       "    </tr>\n",
       "  </tbody>\n",
       "</table>\n",
       "<p>5110 rows × 10 columns</p>\n",
       "</div>"
      ],
      "text/plain": [
       "      gender   age  hypertension  heart_disease ever_married      work_type  \\\n",
       "0       Male  67.0             0              1          Yes        Private   \n",
       "1     Female  61.0             0              0          Yes  Self-employed   \n",
       "2       Male  80.0             0              1          Yes        Private   \n",
       "3     Female  49.0             0              0          Yes        Private   \n",
       "4     Female  79.0             1              0          Yes  Self-employed   \n",
       "...      ...   ...           ...            ...          ...            ...   \n",
       "5105  Female  80.0             1              0          Yes        Private   \n",
       "5106  Female  81.0             0              0          Yes  Self-employed   \n",
       "5107  Female  35.0             0              0          Yes  Self-employed   \n",
       "5108    Male  51.0             0              0          Yes        Private   \n",
       "5109  Female  44.0             0              0          Yes       Govt_job   \n",
       "\n",
       "     Residence_type  avg_glucose_level   bmi   smoking_status  \n",
       "0             Urban             228.69  36.6  formerly smoked  \n",
       "1             Rural             202.21   NaN     never smoked  \n",
       "2             Rural             105.92  32.5     never smoked  \n",
       "3             Urban             171.23  34.4           smokes  \n",
       "4             Rural             174.12  24.0     never smoked  \n",
       "...             ...                ...   ...              ...  \n",
       "5105          Urban              83.75   NaN     never smoked  \n",
       "5106          Urban             125.20  40.0     never smoked  \n",
       "5107          Rural              82.99  30.6     never smoked  \n",
       "5108          Rural             166.29  25.6  formerly smoked  \n",
       "5109          Urban              85.28  26.2          Unknown  \n",
       "\n",
       "[5110 rows x 10 columns]"
      ]
     },
     "execution_count": 581,
     "metadata": {},
     "output_type": "execute_result"
    }
   ],
   "source": [
    "X_stroke_df"
   ]
  },
  {
   "cell_type": "code",
   "execution_count": 182,
   "id": "9c2214c6",
   "metadata": {},
   "outputs": [
    {
     "name": "stdout",
     "output_type": "stream",
     "text": [
      "['formerly smoked' 'never smoked' 'smokes' 'Unknown']\n"
     ]
    }
   ],
   "source": [
    "print(stroke_df['smoking_status'].unique())"
   ]
  },
  {
   "cell_type": "code",
   "execution_count": 413,
   "id": "fb72b865",
   "metadata": {},
   "outputs": [
    {
     "name": "stdout",
     "output_type": "stream",
     "text": [
      "['formerly smoked' 'never smoked' 'smokes' 'Unknown']\n"
     ]
    }
   ],
   "source": [
    "print(X_stroke_df['smoking_status'].unique())"
   ]
  },
  {
   "cell_type": "code",
   "execution_count": 181,
   "id": "b3cc6f8d",
   "metadata": {},
   "outputs": [
    {
     "data": {
      "text/html": [
       "<div>\n",
       "<style scoped>\n",
       "    .dataframe tbody tr th:only-of-type {\n",
       "        vertical-align: middle;\n",
       "    }\n",
       "\n",
       "    .dataframe tbody tr th {\n",
       "        vertical-align: top;\n",
       "    }\n",
       "\n",
       "    .dataframe thead th {\n",
       "        text-align: right;\n",
       "    }\n",
       "</style>\n",
       "<table border=\"1\" class=\"dataframe\">\n",
       "  <thead>\n",
       "    <tr style=\"text-align: right;\">\n",
       "      <th></th>\n",
       "      <th>id</th>\n",
       "      <th>gender</th>\n",
       "      <th>age</th>\n",
       "      <th>hypertension</th>\n",
       "      <th>heart_disease</th>\n",
       "      <th>ever_married</th>\n",
       "      <th>work_type</th>\n",
       "      <th>Residence_type</th>\n",
       "      <th>avg_glucose_level</th>\n",
       "      <th>bmi</th>\n",
       "      <th>smoking_status</th>\n",
       "      <th>stroke</th>\n",
       "    </tr>\n",
       "  </thead>\n",
       "  <tbody>\n",
       "    <tr>\n",
       "      <th>8</th>\n",
       "      <td>27419</td>\n",
       "      <td>Female</td>\n",
       "      <td>59.0</td>\n",
       "      <td>0</td>\n",
       "      <td>0</td>\n",
       "      <td>Yes</td>\n",
       "      <td>Private</td>\n",
       "      <td>Rural</td>\n",
       "      <td>76.15</td>\n",
       "      <td>NaN</td>\n",
       "      <td>Unknown</td>\n",
       "      <td>1</td>\n",
       "    </tr>\n",
       "    <tr>\n",
       "      <th>9</th>\n",
       "      <td>60491</td>\n",
       "      <td>Female</td>\n",
       "      <td>78.0</td>\n",
       "      <td>0</td>\n",
       "      <td>0</td>\n",
       "      <td>Yes</td>\n",
       "      <td>Private</td>\n",
       "      <td>Urban</td>\n",
       "      <td>58.57</td>\n",
       "      <td>24.2</td>\n",
       "      <td>Unknown</td>\n",
       "      <td>1</td>\n",
       "    </tr>\n",
       "    <tr>\n",
       "      <th>13</th>\n",
       "      <td>8213</td>\n",
       "      <td>Male</td>\n",
       "      <td>78.0</td>\n",
       "      <td>0</td>\n",
       "      <td>1</td>\n",
       "      <td>Yes</td>\n",
       "      <td>Private</td>\n",
       "      <td>Urban</td>\n",
       "      <td>219.84</td>\n",
       "      <td>NaN</td>\n",
       "      <td>Unknown</td>\n",
       "      <td>1</td>\n",
       "    </tr>\n",
       "    <tr>\n",
       "      <th>19</th>\n",
       "      <td>25226</td>\n",
       "      <td>Male</td>\n",
       "      <td>57.0</td>\n",
       "      <td>0</td>\n",
       "      <td>1</td>\n",
       "      <td>No</td>\n",
       "      <td>Govt_job</td>\n",
       "      <td>Urban</td>\n",
       "      <td>217.08</td>\n",
       "      <td>NaN</td>\n",
       "      <td>Unknown</td>\n",
       "      <td>1</td>\n",
       "    </tr>\n",
       "    <tr>\n",
       "      <th>23</th>\n",
       "      <td>64778</td>\n",
       "      <td>Male</td>\n",
       "      <td>82.0</td>\n",
       "      <td>0</td>\n",
       "      <td>1</td>\n",
       "      <td>Yes</td>\n",
       "      <td>Private</td>\n",
       "      <td>Rural</td>\n",
       "      <td>208.30</td>\n",
       "      <td>32.5</td>\n",
       "      <td>Unknown</td>\n",
       "      <td>1</td>\n",
       "    </tr>\n",
       "    <tr>\n",
       "      <th>...</th>\n",
       "      <td>...</td>\n",
       "      <td>...</td>\n",
       "      <td>...</td>\n",
       "      <td>...</td>\n",
       "      <td>...</td>\n",
       "      <td>...</td>\n",
       "      <td>...</td>\n",
       "      <td>...</td>\n",
       "      <td>...</td>\n",
       "      <td>...</td>\n",
       "      <td>...</td>\n",
       "      <td>...</td>\n",
       "    </tr>\n",
       "    <tr>\n",
       "      <th>5098</th>\n",
       "      <td>579</td>\n",
       "      <td>Male</td>\n",
       "      <td>9.0</td>\n",
       "      <td>0</td>\n",
       "      <td>0</td>\n",
       "      <td>No</td>\n",
       "      <td>children</td>\n",
       "      <td>Urban</td>\n",
       "      <td>71.88</td>\n",
       "      <td>17.5</td>\n",
       "      <td>Unknown</td>\n",
       "      <td>0</td>\n",
       "    </tr>\n",
       "    <tr>\n",
       "      <th>5101</th>\n",
       "      <td>36901</td>\n",
       "      <td>Female</td>\n",
       "      <td>45.0</td>\n",
       "      <td>0</td>\n",
       "      <td>0</td>\n",
       "      <td>Yes</td>\n",
       "      <td>Private</td>\n",
       "      <td>Urban</td>\n",
       "      <td>97.95</td>\n",
       "      <td>24.5</td>\n",
       "      <td>Unknown</td>\n",
       "      <td>0</td>\n",
       "    </tr>\n",
       "    <tr>\n",
       "      <th>5103</th>\n",
       "      <td>22127</td>\n",
       "      <td>Female</td>\n",
       "      <td>18.0</td>\n",
       "      <td>0</td>\n",
       "      <td>0</td>\n",
       "      <td>No</td>\n",
       "      <td>Private</td>\n",
       "      <td>Urban</td>\n",
       "      <td>82.85</td>\n",
       "      <td>46.9</td>\n",
       "      <td>Unknown</td>\n",
       "      <td>0</td>\n",
       "    </tr>\n",
       "    <tr>\n",
       "      <th>5104</th>\n",
       "      <td>14180</td>\n",
       "      <td>Female</td>\n",
       "      <td>13.0</td>\n",
       "      <td>0</td>\n",
       "      <td>0</td>\n",
       "      <td>No</td>\n",
       "      <td>children</td>\n",
       "      <td>Rural</td>\n",
       "      <td>103.08</td>\n",
       "      <td>18.6</td>\n",
       "      <td>Unknown</td>\n",
       "      <td>0</td>\n",
       "    </tr>\n",
       "    <tr>\n",
       "      <th>5109</th>\n",
       "      <td>44679</td>\n",
       "      <td>Female</td>\n",
       "      <td>44.0</td>\n",
       "      <td>0</td>\n",
       "      <td>0</td>\n",
       "      <td>Yes</td>\n",
       "      <td>Govt_job</td>\n",
       "      <td>Urban</td>\n",
       "      <td>85.28</td>\n",
       "      <td>26.2</td>\n",
       "      <td>Unknown</td>\n",
       "      <td>0</td>\n",
       "    </tr>\n",
       "  </tbody>\n",
       "</table>\n",
       "<p>1544 rows × 12 columns</p>\n",
       "</div>"
      ],
      "text/plain": [
       "         id  gender   age  hypertension  heart_disease ever_married work_type  \\\n",
       "8     27419  Female  59.0             0              0          Yes   Private   \n",
       "9     60491  Female  78.0             0              0          Yes   Private   \n",
       "13     8213    Male  78.0             0              1          Yes   Private   \n",
       "19    25226    Male  57.0             0              1           No  Govt_job   \n",
       "23    64778    Male  82.0             0              1          Yes   Private   \n",
       "...     ...     ...   ...           ...            ...          ...       ...   \n",
       "5098    579    Male   9.0             0              0           No  children   \n",
       "5101  36901  Female  45.0             0              0          Yes   Private   \n",
       "5103  22127  Female  18.0             0              0           No   Private   \n",
       "5104  14180  Female  13.0             0              0           No  children   \n",
       "5109  44679  Female  44.0             0              0          Yes  Govt_job   \n",
       "\n",
       "     Residence_type  avg_glucose_level   bmi smoking_status  stroke  \n",
       "8             Rural              76.15   NaN        Unknown       1  \n",
       "9             Urban              58.57  24.2        Unknown       1  \n",
       "13            Urban             219.84   NaN        Unknown       1  \n",
       "19            Urban             217.08   NaN        Unknown       1  \n",
       "23            Rural             208.30  32.5        Unknown       1  \n",
       "...             ...                ...   ...            ...     ...  \n",
       "5098          Urban              71.88  17.5        Unknown       0  \n",
       "5101          Urban              97.95  24.5        Unknown       0  \n",
       "5103          Urban              82.85  46.9        Unknown       0  \n",
       "5104          Rural             103.08  18.6        Unknown       0  \n",
       "5109          Urban              85.28  26.2        Unknown       0  \n",
       "\n",
       "[1544 rows x 12 columns]"
      ]
     },
     "execution_count": 181,
     "metadata": {},
     "output_type": "execute_result"
    }
   ],
   "source": [
    "stroke_df.loc[stroke_df['smoking_status']=='Unknown']"
   ]
  },
  {
   "cell_type": "code",
   "execution_count": 178,
   "id": "d8a33ead",
   "metadata": {},
   "outputs": [
    {
     "data": {
      "text/plain": [
       "id                   1544\n",
       "gender               1544\n",
       "age                  1544\n",
       "hypertension         1544\n",
       "heart_disease        1544\n",
       "ever_married         1544\n",
       "work_type            1544\n",
       "Residence_type       1544\n",
       "avg_glucose_level    1544\n",
       "bmi                  1483\n",
       "smoking_status       1544\n",
       "stroke               1544\n",
       "dtype: int64"
      ]
     },
     "execution_count": 178,
     "metadata": {},
     "output_type": "execute_result"
    }
   ],
   "source": [
    "stroke_df.loc[stroke_df['smoking_status']=='Unknown'].count()"
   ]
  },
  {
   "cell_type": "code",
   "execution_count": 124,
   "id": "a2357577",
   "metadata": {},
   "outputs": [
    {
     "data": {
      "text/plain": [
       "0.3021526418786693"
      ]
     },
     "execution_count": 124,
     "metadata": {},
     "output_type": "execute_result"
    }
   ],
   "source": [
    "1544/5110"
   ]
  },
  {
   "cell_type": "code",
   "execution_count": 95,
   "id": "6510d363",
   "metadata": {},
   "outputs": [
    {
     "name": "stdout",
     "output_type": "stream",
     "text": [
      "['Male' 'Female' 'Other']\n"
     ]
    }
   ],
   "source": [
    "print(stroke_df['gender'].unique())"
   ]
  },
  {
   "cell_type": "code",
   "execution_count": 109,
   "id": "9bc5393e",
   "metadata": {},
   "outputs": [
    {
     "name": "stdout",
     "output_type": "stream",
     "text": [
      "['Male' 'Female' 'Other']\n"
     ]
    }
   ],
   "source": [
    "print(X_stroke_df['gender'].unique())"
   ]
  },
  {
   "cell_type": "code",
   "execution_count": 105,
   "id": "f03f2bb2",
   "metadata": {},
   "outputs": [
    {
     "data": {
      "text/html": [
       "<div>\n",
       "<style scoped>\n",
       "    .dataframe tbody tr th:only-of-type {\n",
       "        vertical-align: middle;\n",
       "    }\n",
       "\n",
       "    .dataframe tbody tr th {\n",
       "        vertical-align: top;\n",
       "    }\n",
       "\n",
       "    .dataframe thead th {\n",
       "        text-align: right;\n",
       "    }\n",
       "</style>\n",
       "<table border=\"1\" class=\"dataframe\">\n",
       "  <thead>\n",
       "    <tr style=\"text-align: right;\">\n",
       "      <th></th>\n",
       "      <th>id</th>\n",
       "      <th>gender</th>\n",
       "      <th>age</th>\n",
       "      <th>hypertension</th>\n",
       "      <th>heart_disease</th>\n",
       "      <th>ever_married</th>\n",
       "      <th>work_type</th>\n",
       "      <th>Residence_type</th>\n",
       "      <th>avg_glucose_level</th>\n",
       "      <th>bmi</th>\n",
       "      <th>smoking_status</th>\n",
       "      <th>stroke</th>\n",
       "    </tr>\n",
       "  </thead>\n",
       "  <tbody>\n",
       "    <tr>\n",
       "      <th>3116</th>\n",
       "      <td>56156</td>\n",
       "      <td>Other</td>\n",
       "      <td>26.0</td>\n",
       "      <td>0</td>\n",
       "      <td>0</td>\n",
       "      <td>No</td>\n",
       "      <td>Private</td>\n",
       "      <td>Rural</td>\n",
       "      <td>143.33</td>\n",
       "      <td>22.4</td>\n",
       "      <td>formerly smoked</td>\n",
       "      <td>0</td>\n",
       "    </tr>\n",
       "  </tbody>\n",
       "</table>\n",
       "</div>"
      ],
      "text/plain": [
       "         id gender   age  hypertension  heart_disease ever_married work_type  \\\n",
       "3116  56156  Other  26.0             0              0           No   Private   \n",
       "\n",
       "     Residence_type  avg_glucose_level   bmi   smoking_status  stroke  \n",
       "3116          Rural             143.33  22.4  formerly smoked       0  "
      ]
     },
     "execution_count": 105,
     "metadata": {},
     "output_type": "execute_result"
    }
   ],
   "source": [
    "stroke_df.loc[stroke_df['gender']=='Other']"
   ]
  },
  {
   "cell_type": "code",
   "execution_count": 180,
   "id": "5c75fabc",
   "metadata": {},
   "outputs": [
    {
     "data": {
      "text/plain": [
       "gender               0\n",
       "age                  0\n",
       "hypertension         0\n",
       "heart_disease        0\n",
       "ever_married         0\n",
       "work_type            0\n",
       "Residence_type       0\n",
       "avg_glucose_level    0\n",
       "bmi                  0\n",
       "smoking_status       0\n",
       "dtype: int64"
      ]
     },
     "execution_count": 180,
     "metadata": {},
     "output_type": "execute_result"
    }
   ],
   "source": [
    "X_stroke_df.isnull().sum()"
   ]
  },
  {
   "cell_type": "code",
   "execution_count": 200,
   "id": "657c3781",
   "metadata": {},
   "outputs": [
    {
     "data": {
      "text/html": [
       "<div>\n",
       "<style scoped>\n",
       "    .dataframe tbody tr th:only-of-type {\n",
       "        vertical-align: middle;\n",
       "    }\n",
       "\n",
       "    .dataframe tbody tr th {\n",
       "        vertical-align: top;\n",
       "    }\n",
       "\n",
       "    .dataframe thead th {\n",
       "        text-align: right;\n",
       "    }\n",
       "</style>\n",
       "<table border=\"1\" class=\"dataframe\">\n",
       "  <thead>\n",
       "    <tr style=\"text-align: right;\">\n",
       "      <th></th>\n",
       "      <th>age</th>\n",
       "      <th>hypertension</th>\n",
       "      <th>heart_disease</th>\n",
       "      <th>ever_married</th>\n",
       "      <th>work_type</th>\n",
       "      <th>Residence_type</th>\n",
       "      <th>avg_glucose_level</th>\n",
       "      <th>bmi</th>\n",
       "      <th>smoking_status</th>\n",
       "      <th>gender_ordinal</th>\n",
       "    </tr>\n",
       "  </thead>\n",
       "  <tbody>\n",
       "    <tr>\n",
       "      <th>0</th>\n",
       "      <td>1.051331</td>\n",
       "      <td>0</td>\n",
       "      <td>1</td>\n",
       "      <td>Yes</td>\n",
       "      <td>Private</td>\n",
       "      <td>Urban</td>\n",
       "      <td>2.706111</td>\n",
       "      <td>1.001136e+00</td>\n",
       "      <td>formerly smoked</td>\n",
       "      <td>0.0</td>\n",
       "    </tr>\n",
       "    <tr>\n",
       "      <th>1</th>\n",
       "      <td>0.785993</td>\n",
       "      <td>0</td>\n",
       "      <td>0</td>\n",
       "      <td>Yes</td>\n",
       "      <td>Self-employed</td>\n",
       "      <td>Rural</td>\n",
       "      <td>2.121351</td>\n",
       "      <td>4.615102e-16</td>\n",
       "      <td>never smoked</td>\n",
       "      <td>1.0</td>\n",
       "    </tr>\n",
       "    <tr>\n",
       "      <th>2</th>\n",
       "      <td>1.626231</td>\n",
       "      <td>0</td>\n",
       "      <td>1</td>\n",
       "      <td>Yes</td>\n",
       "      <td>Private</td>\n",
       "      <td>Rural</td>\n",
       "      <td>-0.005028</td>\n",
       "      <td>4.685314e-01</td>\n",
       "      <td>never smoked</td>\n",
       "      <td>0.0</td>\n",
       "    </tr>\n",
       "    <tr>\n",
       "      <th>3</th>\n",
       "      <td>0.255317</td>\n",
       "      <td>0</td>\n",
       "      <td>0</td>\n",
       "      <td>Yes</td>\n",
       "      <td>Private</td>\n",
       "      <td>Urban</td>\n",
       "      <td>1.437217</td>\n",
       "      <td>7.153482e-01</td>\n",
       "      <td>smokes</td>\n",
       "      <td>1.0</td>\n",
       "    </tr>\n",
       "    <tr>\n",
       "      <th>4</th>\n",
       "      <td>1.582008</td>\n",
       "      <td>1</td>\n",
       "      <td>0</td>\n",
       "      <td>Yes</td>\n",
       "      <td>Self-employed</td>\n",
       "      <td>Rural</td>\n",
       "      <td>1.501038</td>\n",
       "      <td>-6.356489e-01</td>\n",
       "      <td>never smoked</td>\n",
       "      <td>1.0</td>\n",
       "    </tr>\n",
       "    <tr>\n",
       "      <th>...</th>\n",
       "      <td>...</td>\n",
       "      <td>...</td>\n",
       "      <td>...</td>\n",
       "      <td>...</td>\n",
       "      <td>...</td>\n",
       "      <td>...</td>\n",
       "      <td>...</td>\n",
       "      <td>...</td>\n",
       "      <td>...</td>\n",
       "      <td>...</td>\n",
       "    </tr>\n",
       "    <tr>\n",
       "      <th>5105</th>\n",
       "      <td>1.626231</td>\n",
       "      <td>1</td>\n",
       "      <td>0</td>\n",
       "      <td>Yes</td>\n",
       "      <td>Private</td>\n",
       "      <td>Urban</td>\n",
       "      <td>-0.494609</td>\n",
       "      <td>4.615102e-16</td>\n",
       "      <td>never smoked</td>\n",
       "      <td>1.0</td>\n",
       "    </tr>\n",
       "    <tr>\n",
       "      <th>5106</th>\n",
       "      <td>1.670454</td>\n",
       "      <td>0</td>\n",
       "      <td>0</td>\n",
       "      <td>Yes</td>\n",
       "      <td>Self-employed</td>\n",
       "      <td>Urban</td>\n",
       "      <td>0.420734</td>\n",
       "      <td>1.442808e+00</td>\n",
       "      <td>never smoked</td>\n",
       "      <td>1.0</td>\n",
       "    </tr>\n",
       "    <tr>\n",
       "      <th>5107</th>\n",
       "      <td>-0.363806</td>\n",
       "      <td>0</td>\n",
       "      <td>0</td>\n",
       "      <td>Yes</td>\n",
       "      <td>Self-employed</td>\n",
       "      <td>Rural</td>\n",
       "      <td>-0.511393</td>\n",
       "      <td>2.217146e-01</td>\n",
       "      <td>never smoked</td>\n",
       "      <td>1.0</td>\n",
       "    </tr>\n",
       "    <tr>\n",
       "      <th>5108</th>\n",
       "      <td>0.343763</td>\n",
       "      <td>0</td>\n",
       "      <td>0</td>\n",
       "      <td>Yes</td>\n",
       "      <td>Private</td>\n",
       "      <td>Rural</td>\n",
       "      <td>1.328127</td>\n",
       "      <td>-4.278032e-01</td>\n",
       "      <td>formerly smoked</td>\n",
       "      <td>0.0</td>\n",
       "    </tr>\n",
       "    <tr>\n",
       "      <th>5109</th>\n",
       "      <td>0.034201</td>\n",
       "      <td>0</td>\n",
       "      <td>0</td>\n",
       "      <td>Yes</td>\n",
       "      <td>Govt_job</td>\n",
       "      <td>Urban</td>\n",
       "      <td>-0.460822</td>\n",
       "      <td>-3.498611e-01</td>\n",
       "      <td>Unknown</td>\n",
       "      <td>1.0</td>\n",
       "    </tr>\n",
       "  </tbody>\n",
       "</table>\n",
       "<p>5110 rows × 10 columns</p>\n",
       "</div>"
      ],
      "text/plain": [
       "           age  hypertension  heart_disease ever_married      work_type  \\\n",
       "0     1.051331             0              1          Yes        Private   \n",
       "1     0.785993             0              0          Yes  Self-employed   \n",
       "2     1.626231             0              1          Yes        Private   \n",
       "3     0.255317             0              0          Yes        Private   \n",
       "4     1.582008             1              0          Yes  Self-employed   \n",
       "...        ...           ...            ...          ...            ...   \n",
       "5105  1.626231             1              0          Yes        Private   \n",
       "5106  1.670454             0              0          Yes  Self-employed   \n",
       "5107 -0.363806             0              0          Yes  Self-employed   \n",
       "5108  0.343763             0              0          Yes        Private   \n",
       "5109  0.034201             0              0          Yes       Govt_job   \n",
       "\n",
       "     Residence_type  avg_glucose_level           bmi   smoking_status  \\\n",
       "0             Urban           2.706111  1.001136e+00  formerly smoked   \n",
       "1             Rural           2.121351  4.615102e-16     never smoked   \n",
       "2             Rural          -0.005028  4.685314e-01     never smoked   \n",
       "3             Urban           1.437217  7.153482e-01           smokes   \n",
       "4             Rural           1.501038 -6.356489e-01     never smoked   \n",
       "...             ...                ...           ...              ...   \n",
       "5105          Urban          -0.494609  4.615102e-16     never smoked   \n",
       "5106          Urban           0.420734  1.442808e+00     never smoked   \n",
       "5107          Rural          -0.511393  2.217146e-01     never smoked   \n",
       "5108          Rural           1.328127 -4.278032e-01  formerly smoked   \n",
       "5109          Urban          -0.460822 -3.498611e-01          Unknown   \n",
       "\n",
       "      gender_ordinal  \n",
       "0                0.0  \n",
       "1                1.0  \n",
       "2                0.0  \n",
       "3                1.0  \n",
       "4                1.0  \n",
       "...              ...  \n",
       "5105             1.0  \n",
       "5106             1.0  \n",
       "5107             1.0  \n",
       "5108             0.0  \n",
       "5109             1.0  \n",
       "\n",
       "[5110 rows x 10 columns]"
      ]
     },
     "execution_count": 200,
     "metadata": {},
     "output_type": "execute_result"
    }
   ],
   "source": [
    "X_stroke_df"
   ]
  },
  {
   "cell_type": "code",
   "execution_count": 184,
   "id": "b2142b72",
   "metadata": {},
   "outputs": [
    {
     "name": "stdout",
     "output_type": "stream",
     "text": [
      "['formerly smoked' 'never smoked' 'smokes' 'Unknown']\n"
     ]
    }
   ],
   "source": [
    "print(X_stroke_df['smoking_status'].unique())"
   ]
  },
  {
   "cell_type": "code",
   "execution_count": 414,
   "id": "1eb89c50",
   "metadata": {},
   "outputs": [],
   "source": [
    "def ordinalize_features(df):\n",
    "\n",
    "    gender_dict = {'Male':0,\n",
    "                'Female':2,\n",
    "                'Other':1}\n",
    "    # Create the mapped values in a new column\n",
    "    df['gender_ordinal'] = df['gender'].map(gender_dict)\n",
    "    df = df.drop(['gender'], axis=1)\n",
    "\n",
    "    smoking_dict = {'never smoked':0,\n",
    "            'formerly smoked':1,\n",
    "            'smokes':2,\n",
    "            'Unknown': 1}\n",
    "    # Create the mapped values in a new column\n",
    "    df['smoking_ord'] = df['smoking_status'].map(smoking_dict)\n",
    "    df = df.drop(['smoking_status'], axis=1)\n",
    "    \n",
    "    married_dict = {'Yes': 1,\n",
    "                    'No': 0}\n",
    "    # Create the mapped values in a new column\n",
    "    df['married_ord'] = df['ever_married'].map(married_dict)\n",
    "    df = df.drop(['ever_married'], axis=1)\n",
    "\n",
    "    residence_dict = {'Urban': 0,\n",
    "                    'Rural': 1}\n",
    "    # Create the mapped values in a new column\n",
    "    df['residence_ord'] = df['Residence_type'].map(residence_dict)\n",
    "    df = df.drop(['Residence_type'], axis=1)\n",
    "\n",
    "    return df\n",
    "\n",
    "X_stroke_df = ordinalize_features(X_stroke_df)"
   ]
  },
  {
   "cell_type": "code",
   "execution_count": 269,
   "id": "27f1e23c",
   "metadata": {},
   "outputs": [
    {
     "data": {
      "text/html": [
       "<div>\n",
       "<style scoped>\n",
       "    .dataframe tbody tr th:only-of-type {\n",
       "        vertical-align: middle;\n",
       "    }\n",
       "\n",
       "    .dataframe tbody tr th {\n",
       "        vertical-align: top;\n",
       "    }\n",
       "\n",
       "    .dataframe thead th {\n",
       "        text-align: right;\n",
       "    }\n",
       "</style>\n",
       "<table border=\"1\" class=\"dataframe\">\n",
       "  <thead>\n",
       "    <tr style=\"text-align: right;\">\n",
       "      <th></th>\n",
       "      <th>age</th>\n",
       "      <th>hypertension</th>\n",
       "      <th>heart_disease</th>\n",
       "      <th>work_type</th>\n",
       "      <th>avg_glucose_level</th>\n",
       "      <th>bmi</th>\n",
       "      <th>gender_ordinal</th>\n",
       "      <th>smoking_ord</th>\n",
       "      <th>married_ord</th>\n",
       "      <th>residence_ord</th>\n",
       "    </tr>\n",
       "  </thead>\n",
       "  <tbody>\n",
       "    <tr>\n",
       "      <th>0</th>\n",
       "      <td>67.0</td>\n",
       "      <td>0</td>\n",
       "      <td>1</td>\n",
       "      <td>Private</td>\n",
       "      <td>228.69</td>\n",
       "      <td>36.6</td>\n",
       "      <td>0</td>\n",
       "      <td>1</td>\n",
       "      <td>1</td>\n",
       "      <td>0</td>\n",
       "    </tr>\n",
       "    <tr>\n",
       "      <th>1</th>\n",
       "      <td>61.0</td>\n",
       "      <td>0</td>\n",
       "      <td>0</td>\n",
       "      <td>Self-employed</td>\n",
       "      <td>202.21</td>\n",
       "      <td>NaN</td>\n",
       "      <td>2</td>\n",
       "      <td>0</td>\n",
       "      <td>1</td>\n",
       "      <td>1</td>\n",
       "    </tr>\n",
       "    <tr>\n",
       "      <th>2</th>\n",
       "      <td>80.0</td>\n",
       "      <td>0</td>\n",
       "      <td>1</td>\n",
       "      <td>Private</td>\n",
       "      <td>105.92</td>\n",
       "      <td>32.5</td>\n",
       "      <td>0</td>\n",
       "      <td>0</td>\n",
       "      <td>1</td>\n",
       "      <td>1</td>\n",
       "    </tr>\n",
       "    <tr>\n",
       "      <th>3</th>\n",
       "      <td>49.0</td>\n",
       "      <td>0</td>\n",
       "      <td>0</td>\n",
       "      <td>Private</td>\n",
       "      <td>171.23</td>\n",
       "      <td>34.4</td>\n",
       "      <td>2</td>\n",
       "      <td>2</td>\n",
       "      <td>1</td>\n",
       "      <td>0</td>\n",
       "    </tr>\n",
       "    <tr>\n",
       "      <th>4</th>\n",
       "      <td>79.0</td>\n",
       "      <td>1</td>\n",
       "      <td>0</td>\n",
       "      <td>Self-employed</td>\n",
       "      <td>174.12</td>\n",
       "      <td>24.0</td>\n",
       "      <td>2</td>\n",
       "      <td>0</td>\n",
       "      <td>1</td>\n",
       "      <td>1</td>\n",
       "    </tr>\n",
       "    <tr>\n",
       "      <th>...</th>\n",
       "      <td>...</td>\n",
       "      <td>...</td>\n",
       "      <td>...</td>\n",
       "      <td>...</td>\n",
       "      <td>...</td>\n",
       "      <td>...</td>\n",
       "      <td>...</td>\n",
       "      <td>...</td>\n",
       "      <td>...</td>\n",
       "      <td>...</td>\n",
       "    </tr>\n",
       "    <tr>\n",
       "      <th>5105</th>\n",
       "      <td>80.0</td>\n",
       "      <td>1</td>\n",
       "      <td>0</td>\n",
       "      <td>Private</td>\n",
       "      <td>83.75</td>\n",
       "      <td>NaN</td>\n",
       "      <td>2</td>\n",
       "      <td>0</td>\n",
       "      <td>1</td>\n",
       "      <td>0</td>\n",
       "    </tr>\n",
       "    <tr>\n",
       "      <th>5106</th>\n",
       "      <td>81.0</td>\n",
       "      <td>0</td>\n",
       "      <td>0</td>\n",
       "      <td>Self-employed</td>\n",
       "      <td>125.20</td>\n",
       "      <td>40.0</td>\n",
       "      <td>2</td>\n",
       "      <td>0</td>\n",
       "      <td>1</td>\n",
       "      <td>0</td>\n",
       "    </tr>\n",
       "    <tr>\n",
       "      <th>5107</th>\n",
       "      <td>35.0</td>\n",
       "      <td>0</td>\n",
       "      <td>0</td>\n",
       "      <td>Self-employed</td>\n",
       "      <td>82.99</td>\n",
       "      <td>30.6</td>\n",
       "      <td>2</td>\n",
       "      <td>0</td>\n",
       "      <td>1</td>\n",
       "      <td>1</td>\n",
       "    </tr>\n",
       "    <tr>\n",
       "      <th>5108</th>\n",
       "      <td>51.0</td>\n",
       "      <td>0</td>\n",
       "      <td>0</td>\n",
       "      <td>Private</td>\n",
       "      <td>166.29</td>\n",
       "      <td>25.6</td>\n",
       "      <td>0</td>\n",
       "      <td>1</td>\n",
       "      <td>1</td>\n",
       "      <td>1</td>\n",
       "    </tr>\n",
       "    <tr>\n",
       "      <th>5109</th>\n",
       "      <td>44.0</td>\n",
       "      <td>0</td>\n",
       "      <td>0</td>\n",
       "      <td>Govt_job</td>\n",
       "      <td>85.28</td>\n",
       "      <td>26.2</td>\n",
       "      <td>2</td>\n",
       "      <td>1</td>\n",
       "      <td>1</td>\n",
       "      <td>0</td>\n",
       "    </tr>\n",
       "  </tbody>\n",
       "</table>\n",
       "<p>5110 rows × 10 columns</p>\n",
       "</div>"
      ],
      "text/plain": [
       "       age  hypertension  heart_disease      work_type  avg_glucose_level  \\\n",
       "0     67.0             0              1        Private             228.69   \n",
       "1     61.0             0              0  Self-employed             202.21   \n",
       "2     80.0             0              1        Private             105.92   \n",
       "3     49.0             0              0        Private             171.23   \n",
       "4     79.0             1              0  Self-employed             174.12   \n",
       "...    ...           ...            ...            ...                ...   \n",
       "5105  80.0             1              0        Private              83.75   \n",
       "5106  81.0             0              0  Self-employed             125.20   \n",
       "5107  35.0             0              0  Self-employed              82.99   \n",
       "5108  51.0             0              0        Private             166.29   \n",
       "5109  44.0             0              0       Govt_job              85.28   \n",
       "\n",
       "       bmi  gender_ordinal  smoking_ord  married_ord  residence_ord  \n",
       "0     36.6               0            1            1              0  \n",
       "1      NaN               2            0            1              1  \n",
       "2     32.5               0            0            1              1  \n",
       "3     34.4               2            2            1              0  \n",
       "4     24.0               2            0            1              1  \n",
       "...    ...             ...          ...          ...            ...  \n",
       "5105   NaN               2            0            1              0  \n",
       "5106  40.0               2            0            1              0  \n",
       "5107  30.6               2            0            1              1  \n",
       "5108  25.6               0            1            1              1  \n",
       "5109  26.2               2            1            1              0  \n",
       "\n",
       "[5110 rows x 10 columns]"
      ]
     },
     "execution_count": 269,
     "metadata": {},
     "output_type": "execute_result"
    }
   ],
   "source": [
    "X_stroke_df"
   ]
  },
  {
   "cell_type": "code",
   "execution_count": 121,
   "id": "910728ca",
   "metadata": {},
   "outputs": [
    {
     "name": "stdout",
     "output_type": "stream",
     "text": [
      "['Yes' 'No']\n"
     ]
    }
   ],
   "source": [
    "print(stroke_df['ever_married'].unique())"
   ]
  },
  {
   "cell_type": "code",
   "execution_count": 122,
   "id": "1d0e55ea",
   "metadata": {},
   "outputs": [
    {
     "name": "stdout",
     "output_type": "stream",
     "text": [
      "['Private' 'Self-employed' 'Govt_job' 'children' 'Never_worked']\n"
     ]
    }
   ],
   "source": [
    "print(stroke_df['work_type'].unique())"
   ]
  },
  {
   "cell_type": "code",
   "execution_count": 123,
   "id": "3401048c",
   "metadata": {},
   "outputs": [
    {
     "name": "stdout",
     "output_type": "stream",
     "text": [
      "['Urban' 'Rural']\n"
     ]
    }
   ],
   "source": [
    "print(stroke_df['Residence_type'].unique())"
   ]
  },
  {
   "cell_type": "code",
   "execution_count": 125,
   "id": "90a5ec15",
   "metadata": {},
   "outputs": [],
   "source": [
    "from sklearn.preprocessing import OneHotEncoder\n",
    "from sklearn.compose import make_column_transformer"
   ]
  },
  {
   "cell_type": "code",
   "execution_count": 248,
   "id": "54595f4e",
   "metadata": {},
   "outputs": [
    {
     "name": "stdout",
     "output_type": "stream",
     "text": [
      "   onehotencoder__x0_Govt_job  onehotencoder__x0_Never_worked  \\\n",
      "0                         0.0                             0.0   \n",
      "1                         0.0                             0.0   \n",
      "2                         0.0                             0.0   \n",
      "3                         0.0                             0.0   \n",
      "4                         0.0                             0.0   \n",
      "\n",
      "   onehotencoder__x0_Private  onehotencoder__x0_Self-employed  \\\n",
      "0                        1.0                              0.0   \n",
      "1                        0.0                              1.0   \n",
      "2                        1.0                              0.0   \n",
      "3                        1.0                              0.0   \n",
      "4                        0.0                              1.0   \n",
      "\n",
      "   onehotencoder__x0_children       age  hypertension  heart_disease  \\\n",
      "0                         0.0  1.051331           0.0            1.0   \n",
      "1                         0.0  0.785993           0.0            0.0   \n",
      "2                         0.0  1.626231           0.0            1.0   \n",
      "3                         0.0  0.255317           0.0            0.0   \n",
      "4                         0.0  1.582008           1.0            0.0   \n",
      "\n",
      "   ever_married  Residence_type  avg_glucose_level           bmi  \\\n",
      "0           1.0             1.0           2.706111  1.001136e+00   \n",
      "1           1.0             0.0           2.121351  4.615102e-16   \n",
      "2           1.0             0.0          -0.005028  4.685314e-01   \n",
      "3           1.0             1.0           1.437217  7.153482e-01   \n",
      "4           1.0             0.0           1.501038 -6.356489e-01   \n",
      "\n",
      "   gender_ordinal  smoking_ord  \n",
      "0             0.0          1.0  \n",
      "1             2.0          0.0  \n",
      "2             0.0          0.0  \n",
      "3             2.0          2.0  \n",
      "4             2.0          0.0  \n"
     ]
    },
    {
     "data": {
      "text/html": [
       "<div>\n",
       "<style scoped>\n",
       "    .dataframe tbody tr th:only-of-type {\n",
       "        vertical-align: middle;\n",
       "    }\n",
       "\n",
       "    .dataframe tbody tr th {\n",
       "        vertical-align: top;\n",
       "    }\n",
       "\n",
       "    .dataframe thead th {\n",
       "        text-align: right;\n",
       "    }\n",
       "</style>\n",
       "<table border=\"1\" class=\"dataframe\">\n",
       "  <thead>\n",
       "    <tr style=\"text-align: right;\">\n",
       "      <th></th>\n",
       "      <th>onehotencoder__x0_Govt_job</th>\n",
       "      <th>onehotencoder__x0_Never_worked</th>\n",
       "      <th>onehotencoder__x0_Private</th>\n",
       "      <th>onehotencoder__x0_Self-employed</th>\n",
       "      <th>onehotencoder__x0_children</th>\n",
       "      <th>age</th>\n",
       "      <th>hypertension</th>\n",
       "      <th>heart_disease</th>\n",
       "      <th>ever_married</th>\n",
       "      <th>Residence_type</th>\n",
       "      <th>avg_glucose_level</th>\n",
       "      <th>bmi</th>\n",
       "      <th>gender_ordinal</th>\n",
       "      <th>smoking_ord</th>\n",
       "    </tr>\n",
       "  </thead>\n",
       "  <tbody>\n",
       "    <tr>\n",
       "      <th>0</th>\n",
       "      <td>0.0</td>\n",
       "      <td>0.0</td>\n",
       "      <td>1.0</td>\n",
       "      <td>0.0</td>\n",
       "      <td>0.0</td>\n",
       "      <td>1.051331</td>\n",
       "      <td>0.0</td>\n",
       "      <td>1.0</td>\n",
       "      <td>1.0</td>\n",
       "      <td>1.0</td>\n",
       "      <td>2.706111</td>\n",
       "      <td>1.001136e+00</td>\n",
       "      <td>0.0</td>\n",
       "      <td>1.0</td>\n",
       "    </tr>\n",
       "    <tr>\n",
       "      <th>1</th>\n",
       "      <td>0.0</td>\n",
       "      <td>0.0</td>\n",
       "      <td>0.0</td>\n",
       "      <td>1.0</td>\n",
       "      <td>0.0</td>\n",
       "      <td>0.785993</td>\n",
       "      <td>0.0</td>\n",
       "      <td>0.0</td>\n",
       "      <td>1.0</td>\n",
       "      <td>0.0</td>\n",
       "      <td>2.121351</td>\n",
       "      <td>4.615102e-16</td>\n",
       "      <td>2.0</td>\n",
       "      <td>0.0</td>\n",
       "    </tr>\n",
       "    <tr>\n",
       "      <th>2</th>\n",
       "      <td>0.0</td>\n",
       "      <td>0.0</td>\n",
       "      <td>1.0</td>\n",
       "      <td>0.0</td>\n",
       "      <td>0.0</td>\n",
       "      <td>1.626231</td>\n",
       "      <td>0.0</td>\n",
       "      <td>1.0</td>\n",
       "      <td>1.0</td>\n",
       "      <td>0.0</td>\n",
       "      <td>-0.005028</td>\n",
       "      <td>4.685314e-01</td>\n",
       "      <td>0.0</td>\n",
       "      <td>0.0</td>\n",
       "    </tr>\n",
       "    <tr>\n",
       "      <th>3</th>\n",
       "      <td>0.0</td>\n",
       "      <td>0.0</td>\n",
       "      <td>1.0</td>\n",
       "      <td>0.0</td>\n",
       "      <td>0.0</td>\n",
       "      <td>0.255317</td>\n",
       "      <td>0.0</td>\n",
       "      <td>0.0</td>\n",
       "      <td>1.0</td>\n",
       "      <td>1.0</td>\n",
       "      <td>1.437217</td>\n",
       "      <td>7.153482e-01</td>\n",
       "      <td>2.0</td>\n",
       "      <td>2.0</td>\n",
       "    </tr>\n",
       "    <tr>\n",
       "      <th>4</th>\n",
       "      <td>0.0</td>\n",
       "      <td>0.0</td>\n",
       "      <td>0.0</td>\n",
       "      <td>1.0</td>\n",
       "      <td>0.0</td>\n",
       "      <td>1.582008</td>\n",
       "      <td>1.0</td>\n",
       "      <td>0.0</td>\n",
       "      <td>1.0</td>\n",
       "      <td>0.0</td>\n",
       "      <td>1.501038</td>\n",
       "      <td>-6.356489e-01</td>\n",
       "      <td>2.0</td>\n",
       "      <td>0.0</td>\n",
       "    </tr>\n",
       "    <tr>\n",
       "      <th>...</th>\n",
       "      <td>...</td>\n",
       "      <td>...</td>\n",
       "      <td>...</td>\n",
       "      <td>...</td>\n",
       "      <td>...</td>\n",
       "      <td>...</td>\n",
       "      <td>...</td>\n",
       "      <td>...</td>\n",
       "      <td>...</td>\n",
       "      <td>...</td>\n",
       "      <td>...</td>\n",
       "      <td>...</td>\n",
       "      <td>...</td>\n",
       "      <td>...</td>\n",
       "    </tr>\n",
       "    <tr>\n",
       "      <th>5105</th>\n",
       "      <td>0.0</td>\n",
       "      <td>0.0</td>\n",
       "      <td>1.0</td>\n",
       "      <td>0.0</td>\n",
       "      <td>0.0</td>\n",
       "      <td>1.626231</td>\n",
       "      <td>1.0</td>\n",
       "      <td>0.0</td>\n",
       "      <td>1.0</td>\n",
       "      <td>1.0</td>\n",
       "      <td>-0.494609</td>\n",
       "      <td>4.615102e-16</td>\n",
       "      <td>2.0</td>\n",
       "      <td>0.0</td>\n",
       "    </tr>\n",
       "    <tr>\n",
       "      <th>5106</th>\n",
       "      <td>0.0</td>\n",
       "      <td>0.0</td>\n",
       "      <td>0.0</td>\n",
       "      <td>1.0</td>\n",
       "      <td>0.0</td>\n",
       "      <td>1.670454</td>\n",
       "      <td>0.0</td>\n",
       "      <td>0.0</td>\n",
       "      <td>1.0</td>\n",
       "      <td>1.0</td>\n",
       "      <td>0.420734</td>\n",
       "      <td>1.442808e+00</td>\n",
       "      <td>2.0</td>\n",
       "      <td>0.0</td>\n",
       "    </tr>\n",
       "    <tr>\n",
       "      <th>5107</th>\n",
       "      <td>0.0</td>\n",
       "      <td>0.0</td>\n",
       "      <td>0.0</td>\n",
       "      <td>1.0</td>\n",
       "      <td>0.0</td>\n",
       "      <td>-0.363806</td>\n",
       "      <td>0.0</td>\n",
       "      <td>0.0</td>\n",
       "      <td>1.0</td>\n",
       "      <td>0.0</td>\n",
       "      <td>-0.511393</td>\n",
       "      <td>2.217146e-01</td>\n",
       "      <td>2.0</td>\n",
       "      <td>0.0</td>\n",
       "    </tr>\n",
       "    <tr>\n",
       "      <th>5108</th>\n",
       "      <td>0.0</td>\n",
       "      <td>0.0</td>\n",
       "      <td>1.0</td>\n",
       "      <td>0.0</td>\n",
       "      <td>0.0</td>\n",
       "      <td>0.343763</td>\n",
       "      <td>0.0</td>\n",
       "      <td>0.0</td>\n",
       "      <td>1.0</td>\n",
       "      <td>0.0</td>\n",
       "      <td>1.328127</td>\n",
       "      <td>-4.278032e-01</td>\n",
       "      <td>0.0</td>\n",
       "      <td>1.0</td>\n",
       "    </tr>\n",
       "    <tr>\n",
       "      <th>5109</th>\n",
       "      <td>1.0</td>\n",
       "      <td>0.0</td>\n",
       "      <td>0.0</td>\n",
       "      <td>0.0</td>\n",
       "      <td>0.0</td>\n",
       "      <td>0.034201</td>\n",
       "      <td>0.0</td>\n",
       "      <td>0.0</td>\n",
       "      <td>1.0</td>\n",
       "      <td>1.0</td>\n",
       "      <td>-0.460822</td>\n",
       "      <td>-3.498611e-01</td>\n",
       "      <td>2.0</td>\n",
       "      <td>1.0</td>\n",
       "    </tr>\n",
       "  </tbody>\n",
       "</table>\n",
       "<p>5110 rows × 14 columns</p>\n",
       "</div>"
      ],
      "text/plain": [
       "      onehotencoder__x0_Govt_job  onehotencoder__x0_Never_worked  \\\n",
       "0                            0.0                             0.0   \n",
       "1                            0.0                             0.0   \n",
       "2                            0.0                             0.0   \n",
       "3                            0.0                             0.0   \n",
       "4                            0.0                             0.0   \n",
       "...                          ...                             ...   \n",
       "5105                         0.0                             0.0   \n",
       "5106                         0.0                             0.0   \n",
       "5107                         0.0                             0.0   \n",
       "5108                         0.0                             0.0   \n",
       "5109                         1.0                             0.0   \n",
       "\n",
       "      onehotencoder__x0_Private  onehotencoder__x0_Self-employed  \\\n",
       "0                           1.0                              0.0   \n",
       "1                           0.0                              1.0   \n",
       "2                           1.0                              0.0   \n",
       "3                           1.0                              0.0   \n",
       "4                           0.0                              1.0   \n",
       "...                         ...                              ...   \n",
       "5105                        1.0                              0.0   \n",
       "5106                        0.0                              1.0   \n",
       "5107                        0.0                              1.0   \n",
       "5108                        1.0                              0.0   \n",
       "5109                        0.0                              0.0   \n",
       "\n",
       "      onehotencoder__x0_children       age  hypertension  heart_disease  \\\n",
       "0                            0.0  1.051331           0.0            1.0   \n",
       "1                            0.0  0.785993           0.0            0.0   \n",
       "2                            0.0  1.626231           0.0            1.0   \n",
       "3                            0.0  0.255317           0.0            0.0   \n",
       "4                            0.0  1.582008           1.0            0.0   \n",
       "...                          ...       ...           ...            ...   \n",
       "5105                         0.0  1.626231           1.0            0.0   \n",
       "5106                         0.0  1.670454           0.0            0.0   \n",
       "5107                         0.0 -0.363806           0.0            0.0   \n",
       "5108                         0.0  0.343763           0.0            0.0   \n",
       "5109                         0.0  0.034201           0.0            0.0   \n",
       "\n",
       "      ever_married  Residence_type  avg_glucose_level           bmi  \\\n",
       "0              1.0             1.0           2.706111  1.001136e+00   \n",
       "1              1.0             0.0           2.121351  4.615102e-16   \n",
       "2              1.0             0.0          -0.005028  4.685314e-01   \n",
       "3              1.0             1.0           1.437217  7.153482e-01   \n",
       "4              1.0             0.0           1.501038 -6.356489e-01   \n",
       "...            ...             ...                ...           ...   \n",
       "5105           1.0             1.0          -0.494609  4.615102e-16   \n",
       "5106           1.0             1.0           0.420734  1.442808e+00   \n",
       "5107           1.0             0.0          -0.511393  2.217146e-01   \n",
       "5108           1.0             0.0           1.328127 -4.278032e-01   \n",
       "5109           1.0             1.0          -0.460822 -3.498611e-01   \n",
       "\n",
       "      gender_ordinal  smoking_ord  \n",
       "0                0.0          1.0  \n",
       "1                2.0          0.0  \n",
       "2                0.0          0.0  \n",
       "3                2.0          2.0  \n",
       "4                2.0          0.0  \n",
       "...              ...          ...  \n",
       "5105             2.0          0.0  \n",
       "5106             2.0          0.0  \n",
       "5107             2.0          0.0  \n",
       "5108             0.0          1.0  \n",
       "5109             2.0          1.0  \n",
       "\n",
       "[5110 rows x 14 columns]"
      ]
     },
     "execution_count": 248,
     "metadata": {},
     "output_type": "execute_result"
    }
   ],
   "source": [
    "transformer = make_column_transformer(\n",
    "    (OneHotEncoder(), ['work_type']),\n",
    "    remainder='passthrough')\n",
    "\n",
    "transformed = transformer.fit_transform(X_stroke_df)\n",
    "X_transformed_df = pd.DataFrame(transformed, columns=transformer.get_feature_names())\n",
    "print(X_transformed_df.head())\n",
    "X_transformed_df"
   ]
  },
  {
   "cell_type": "code",
   "execution_count": 148,
   "id": "ae17d54a",
   "metadata": {},
   "outputs": [
    {
     "name": "stdout",
     "output_type": "stream",
     "text": [
      "[0.  1.  0.5]\n"
     ]
    }
   ],
   "source": [
    "print(transformed_df['gender_ordinal'].unique())"
   ]
  },
  {
   "cell_type": "code",
   "execution_count": 245,
   "id": "730f671b",
   "metadata": {},
   "outputs": [
    {
     "data": {
      "text/html": [
       "<div>\n",
       "<style scoped>\n",
       "    .dataframe tbody tr th:only-of-type {\n",
       "        vertical-align: middle;\n",
       "    }\n",
       "\n",
       "    .dataframe tbody tr th {\n",
       "        vertical-align: top;\n",
       "    }\n",
       "\n",
       "    .dataframe thead th {\n",
       "        text-align: right;\n",
       "    }\n",
       "</style>\n",
       "<table border=\"1\" class=\"dataframe\">\n",
       "  <thead>\n",
       "    <tr style=\"text-align: right;\">\n",
       "      <th></th>\n",
       "      <th>age</th>\n",
       "      <th>hypertension</th>\n",
       "      <th>heart_disease</th>\n",
       "      <th>ever_married</th>\n",
       "      <th>work_type</th>\n",
       "      <th>Residence_type</th>\n",
       "      <th>avg_glucose_level</th>\n",
       "      <th>bmi</th>\n",
       "      <th>gender_ordinal</th>\n",
       "      <th>smoking_ord</th>\n",
       "    </tr>\n",
       "  </thead>\n",
       "  <tbody>\n",
       "    <tr>\n",
       "      <th>0</th>\n",
       "      <td>1.051331</td>\n",
       "      <td>0</td>\n",
       "      <td>1</td>\n",
       "      <td>1</td>\n",
       "      <td>Private</td>\n",
       "      <td>1</td>\n",
       "      <td>2.706111</td>\n",
       "      <td>1.001136e+00</td>\n",
       "      <td>0</td>\n",
       "      <td>1</td>\n",
       "    </tr>\n",
       "    <tr>\n",
       "      <th>1</th>\n",
       "      <td>0.785993</td>\n",
       "      <td>0</td>\n",
       "      <td>0</td>\n",
       "      <td>1</td>\n",
       "      <td>Self-employed</td>\n",
       "      <td>0</td>\n",
       "      <td>2.121351</td>\n",
       "      <td>4.615102e-16</td>\n",
       "      <td>2</td>\n",
       "      <td>0</td>\n",
       "    </tr>\n",
       "    <tr>\n",
       "      <th>2</th>\n",
       "      <td>1.626231</td>\n",
       "      <td>0</td>\n",
       "      <td>1</td>\n",
       "      <td>1</td>\n",
       "      <td>Private</td>\n",
       "      <td>0</td>\n",
       "      <td>-0.005028</td>\n",
       "      <td>4.685314e-01</td>\n",
       "      <td>0</td>\n",
       "      <td>0</td>\n",
       "    </tr>\n",
       "    <tr>\n",
       "      <th>3</th>\n",
       "      <td>0.255317</td>\n",
       "      <td>0</td>\n",
       "      <td>0</td>\n",
       "      <td>1</td>\n",
       "      <td>Private</td>\n",
       "      <td>1</td>\n",
       "      <td>1.437217</td>\n",
       "      <td>7.153482e-01</td>\n",
       "      <td>2</td>\n",
       "      <td>2</td>\n",
       "    </tr>\n",
       "    <tr>\n",
       "      <th>4</th>\n",
       "      <td>1.582008</td>\n",
       "      <td>1</td>\n",
       "      <td>0</td>\n",
       "      <td>1</td>\n",
       "      <td>Self-employed</td>\n",
       "      <td>0</td>\n",
       "      <td>1.501038</td>\n",
       "      <td>-6.356489e-01</td>\n",
       "      <td>2</td>\n",
       "      <td>0</td>\n",
       "    </tr>\n",
       "    <tr>\n",
       "      <th>...</th>\n",
       "      <td>...</td>\n",
       "      <td>...</td>\n",
       "      <td>...</td>\n",
       "      <td>...</td>\n",
       "      <td>...</td>\n",
       "      <td>...</td>\n",
       "      <td>...</td>\n",
       "      <td>...</td>\n",
       "      <td>...</td>\n",
       "      <td>...</td>\n",
       "    </tr>\n",
       "    <tr>\n",
       "      <th>5105</th>\n",
       "      <td>1.626231</td>\n",
       "      <td>1</td>\n",
       "      <td>0</td>\n",
       "      <td>1</td>\n",
       "      <td>Private</td>\n",
       "      <td>1</td>\n",
       "      <td>-0.494609</td>\n",
       "      <td>4.615102e-16</td>\n",
       "      <td>2</td>\n",
       "      <td>0</td>\n",
       "    </tr>\n",
       "    <tr>\n",
       "      <th>5106</th>\n",
       "      <td>1.670454</td>\n",
       "      <td>0</td>\n",
       "      <td>0</td>\n",
       "      <td>1</td>\n",
       "      <td>Self-employed</td>\n",
       "      <td>1</td>\n",
       "      <td>0.420734</td>\n",
       "      <td>1.442808e+00</td>\n",
       "      <td>2</td>\n",
       "      <td>0</td>\n",
       "    </tr>\n",
       "    <tr>\n",
       "      <th>5107</th>\n",
       "      <td>-0.363806</td>\n",
       "      <td>0</td>\n",
       "      <td>0</td>\n",
       "      <td>1</td>\n",
       "      <td>Self-employed</td>\n",
       "      <td>0</td>\n",
       "      <td>-0.511393</td>\n",
       "      <td>2.217146e-01</td>\n",
       "      <td>2</td>\n",
       "      <td>0</td>\n",
       "    </tr>\n",
       "    <tr>\n",
       "      <th>5108</th>\n",
       "      <td>0.343763</td>\n",
       "      <td>0</td>\n",
       "      <td>0</td>\n",
       "      <td>1</td>\n",
       "      <td>Private</td>\n",
       "      <td>0</td>\n",
       "      <td>1.328127</td>\n",
       "      <td>-4.278032e-01</td>\n",
       "      <td>0</td>\n",
       "      <td>1</td>\n",
       "    </tr>\n",
       "    <tr>\n",
       "      <th>5109</th>\n",
       "      <td>0.034201</td>\n",
       "      <td>0</td>\n",
       "      <td>0</td>\n",
       "      <td>1</td>\n",
       "      <td>Govt_job</td>\n",
       "      <td>1</td>\n",
       "      <td>-0.460822</td>\n",
       "      <td>-3.498611e-01</td>\n",
       "      <td>2</td>\n",
       "      <td>1</td>\n",
       "    </tr>\n",
       "  </tbody>\n",
       "</table>\n",
       "<p>5110 rows × 10 columns</p>\n",
       "</div>"
      ],
      "text/plain": [
       "           age  hypertension  heart_disease  ever_married      work_type  \\\n",
       "0     1.051331             0              1             1        Private   \n",
       "1     0.785993             0              0             1  Self-employed   \n",
       "2     1.626231             0              1             1        Private   \n",
       "3     0.255317             0              0             1        Private   \n",
       "4     1.582008             1              0             1  Self-employed   \n",
       "...        ...           ...            ...           ...            ...   \n",
       "5105  1.626231             1              0             1        Private   \n",
       "5106  1.670454             0              0             1  Self-employed   \n",
       "5107 -0.363806             0              0             1  Self-employed   \n",
       "5108  0.343763             0              0             1        Private   \n",
       "5109  0.034201             0              0             1       Govt_job   \n",
       "\n",
       "      Residence_type  avg_glucose_level           bmi  gender_ordinal  \\\n",
       "0                  1           2.706111  1.001136e+00               0   \n",
       "1                  0           2.121351  4.615102e-16               2   \n",
       "2                  0          -0.005028  4.685314e-01               0   \n",
       "3                  1           1.437217  7.153482e-01               2   \n",
       "4                  0           1.501038 -6.356489e-01               2   \n",
       "...              ...                ...           ...             ...   \n",
       "5105               1          -0.494609  4.615102e-16               2   \n",
       "5106               1           0.420734  1.442808e+00               2   \n",
       "5107               0          -0.511393  2.217146e-01               2   \n",
       "5108               0           1.328127 -4.278032e-01               0   \n",
       "5109               1          -0.460822 -3.498611e-01               2   \n",
       "\n",
       "      smoking_ord  \n",
       "0               1  \n",
       "1               0  \n",
       "2               0  \n",
       "3               2  \n",
       "4               0  \n",
       "...           ...  \n",
       "5105            0  \n",
       "5106            0  \n",
       "5107            0  \n",
       "5108            1  \n",
       "5109            1  \n",
       "\n",
       "[5110 rows x 10 columns]"
      ]
     },
     "execution_count": 245,
     "metadata": {},
     "output_type": "execute_result"
    }
   ],
   "source": [
    "#automatically done by one hot encoder\n",
    "def nominalize_features(df):\n",
    "    features = ['ever_married', 'Residence_type']\n",
    "    for feature in features:\n",
    "        le = LabelEncoder()\n",
    "        le = le.fit(df[feature])\n",
    "        df[feature] = le.transform(df[feature])\n",
    "    return df\n",
    "\n",
    "nominalize_features(X_stroke_df)"
   ]
  },
  {
   "cell_type": "code",
   "execution_count": 226,
   "id": "7678cc02",
   "metadata": {},
   "outputs": [
    {
     "data": {
      "text/html": [
       "<div>\n",
       "<style scoped>\n",
       "    .dataframe tbody tr th:only-of-type {\n",
       "        vertical-align: middle;\n",
       "    }\n",
       "\n",
       "    .dataframe tbody tr th {\n",
       "        vertical-align: top;\n",
       "    }\n",
       "\n",
       "    .dataframe thead th {\n",
       "        text-align: right;\n",
       "    }\n",
       "</style>\n",
       "<table border=\"1\" class=\"dataframe\">\n",
       "  <thead>\n",
       "    <tr style=\"text-align: right;\">\n",
       "      <th></th>\n",
       "      <th>age</th>\n",
       "      <th>hypertension</th>\n",
       "      <th>heart_disease</th>\n",
       "      <th>ever_married</th>\n",
       "      <th>work_type</th>\n",
       "      <th>Residence_type</th>\n",
       "      <th>avg_glucose_level</th>\n",
       "      <th>bmi</th>\n",
       "      <th>gender_ordinal</th>\n",
       "      <th>smoking_ord</th>\n",
       "    </tr>\n",
       "  </thead>\n",
       "  <tbody>\n",
       "    <tr>\n",
       "      <th>0</th>\n",
       "      <td>1.051331</td>\n",
       "      <td>0</td>\n",
       "      <td>1</td>\n",
       "      <td>1</td>\n",
       "      <td>Private</td>\n",
       "      <td>1</td>\n",
       "      <td>2.706111</td>\n",
       "      <td>1.001136e+00</td>\n",
       "      <td>0.0</td>\n",
       "      <td>1</td>\n",
       "    </tr>\n",
       "    <tr>\n",
       "      <th>1</th>\n",
       "      <td>0.785993</td>\n",
       "      <td>0</td>\n",
       "      <td>0</td>\n",
       "      <td>1</td>\n",
       "      <td>Self-employed</td>\n",
       "      <td>0</td>\n",
       "      <td>2.121351</td>\n",
       "      <td>4.615102e-16</td>\n",
       "      <td>1.0</td>\n",
       "      <td>0</td>\n",
       "    </tr>\n",
       "    <tr>\n",
       "      <th>2</th>\n",
       "      <td>1.626231</td>\n",
       "      <td>0</td>\n",
       "      <td>1</td>\n",
       "      <td>1</td>\n",
       "      <td>Private</td>\n",
       "      <td>0</td>\n",
       "      <td>-0.005028</td>\n",
       "      <td>4.685314e-01</td>\n",
       "      <td>0.0</td>\n",
       "      <td>0</td>\n",
       "    </tr>\n",
       "    <tr>\n",
       "      <th>3</th>\n",
       "      <td>0.255317</td>\n",
       "      <td>0</td>\n",
       "      <td>0</td>\n",
       "      <td>1</td>\n",
       "      <td>Private</td>\n",
       "      <td>1</td>\n",
       "      <td>1.437217</td>\n",
       "      <td>7.153482e-01</td>\n",
       "      <td>1.0</td>\n",
       "      <td>2</td>\n",
       "    </tr>\n",
       "    <tr>\n",
       "      <th>4</th>\n",
       "      <td>1.582008</td>\n",
       "      <td>1</td>\n",
       "      <td>0</td>\n",
       "      <td>1</td>\n",
       "      <td>Self-employed</td>\n",
       "      <td>0</td>\n",
       "      <td>1.501038</td>\n",
       "      <td>-6.356489e-01</td>\n",
       "      <td>1.0</td>\n",
       "      <td>0</td>\n",
       "    </tr>\n",
       "    <tr>\n",
       "      <th>...</th>\n",
       "      <td>...</td>\n",
       "      <td>...</td>\n",
       "      <td>...</td>\n",
       "      <td>...</td>\n",
       "      <td>...</td>\n",
       "      <td>...</td>\n",
       "      <td>...</td>\n",
       "      <td>...</td>\n",
       "      <td>...</td>\n",
       "      <td>...</td>\n",
       "    </tr>\n",
       "    <tr>\n",
       "      <th>5105</th>\n",
       "      <td>1.626231</td>\n",
       "      <td>1</td>\n",
       "      <td>0</td>\n",
       "      <td>1</td>\n",
       "      <td>Private</td>\n",
       "      <td>1</td>\n",
       "      <td>-0.494609</td>\n",
       "      <td>4.615102e-16</td>\n",
       "      <td>1.0</td>\n",
       "      <td>0</td>\n",
       "    </tr>\n",
       "    <tr>\n",
       "      <th>5106</th>\n",
       "      <td>1.670454</td>\n",
       "      <td>0</td>\n",
       "      <td>0</td>\n",
       "      <td>1</td>\n",
       "      <td>Self-employed</td>\n",
       "      <td>1</td>\n",
       "      <td>0.420734</td>\n",
       "      <td>1.442808e+00</td>\n",
       "      <td>1.0</td>\n",
       "      <td>0</td>\n",
       "    </tr>\n",
       "    <tr>\n",
       "      <th>5107</th>\n",
       "      <td>-0.363806</td>\n",
       "      <td>0</td>\n",
       "      <td>0</td>\n",
       "      <td>1</td>\n",
       "      <td>Self-employed</td>\n",
       "      <td>0</td>\n",
       "      <td>-0.511393</td>\n",
       "      <td>2.217146e-01</td>\n",
       "      <td>1.0</td>\n",
       "      <td>0</td>\n",
       "    </tr>\n",
       "    <tr>\n",
       "      <th>5108</th>\n",
       "      <td>0.343763</td>\n",
       "      <td>0</td>\n",
       "      <td>0</td>\n",
       "      <td>1</td>\n",
       "      <td>Private</td>\n",
       "      <td>0</td>\n",
       "      <td>1.328127</td>\n",
       "      <td>-4.278032e-01</td>\n",
       "      <td>0.0</td>\n",
       "      <td>1</td>\n",
       "    </tr>\n",
       "    <tr>\n",
       "      <th>5109</th>\n",
       "      <td>0.034201</td>\n",
       "      <td>0</td>\n",
       "      <td>0</td>\n",
       "      <td>1</td>\n",
       "      <td>Govt_job</td>\n",
       "      <td>1</td>\n",
       "      <td>-0.460822</td>\n",
       "      <td>-3.498611e-01</td>\n",
       "      <td>1.0</td>\n",
       "      <td>1</td>\n",
       "    </tr>\n",
       "  </tbody>\n",
       "</table>\n",
       "<p>5110 rows × 10 columns</p>\n",
       "</div>"
      ],
      "text/plain": [
       "           age  hypertension  heart_disease  ever_married      work_type  \\\n",
       "0     1.051331             0              1             1        Private   \n",
       "1     0.785993             0              0             1  Self-employed   \n",
       "2     1.626231             0              1             1        Private   \n",
       "3     0.255317             0              0             1        Private   \n",
       "4     1.582008             1              0             1  Self-employed   \n",
       "...        ...           ...            ...           ...            ...   \n",
       "5105  1.626231             1              0             1        Private   \n",
       "5106  1.670454             0              0             1  Self-employed   \n",
       "5107 -0.363806             0              0             1  Self-employed   \n",
       "5108  0.343763             0              0             1        Private   \n",
       "5109  0.034201             0              0             1       Govt_job   \n",
       "\n",
       "      Residence_type  avg_glucose_level           bmi  gender_ordinal  \\\n",
       "0                  1           2.706111  1.001136e+00             0.0   \n",
       "1                  0           2.121351  4.615102e-16             1.0   \n",
       "2                  0          -0.005028  4.685314e-01             0.0   \n",
       "3                  1           1.437217  7.153482e-01             1.0   \n",
       "4                  0           1.501038 -6.356489e-01             1.0   \n",
       "...              ...                ...           ...             ...   \n",
       "5105               1          -0.494609  4.615102e-16             1.0   \n",
       "5106               1           0.420734  1.442808e+00             1.0   \n",
       "5107               0          -0.511393  2.217146e-01             1.0   \n",
       "5108               0           1.328127 -4.278032e-01             0.0   \n",
       "5109               1          -0.460822 -3.498611e-01             1.0   \n",
       "\n",
       "      smoking_ord  \n",
       "0               1  \n",
       "1               0  \n",
       "2               0  \n",
       "3               2  \n",
       "4               0  \n",
       "...           ...  \n",
       "5105            0  \n",
       "5106            0  \n",
       "5107            0  \n",
       "5108            1  \n",
       "5109            1  \n",
       "\n",
       "[5110 rows x 10 columns]"
      ]
     },
     "execution_count": 226,
     "metadata": {},
     "output_type": "execute_result"
    }
   ],
   "source": [
    "X_stroke_df"
   ]
  },
  {
   "cell_type": "code",
   "execution_count": 156,
   "id": "8c2f6d65",
   "metadata": {},
   "outputs": [
    {
     "name": "stdout",
     "output_type": "stream",
     "text": [
      "<class 'pandas.core.frame.DataFrame'>\n",
      "RangeIndex: 5110 entries, 0 to 5109\n",
      "Data columns (total 10 columns):\n",
      " #   Column             Non-Null Count  Dtype  \n",
      "---  ------             --------------  -----  \n",
      " 0   age                5110 non-null   float64\n",
      " 1   hypertension       5110 non-null   int64  \n",
      " 2   heart_disease      5110 non-null   int64  \n",
      " 3   ever_married       5110 non-null   int32  \n",
      " 4   work_type          5110 non-null   object \n",
      " 5   Residence_type     5110 non-null   int32  \n",
      " 6   avg_glucose_level  5110 non-null   float64\n",
      " 7   bmi                5110 non-null   float64\n",
      " 8   smoking_ordinal    5110 non-null   int64  \n",
      " 9   gender_ordinal     5110 non-null   float64\n",
      "dtypes: float64(4), int32(2), int64(3), object(1)\n",
      "memory usage: 359.4+ KB\n",
      "<class 'pandas.core.frame.DataFrame'>\n",
      "RangeIndex: 5110 entries, 0 to 5109\n",
      "Data columns (total 14 columns):\n",
      " #   Column                           Non-Null Count  Dtype  \n",
      "---  ------                           --------------  -----  \n",
      " 0   onehotencoder__x0_Govt_job       5110 non-null   float64\n",
      " 1   onehotencoder__x0_Never_worked   5110 non-null   float64\n",
      " 2   onehotencoder__x0_Private        5110 non-null   float64\n",
      " 3   onehotencoder__x0_Self-employed  5110 non-null   float64\n",
      " 4   onehotencoder__x0_children       5110 non-null   float64\n",
      " 5   age                              5110 non-null   float64\n",
      " 6   hypertension                     5110 non-null   float64\n",
      " 7   heart_disease                    5110 non-null   float64\n",
      " 8   ever_married                     5110 non-null   float64\n",
      " 9   Residence_type                   5110 non-null   float64\n",
      " 10  avg_glucose_level                5110 non-null   float64\n",
      " 11  bmi                              5110 non-null   float64\n",
      " 12  smoking_ordinal                  5110 non-null   float64\n",
      " 13  gender_ordinal                   5110 non-null   float64\n",
      "dtypes: float64(14)\n",
      "memory usage: 559.0 KB\n"
     ]
    }
   ],
   "source": [
    "X_stroke_df.info()\n",
    "X_transformed_df.info()"
   ]
  },
  {
   "cell_type": "code",
   "execution_count": 571,
   "id": "c04da7b8",
   "metadata": {},
   "outputs": [
    {
     "data": {
      "text/plain": [
       "0    4861\n",
       "1     249\n",
       "Name: stroke, dtype: int64"
      ]
     },
     "execution_count": 571,
     "metadata": {},
     "output_type": "execute_result"
    }
   ],
   "source": [
    "y_stroke_df.value_counts()"
   ]
  },
  {
   "cell_type": "code",
   "execution_count": 570,
   "id": "6b15ba00",
   "metadata": {},
   "outputs": [
    {
     "data": {
      "text/plain": [
       "<AxesSubplot:>"
      ]
     },
     "execution_count": 570,
     "metadata": {},
     "output_type": "execute_result"
    },
    {
     "data": {
      "image/png": "[encoded data removed]",
      "text/plain": [
       "<Figure size 432x288 with 1 Axes>"
      ]
     },
     "metadata": {
      "needs_background": "light"
     },
     "output_type": "display_data"
    }
   ],
   "source": [
    "y_stroke_df.value_counts().sort_index().plot(kind='bar')"
   ]
  },
  {
   "cell_type": "code",
   "execution_count": 569,
   "id": "8efdb523",
   "metadata": {},
   "outputs": [
    {
     "data": {
      "text/plain": [
       "<AxesSubplot:>"
      ]
     },
     "execution_count": 569,
     "metadata": {},
     "output_type": "execute_result"
    },
    {
     "data": {
      "image/png": "[encoded data removed]",
      "text/plain": [
       "<Figure size 432x288 with 1 Axes>"
      ]
     },
     "metadata": {
      "needs_background": "light"
     },
     "output_type": "display_data"
    }
   ],
   "source": [
    "y_stroke_df.hist()"
   ]
  },
  {
   "cell_type": "code",
   "execution_count": 578,
   "id": "72e82e8c",
   "metadata": {},
   "outputs": [
    {
     "data": {
      "text/plain": [
       "<AxesSubplot:ylabel='Frequency'>"
      ]
     },
     "execution_count": 578,
     "metadata": {},
     "output_type": "execute_result"
    },
    {
     "data": {
      "image/png": "[encoded data removed]",
      "text/plain": [
       "<Figure size 432x288 with 1 Axes>"
      ]
     },
     "metadata": {
      "needs_background": "light"
     },
     "output_type": "display_data"
    }
   ],
   "source": [
    "X_stroke_df['age'].plot(kind='hist')"
   ]
  },
  {
   "cell_type": "code",
   "execution_count": 579,
   "id": "7d778c52",
   "metadata": {},
   "outputs": [
    {
     "data": {
      "text/plain": [
       "<AxesSubplot:xlabel='age'>"
      ]
     },
     "execution_count": 579,
     "metadata": {},
     "output_type": "execute_result"
    },
    {
     "data": {
      "image/png": "[encoded data removed]",
      "text/plain": [
       "<Figure size 432x288 with 1 Axes>"
      ]
     },
     "metadata": {
      "needs_background": "light"
     },
     "output_type": "display_data"
    }
   ],
   "source": [
    "sns.boxplot(X_stroke_df['age'])"
   ]
  },
  {
   "cell_type": "code",
   "execution_count": 556,
   "id": "b279ffff",
   "metadata": {},
   "outputs": [
    {
     "data": {
      "text/plain": [
       "<AxesSubplot:ylabel='Frequency'>"
      ]
     },
     "execution_count": 556,
     "metadata": {},
     "output_type": "execute_result"
    },
    {
     "data": {
      "image/png": "[encoded data removed]",
      "text/plain": [
       "<Figure size 432x288 with 1 Axes>"
      ]
     },
     "metadata": {
      "needs_background": "light"
     },
     "output_type": "display_data"
    }
   ],
   "source": [
    "X_stroke_df['avg_glucose_level'].plot(kind='hist')"
   ]
  },
  {
   "cell_type": "code",
   "execution_count": 557,
   "id": "d49062c5",
   "metadata": {},
   "outputs": [
    {
     "data": {
      "text/plain": [
       "<AxesSubplot:ylabel='Frequency'>"
      ]
     },
     "execution_count": 557,
     "metadata": {},
     "output_type": "execute_result"
    },
    {
     "data": {
      "image/png": "[encoded data removed]",
      "text/plain": [
       "<Figure size 432x288 with 1 Axes>"
      ]
     },
     "metadata": {
      "needs_background": "light"
     },
     "output_type": "display_data"
    }
   ],
   "source": [
    "X_stroke_df['bmi'].plot(kind='hist')"
   ]
  },
  {
   "cell_type": "code",
   "execution_count": 56,
   "id": "180b932d",
   "metadata": {},
   "outputs": [
    {
     "name": "stdout",
     "output_type": "stream",
     "text": [
      "Requirement already satisfied: lightgbm in c:\\users\\kenta\\anaconda3\\lib\\site-packages (3.3.2)\n",
      "Requirement already satisfied: scikit-learn!=0.22.0 in c:\\users\\kenta\\anaconda3\\lib\\site-packages (from lightgbm) (1.0.2)\n",
      "Requirement already satisfied: scipy in c:\\users\\kenta\\anaconda3\\lib\\site-packages (from lightgbm) (1.7.3)\n",
      "Requirement already satisfied: wheel in c:\\users\\kenta\\anaconda3\\lib\\site-packages (from lightgbm) (0.37.1)\n",
      "Requirement already satisfied: numpy in c:\\users\\kenta\\anaconda3\\lib\\site-packages (from lightgbm) (1.21.5)\n",
      "Requirement already satisfied: threadpoolctl>=2.0.0 in c:\\users\\kenta\\anaconda3\\lib\\site-packages (from scikit-learn!=0.22.0->lightgbm) (2.2.0)\n",
      "Requirement already satisfied: joblib>=0.11 in c:\\users\\kenta\\anaconda3\\lib\\site-packages (from scikit-learn!=0.22.0->lightgbm) (1.1.0)\n"
     ]
    }
   ],
   "source": [
    "!pip install lightgbm"
   ]
  },
  {
   "cell_type": "code",
   "execution_count": 57,
   "id": "0d89c47f",
   "metadata": {},
   "outputs": [],
   "source": [
    "from imblearn.over_sampling import SMOTE"
   ]
  },
  {
   "cell_type": "code",
   "execution_count": 81,
   "id": "16195a52",
   "metadata": {},
   "outputs": [],
   "source": [
    "from sklearn.metrics import confusion_matrix, accuracy_score, precision_score, recall_score, f1_score\n",
    "from sklearn.metrics import roc_auc_score\n",
    "\n",
    "def get_clf_eval(y_test, pred=None, pred_proba=None):\n",
    "    confusion = confusion_matrix( y_test, pred)\n",
    "    accuracy = accuracy_score(y_test , pred)\n",
    "    precision = precision_score(y_test , pred)\n",
    "    recall = recall_score(y_test , pred)\n",
    "    f1 = f1_score(y_test,pred)\n",
    "    # Add ROC-AUC \n",
    "    roc_auc = roc_auc_score(y_test, pred_proba)\n",
    "    print('Covariance Matrix')\n",
    "    print(confusion)\n",
    "    # ROC-AUC print \n",
    "    print('Accuracy: {0:.4f}, Precision: {1:.4f}, Recall: {2:.4f},\\\n",
    "    F1: {3:.4f}, AUC:{4:.4f}'.format(accuracy, precision, recall, f1, roc_auc))"
   ]
  },
  {
   "cell_type": "code",
   "execution_count": 82,
   "id": "6662ae74",
   "metadata": {},
   "outputs": [],
   "source": [
    "def get_model_train_eval(model, ftr_train=None, ftr_test=None, tgt_train=None, tgt_test=None):\n",
    "    model.fit(ftr_train, tgt_train)\n",
    "    pred = model.predict(ftr_test)\n",
    "    pred_proba = model.predict_proba(ftr_test)[:, 1]\n",
    "    get_clf_eval(tgt_test, pred, pred_proba)"
   ]
  },
  {
   "cell_type": "code",
   "execution_count": 60,
   "id": "7a9cae38",
   "metadata": {},
   "outputs": [],
   "source": [
    "from sklearn.model_selection import train_test_split"
   ]
  },
  {
   "cell_type": "code",
   "execution_count": 246,
   "id": "bacc2275",
   "metadata": {},
   "outputs": [],
   "source": [
    "X_train, X_test, y_train, y_test = train_test_split(X_stroke_df, y_stroke_df, test_size=0.3, random_state=0, stratify=y_stroke_df)"
   ]
  },
  {
   "cell_type": "code",
   "execution_count": 249,
   "id": "7f2f1caf",
   "metadata": {},
   "outputs": [],
   "source": [
    "X_train, X_test, y_train, y_test = train_test_split(X_transformed_df, y_stroke_df, test_size=0.3, random_state=0, stratify=y_stroke_df)"
   ]
  },
  {
   "cell_type": "code",
   "execution_count": 250,
   "id": "58bd20f2",
   "metadata": {},
   "outputs": [
    {
     "data": {
      "text/plain": [
       "(3577, 14)"
      ]
     },
     "execution_count": 250,
     "metadata": {},
     "output_type": "execute_result"
    }
   ],
   "source": [
    "X_train.shape"
   ]
  },
  {
   "cell_type": "code",
   "execution_count": 251,
   "id": "c1a151b4",
   "metadata": {},
   "outputs": [
    {
     "data": {
      "text/plain": [
       "(1533, 14)"
      ]
     },
     "execution_count": 251,
     "metadata": {},
     "output_type": "execute_result"
    }
   ],
   "source": [
    "X_test.shape"
   ]
  },
  {
   "cell_type": "code",
   "execution_count": 252,
   "id": "e1e4c01c",
   "metadata": {},
   "outputs": [
    {
     "name": "stdout",
     "output_type": "stream",
     "text": [
      "Training Data Label Value Ratio\n",
      "0    95.135588\n",
      "1     4.864412\n",
      "Name: stroke, dtype: float64\n",
      "Testing Data Label Value Ratio\n",
      "0    95.107632\n",
      "1     4.892368\n",
      "Name: stroke, dtype: float64\n"
     ]
    }
   ],
   "source": [
    "print('Training Data Label Value Ratio')\n",
    "print(y_train.value_counts()/y_train.shape[0] * 100)\n",
    "print('Testing Data Label Value Ratio')\n",
    "print(y_test.value_counts()/y_test.shape[0] * 100)"
   ]
  },
  {
   "cell_type": "code",
   "execution_count": 255,
   "id": "3bd46c9a",
   "metadata": {},
   "outputs": [],
   "source": [
    "from imblearn.over_sampling import SMOTE\n",
    "sm = SMOTE(random_state=0)\n",
    "X_res, y_res = sm.fit_resample(X_train, y_train)"
   ]
  },
  {
   "cell_type": "code",
   "execution_count": 256,
   "id": "49d0bd9c",
   "metadata": {},
   "outputs": [
    {
     "data": {
      "text/plain": [
       "(6806, 14)"
      ]
     },
     "execution_count": 256,
     "metadata": {},
     "output_type": "execute_result"
    }
   ],
   "source": [
    "X_res.shape"
   ]
  },
  {
   "cell_type": "code",
   "execution_count": 76,
   "id": "75608ce8",
   "metadata": {},
   "outputs": [
    {
     "name": "stdout",
     "output_type": "stream",
     "text": [
      "Training Data Label Value Ratio\n",
      "0    50.0\n",
      "1    50.0\n",
      "Name: stroke, dtype: float64\n",
      "Testing Data Label Value Ratio\n",
      "0    95.107632\n",
      "1     4.892368\n",
      "Name: stroke, dtype: float64\n"
     ]
    }
   ],
   "source": [
    "print('Training Data Label Value Ratio')\n",
    "print(y_res.value_counts()/y_res.shape[0] * 100)\n",
    "print('Testing Data Label Value Ratio')\n",
    "print(y_test.value_counts()/y_test.shape[0] * 100)"
   ]
  },
  {
   "cell_type": "code",
   "execution_count": 79,
   "id": "48fac527",
   "metadata": {},
   "outputs": [
    {
     "name": "stdout",
     "output_type": "stream",
     "text": [
      "Requirement already satisfied: lightgbm in c:\\users\\kenta\\anaconda3\\lib\\site-packages (3.3.2)\n",
      "Requirement already satisfied: scipy in c:\\users\\kenta\\anaconda3\\lib\\site-packages (from lightgbm) (1.7.3)\n",
      "Requirement already satisfied: numpy in c:\\users\\kenta\\anaconda3\\lib\\site-packages (from lightgbm) (1.21.5)\n",
      "Requirement already satisfied: scikit-learn!=0.22.0 in c:\\users\\kenta\\anaconda3\\lib\\site-packages (from lightgbm) (1.0.2)\n",
      "Requirement already satisfied: wheel in c:\\users\\kenta\\anaconda3\\lib\\site-packages (from lightgbm) (0.37.1)\n",
      "Requirement already satisfied: joblib>=0.11 in c:\\users\\kenta\\anaconda3\\lib\\site-packages (from scikit-learn!=0.22.0->lightgbm) (1.1.0)\n",
      "Requirement already satisfied: threadpoolctl>=2.0.0 in c:\\users\\kenta\\anaconda3\\lib\\site-packages (from scikit-learn!=0.22.0->lightgbm) (2.2.0)\n"
     ]
    }
   ],
   "source": [
    "!pip install lightgbm"
   ]
  },
  {
   "cell_type": "code",
   "execution_count": 260,
   "id": "f9cbff13",
   "metadata": {},
   "outputs": [
    {
     "name": "stdout",
     "output_type": "stream",
     "text": [
      "Covariance Matrix\n",
      "[[1431   27]\n",
      " [  70    5]]\n",
      "Accuracy: 0.9367, Precision: 0.1562, Recall: 0.0667,    F1: 0.0935, AUC:0.7717\n"
     ]
    }
   ],
   "source": [
    "from lightgbm import LGBMClassifier\n",
    "lgbm_clf = LGBMClassifier(n_estimators=1000, num_leaves=64, n_jobs=-1, boost_from_average=False)\n",
    "get_model_train_eval(lgbm_clf, ftr_train=X_train, ftr_test=X_test, tgt_train=y_train, tgt_test=y_test)"
   ]
  },
  {
   "cell_type": "code",
   "execution_count": 259,
   "id": "9ea55cff",
   "metadata": {},
   "outputs": [
    {
     "name": "stdout",
     "output_type": "stream",
     "text": [
      "Covariance Matrix\n",
      "[[1411   47]\n",
      " [  65   10]]\n",
      "Accuracy: 0.9269, Precision: 0.1754, Recall: 0.1333,    F1: 0.1515, AUC:0.8058\n"
     ]
    }
   ],
   "source": [
    "from lightgbm import LGBMClassifier\n",
    "lgbm_clf = LGBMClassifier(n_estimators=1000, num_leaves=64, n_jobs=-1, boost_from_average=False)\n",
    "get_model_train_eval(lgbm_clf, ftr_train=X_res, ftr_test=X_test, tgt_train=y_res, tgt_test=y_test)"
   ]
  },
  {
   "cell_type": "code",
   "execution_count": 257,
   "id": "357a7c8b",
   "metadata": {},
   "outputs": [
    {
     "name": "stdout",
     "output_type": "stream",
     "text": [
      "[20]\ttraining's binary_logloss: 0.277008\tvalid_0's binary_logloss: 0.332704\n",
      "[40]\ttraining's binary_logloss: 0.15891\tvalid_0's binary_logloss: 0.240561\n",
      "[60]\ttraining's binary_logloss: 0.112408\tvalid_0's binary_logloss: 0.215007\n",
      "[80]\ttraining's binary_logloss: 0.0872248\tvalid_0's binary_logloss: 0.208936\n",
      "[100]\ttraining's binary_logloss: 0.0712515\tvalid_0's binary_logloss: 0.204697\n",
      "Covariance Matrix\n",
      "[[1437   21]\n",
      " [  74    1]]\n",
      "Accuracy: 0.9380, Precision: 0.0455, Recall: 0.0133,    F1: 0.0206, AUC:0.8309\n"
     ]
    }
   ],
   "source": [
    "log_model = LGBMClassifier(learning_rate=0.09,max_depth=-5,random_state=42)\n",
    "log_model.fit(X_res,y_res,eval_set=[(X_test,y_test),(X_res,y_res)],\n",
    "          verbose=20,eval_metric='logloss')\n",
    "get_model_train_eval(log_model, ftr_train=X_train, ftr_test=X_test, tgt_train=y_train, tgt_test=y_test)"
   ]
  },
  {
   "cell_type": "code",
   "execution_count": 258,
   "id": "7ce146b4",
   "metadata": {},
   "outputs": [
    {
     "name": "stdout",
     "output_type": "stream",
     "text": [
      "[20]\ttraining's binary_logloss: 0.277008\tvalid_0's binary_logloss: 0.332704\n",
      "[40]\ttraining's binary_logloss: 0.15891\tvalid_0's binary_logloss: 0.240561\n",
      "[60]\ttraining's binary_logloss: 0.112408\tvalid_0's binary_logloss: 0.215007\n",
      "[80]\ttraining's binary_logloss: 0.0872248\tvalid_0's binary_logloss: 0.208936\n",
      "[100]\ttraining's binary_logloss: 0.0712515\tvalid_0's binary_logloss: 0.204697\n",
      "Covariance Matrix\n",
      "[[1400   58]\n",
      " [  65   10]]\n",
      "Accuracy: 0.9198, Precision: 0.1471, Recall: 0.1333,    F1: 0.1399, AUC:0.7996\n"
     ]
    }
   ],
   "source": [
    "log_2_model = LGBMClassifier(learning_rate=0.09,max_depth=-5,random_state=42)\n",
    "log_2_model.fit(X_res,y_res,eval_set=[(X_test,y_test),(X_res,y_res)],\n",
    "          verbose=20,eval_metric='logloss')\n",
    "get_model_train_eval(log_2_model, ftr_train=X_res, ftr_test=X_test, tgt_train=y_res, tgt_test=y_test)"
   ]
  },
  {
   "cell_type": "code",
   "execution_count": 88,
   "id": "a32f5452",
   "metadata": {},
   "outputs": [],
   "source": [
    "import matplotlib.pyplot as plt\n",
    "import matplotlib.ticker as ticker\n",
    "from sklearn.metrics import precision_recall_curve\n",
    "%matplotlib inline\n",
    "\n",
    "def precision_recall_curve_plot(y_test , pred_proba_c1):\n",
    "    precisions, recalls, thresholds = precision_recall_curve( y_test, pred_proba_c1)\n",
    "    \n",
    "    plt.figure(figsize=(8,6))\n",
    "    threshold_boundary = thresholds.shape[0]\n",
    "    plt.plot(thresholds, precisions[0:threshold_boundary], linestyle='--', label='precision')\n",
    "    plt.plot(thresholds, recalls[0:threshold_boundary],label='recall')\n",
    "    \n",
    "    start, end = plt.xlim()\n",
    "    plt.xticks(np.round(np.arange(start, end, 0.1),2))\n",
    "    \n",
    "    plt.xlabel('Threshold value'); plt.ylabel('Precision and Recall value')\n",
    "    plt.legend(); plt.grid()\n",
    "    plt.show()"
   ]
  },
  {
   "cell_type": "code",
   "execution_count": 92,
   "id": "bb8c5b4a",
   "metadata": {},
   "outputs": [
    {
     "data": {
      "image/png": "[encoded data removed]",
      "text/plain": [
       "<Figure size 576x432 with 1 Axes>"
      ]
     },
     "metadata": {
      "needs_background": "light"
     },
     "output_type": "display_data"
    }
   ],
   "source": [
    "precision_recall_curve_plot( y_test, log_model.predict_proba(X_test)[:, 1] )"
   ]
  },
  {
   "cell_type": "code",
   "execution_count": 93,
   "id": "100eb552",
   "metadata": {},
   "outputs": [
    {
     "data": {
      "image/png": "[encoded data removed]",
      "text/plain": [
       "<Figure size 576x432 with 1 Axes>"
      ]
     },
     "metadata": {
      "needs_background": "light"
     },
     "output_type": "display_data"
    }
   ],
   "source": [
    "precision_recall_curve_plot( y_test, log_2_model.predict_proba(X_test)[:, 1] )"
   ]
  },
  {
   "cell_type": "code",
   "execution_count": 94,
   "id": "1378fae9",
   "metadata": {},
   "outputs": [
    {
     "data": {
      "image/png": "[encoded data removed]",
      "text/plain": [
       "<Figure size 576x432 with 1 Axes>"
      ]
     },
     "metadata": {
      "needs_background": "light"
     },
     "output_type": "display_data"
    }
   ],
   "source": [
    "precision_recall_curve_plot( y_test, lgbm_clf.predict_proba(X_test)[:, 1] )"
   ]
  },
  {
   "cell_type": "code",
   "execution_count": 157,
   "id": "3b298156",
   "metadata": {},
   "outputs": [],
   "source": [
    "X_tr_train, X_tr_test, y_train, y_test = train_test_split(X_transformed_df, y_stroke_df, test_size=0.3, random_state=0, stratify=y_stroke_df)"
   ]
  },
  {
   "cell_type": "code",
   "execution_count": 159,
   "id": "131588f5",
   "metadata": {},
   "outputs": [
    {
     "data": {
      "text/plain": [
       "(1533, 14)"
      ]
     },
     "execution_count": 159,
     "metadata": {},
     "output_type": "execute_result"
    }
   ],
   "source": [
    "X_tr_test.shape"
   ]
  },
  {
   "cell_type": "code",
   "execution_count": 162,
   "id": "5ffce62e",
   "metadata": {},
   "outputs": [],
   "source": [
    "X_res, y_res = sm.fit_resample(X_tr_train, y_train)"
   ]
  },
  {
   "cell_type": "code",
   "execution_count": 163,
   "id": "f5fa7a90",
   "metadata": {},
   "outputs": [
    {
     "data": {
      "text/plain": [
       "(6806, 14)"
      ]
     },
     "execution_count": 163,
     "metadata": {},
     "output_type": "execute_result"
    }
   ],
   "source": [
    "X_res.shape"
   ]
  },
  {
   "cell_type": "code",
   "execution_count": 164,
   "id": "7696725f",
   "metadata": {},
   "outputs": [
    {
     "name": "stdout",
     "output_type": "stream",
     "text": [
      "Training Data Label Value Ratio\n",
      "0    50.0\n",
      "1    50.0\n",
      "Name: stroke, dtype: float64\n",
      "Testing Data Label Value Ratio\n",
      "0    95.107632\n",
      "1     4.892368\n",
      "Name: stroke, dtype: float64\n"
     ]
    }
   ],
   "source": [
    "print('Training Data Label Value Ratio')\n",
    "print(y_res.value_counts()/y_res.shape[0] * 100)\n",
    "print('Testing Data Label Value Ratio')\n",
    "print(y_test.value_counts()/y_test.shape[0] * 100)"
   ]
  },
  {
   "cell_type": "code",
   "execution_count": 166,
   "id": "db485ed1",
   "metadata": {},
   "outputs": [
    {
     "name": "stdout",
     "output_type": "stream",
     "text": [
      "Covariance Matrix\n",
      "[[1405   53]\n",
      " [  65   10]]\n",
      "Accuracy: 0.9230, Precision: 0.1587, Recall: 0.1333,    F1: 0.1449, AUC:0.7941\n"
     ]
    }
   ],
   "source": [
    "from lightgbm import LGBMClassifier\n",
    "lgbm_clf = LGBMClassifier(n_estimators=1000, num_leaves=64, n_jobs=-1, boost_from_average=False)\n",
    "get_model_train_eval(lgbm_clf, ftr_train=X_res, ftr_test=X_tr_test, tgt_train=y_res, tgt_test=y_test)"
   ]
  },
  {
   "cell_type": "code",
   "execution_count": 701,
   "id": "ea04ae56",
   "metadata": {},
   "outputs": [
    {
     "name": "stdout",
     "output_type": "stream",
     "text": [
      "[20]\ttraining's binary_logloss: 0.280506\tvalid_0's binary_logloss: 0.330579\n",
      "[40]\ttraining's binary_logloss: 0.17085\tvalid_0's binary_logloss: 0.237388\n",
      "[60]\ttraining's binary_logloss: 0.124409\tvalid_0's binary_logloss: 0.210079\n",
      "[80]\ttraining's binary_logloss: 0.0993007\tvalid_0's binary_logloss: 0.198712\n",
      "[100]\ttraining's binary_logloss: 0.0820904\tvalid_0's binary_logloss: 0.195262\n",
      "Covariance Matrix\n",
      "[[947  25]\n",
      " [ 47   3]]\n",
      "Accuracy: 0.9295, Precision: 0.1071, Recall: 0.0600,    F1: 0.0769, AUC:0.8071\n"
     ]
    }
   ],
   "source": [
    "log_model = LGBMClassifier(learning_rate=0.09,max_depth=-5,random_state=42)\n",
    "log_model.fit(X_res,y_res,eval_set=[(X_test,y_test),(X_res,y_res)],\n",
    "          verbose=20,eval_metric='logloss')\n",
    "get_model_train_eval(log_model, ftr_train=X_res, ftr_test=X_test, tgt_train=y_res, tgt_test=y_test)"
   ]
  },
  {
   "cell_type": "code",
   "execution_count": 297,
   "id": "2948008c",
   "metadata": {},
   "outputs": [
    {
     "data": {
      "text/plain": [
       "(      onehotencoder__x0_Govt_job  onehotencoder__x0_Never_worked  \\\n",
       " 0                            0.0                             0.0   \n",
       " 1                            0.0                             0.0   \n",
       " 2                            0.0                             0.0   \n",
       " 3                            0.0                             0.0   \n",
       " 4                            0.0                             0.0   \n",
       " ...                          ...                             ...   \n",
       " 6801                         0.0                             0.0   \n",
       " 6802                         0.0                             0.0   \n",
       " 6803                         0.0                             0.0   \n",
       " 6804                         0.0                             0.0   \n",
       " 6805                         0.0                             0.0   \n",
       " \n",
       "       onehotencoder__x0_Private  onehotencoder__x0_Self-employed  \\\n",
       " 0                        1.0000                           0.0000   \n",
       " 1                        1.0000                           0.0000   \n",
       " 2                        0.0000                           1.0000   \n",
       " 3                        1.0000                           0.0000   \n",
       " 4                        1.0000                           0.0000   \n",
       " ...                         ...                              ...   \n",
       " 6801                     0.0000                           1.0000   \n",
       " 6802                     0.0000                           1.0000   \n",
       " 6803                     1.0000                           0.0000   \n",
       " 6804                     1.0000                           0.0000   \n",
       " 6805                     0.0556                           0.9444   \n",
       " \n",
       "       onehotencoder__x0_children       age  hypertension  heart_disease  \\\n",
       " 0                            0.0 -0.275360      0.000000       0.000000   \n",
       " 1                            0.0 -0.231137      1.000000       0.000000   \n",
       " 2                            0.0 -0.584921      0.000000       0.000000   \n",
       " 3                            0.0 -0.054245      0.000000       0.000000   \n",
       " 4                            0.0 -1.204044      0.000000       0.000000   \n",
       " ...                          ...       ...           ...            ...   \n",
       " 6801                         0.0  1.131848      1.000000       0.820683   \n",
       " 6802                         0.0  1.523103      0.667998       0.000000   \n",
       " 6803                         0.0  0.988385      0.000000       0.548051   \n",
       " 6804                         0.0  0.882455      0.000000       0.000000   \n",
       " 6805                         0.0  1.110307      0.000000       0.000000   \n",
       " \n",
       "       ever_married  Residence_type  avg_glucose_level       bmi  \\\n",
       " 0         1.000000             0.0          -0.720961 -0.362851   \n",
       " 1         1.000000             1.0           0.702072  1.676635   \n",
       " 2         1.000000             1.0          -0.650295 -0.609668   \n",
       " 3         1.000000             0.0           0.869020  0.377599   \n",
       " 4         0.000000             0.0          -0.347978 -0.310890   \n",
       " ...            ...             ...                ...       ...   \n",
       " 6801      0.000000             1.0          -0.720157  0.861730   \n",
       " 6802      1.000000             0.0           0.833178  0.568297   \n",
       " 6803      1.000000             1.0          -0.493942  0.064978   \n",
       " 6804      0.277083             1.0          -0.383736 -0.874319   \n",
       " 6805      1.000000             1.0          -0.631529 -0.153540   \n",
       " \n",
       "       gender_ordinal  smoking_ord  \n",
       " 0                2.0     1.000000  \n",
       " 1                2.0     0.000000  \n",
       " 2                2.0     0.000000  \n",
       " 3                0.0     1.000000  \n",
       " 4                0.0     0.000000  \n",
       " ...              ...          ...  \n",
       " 6801             2.0     0.000000  \n",
       " 6802             0.0     1.000000  \n",
       " 6803             0.0     1.548051  \n",
       " 6804             2.0     0.000000  \n",
       " 6805             0.0     2.000000  \n",
       " \n",
       " [6806 rows x 14 columns],\n",
       " 0       0\n",
       " 1       0\n",
       " 2       0\n",
       " 3       0\n",
       " 4       0\n",
       "        ..\n",
       " 6801    1\n",
       " 6802    1\n",
       " 6803    1\n",
       " 6804    1\n",
       " 6805    1\n",
       " Name: stroke, Length: 6806, dtype: int64,\n",
       "       onehotencoder__x0_Govt_job  onehotencoder__x0_Never_worked  \\\n",
       " 4075                         0.0                             0.0   \n",
       " 4277                         0.0                             0.0   \n",
       " 2376                         0.0                             0.0   \n",
       " 2162                         1.0                             0.0   \n",
       " 2513                         0.0                             0.0   \n",
       " ...                          ...                             ...   \n",
       " 45                           0.0                             0.0   \n",
       " 4850                         0.0                             0.0   \n",
       " 3845                         1.0                             0.0   \n",
       " 4908                         0.0                             0.0   \n",
       " 1664                         0.0                             0.0   \n",
       " \n",
       "       onehotencoder__x0_Private  onehotencoder__x0_Self-employed  \\\n",
       " 4075                        0.0                              0.0   \n",
       " 4277                        0.0                              0.0   \n",
       " 2376                        1.0                              0.0   \n",
       " 2162                        0.0                              0.0   \n",
       " 2513                        1.0                              0.0   \n",
       " ...                         ...                              ...   \n",
       " 45                          1.0                              0.0   \n",
       " 4850                        0.0                              0.0   \n",
       " 3845                        0.0                              0.0   \n",
       " 4908                        0.0                              1.0   \n",
       " 1664                        1.0                              0.0   \n",
       " \n",
       "       onehotencoder__x0_children       age  hypertension  heart_disease  \\\n",
       " 4075                         1.0 -1.557828           0.0            0.0   \n",
       " 4277                         1.0 -1.823166           0.0            0.0   \n",
       " 2376                         0.0  0.564878           0.0            0.0   \n",
       " 2162                         0.0  0.166871           0.0            0.0   \n",
       " 2513                         0.0 -0.673367           0.0            0.0   \n",
       " ...                          ...       ...           ...            ...   \n",
       " 45                           0.0  1.449339           1.0            0.0   \n",
       " 4850                         1.0 -1.292490           0.0            0.0   \n",
       " 3845                         0.0 -0.054245           0.0            0.0   \n",
       " 4908                         0.0  1.139777           0.0            0.0   \n",
       " 1664                         0.0  1.095554           0.0            0.0   \n",
       " \n",
       "       ever_married  Residence_type  avg_glucose_level       bmi  \\\n",
       " 4075           0.0             0.0          -0.080552 -1.635906   \n",
       " 4277           0.0             0.0           0.441050 -0.531726   \n",
       " 2376           1.0             0.0          -0.436973 -0.155006   \n",
       " 2162           1.0             1.0           0.357135 -0.648639   \n",
       " 2513           0.0             1.0          -0.676795 -0.245938   \n",
       " ...            ...             ...                ...       ...   \n",
       " 45             1.0             0.0           3.034928  0.611425   \n",
       " 4850           0.0             1.0          -0.138630 -0.479765   \n",
       " 3845           1.0             1.0          -0.137085  0.585445   \n",
       " 4908           1.0             1.0          -0.852355  1.195991   \n",
       " 1664           1.0             1.0          -0.059352  0.910204   \n",
       " \n",
       "       smoking_ordinal  gender_ordinal  \n",
       " 4075              1.0             1.0  \n",
       " 4277              1.0             1.0  \n",
       " 2376              1.0             0.0  \n",
       " 2162              1.0             1.0  \n",
       " 2513              2.0             0.0  \n",
       " ...               ...             ...  \n",
       " 45                0.0             0.0  \n",
       " 4850              1.0             0.0  \n",
       " 3845              0.0             1.0  \n",
       " 4908              1.0             1.0  \n",
       " 1664              0.0             1.0  \n",
       " \n",
       " [1533 rows x 14 columns],\n",
       " 4075    0\n",
       " 4277    0\n",
       " 2376    0\n",
       " 2162    0\n",
       " 2513    0\n",
       "        ..\n",
       " 45      1\n",
       " 4850    0\n",
       " 3845    0\n",
       " 4908    0\n",
       " 1664    0\n",
       " Name: stroke, Length: 1533, dtype: int64)"
      ]
     },
     "execution_count": 297,
     "metadata": {},
     "output_type": "execute_result"
    }
   ],
   "source": [
    "X_res, y_res, X_tr_test, y_test"
   ]
  },
  {
   "cell_type": "code",
   "execution_count": 286,
   "id": "a9e28d09",
   "metadata": {},
   "outputs": [],
   "source": [
    "import tensorflow as tf\n",
    "from tensorflow.keras.models import Sequential\n",
    "from tensorflow.keras.layers import Dense\n",
    "from tensorflow.keras.activations import linear, relu, sigmoid\n",
    "import matplotlib.pyplot as plt\n",
    "\n",
    "import logging\n",
    "logging.getLogger(\"tensorflow\").setLevel(logging.ERROR)\n",
    "tf.autograph.set_verbosity(0)"
   ]
  },
  {
   "cell_type": "code",
   "execution_count": 287,
   "id": "39e5d0a8",
   "metadata": {},
   "outputs": [],
   "source": [
    "tf.random.set_seed(1)"
   ]
  },
  {
   "cell_type": "code",
   "execution_count": 695,
   "id": "902bc400",
   "metadata": {},
   "outputs": [],
   "source": [
    "model = Sequential(\n",
    "    [\n",
    "        tf.keras.Input(shape=(14,)),\n",
    "        tf.keras.layers.Dense(units=6, activation=\"relu\"),\n",
    "        tf.keras.layers.Dense(units=1, activation=\"sigmoid\")\n",
    "    ], name=\"my_model\"\n",
    ")"
   ]
  },
  {
   "cell_type": "code",
   "execution_count": 696,
   "id": "e0f8d38b",
   "metadata": {},
   "outputs": [
    {
     "name": "stdout",
     "output_type": "stream",
     "text": [
      "Model: \"my_model\"\n",
      "_________________________________________________________________\n",
      " Layer (type)                Output Shape              Param #   \n",
      "=================================================================\n",
      " dense_13 (Dense)            (None, 6)                 90        \n",
      "                                                                 \n",
      " dense_14 (Dense)            (None, 1)                 7         \n",
      "                                                                 \n",
      "=================================================================\n",
      "Total params: 97\n",
      "Trainable params: 97\n",
      "Non-trainable params: 0\n",
      "_________________________________________________________________\n"
     ]
    }
   ],
   "source": [
    "model.summary()"
   ]
  },
  {
   "cell_type": "code",
   "execution_count": 697,
   "id": "c0383b1a",
   "metadata": {},
   "outputs": [],
   "source": [
    "model.compile(\n",
    "  'adam',\n",
    "  loss='binary_crossentropy',\n",
    "  metrics=['accuracy', tf.keras.metrics.AUC()],\n",
    ")"
   ]
  },
  {
   "cell_type": "code",
   "execution_count": 698,
   "id": "eccd7d2d",
   "metadata": {},
   "outputs": [
    {
     "name": "stdout",
     "output_type": "stream",
     "text": [
      "Epoch 1/200\n",
      "244/244 [==============================] - 1s 4ms/step - loss: 0.7318 - accuracy: 0.5833 - auc_5: 0.5856 - val_loss: 0.5353 - val_accuracy: 0.7202 - val_auc_5: 0.6046\n",
      "Epoch 2/200\n",
      "244/244 [==============================] - 1s 3ms/step - loss: 0.5567 - accuracy: 0.7083 - auc_5: 0.7888 - val_loss: 0.5079 - val_accuracy: 0.6908 - val_auc_5: 0.7144\n",
      "Epoch 3/200\n",
      "244/244 [==============================] - 1s 3ms/step - loss: 0.4888 - accuracy: 0.7825 - auc_5: 0.8410 - val_loss: 0.4775 - val_accuracy: 0.7045 - val_auc_5: 0.7589\n",
      "Epoch 4/200\n",
      "244/244 [==============================] - 1s 3ms/step - loss: 0.4525 - accuracy: 0.8008 - auc_5: 0.8609 - val_loss: 0.4643 - val_accuracy: 0.7280 - val_auc_5: 0.7870\n",
      "Epoch 5/200\n",
      "244/244 [==============================] - 1s 3ms/step - loss: 0.4299 - accuracy: 0.8110 - auc_5: 0.8733 - val_loss: 0.4507 - val_accuracy: 0.7485 - val_auc_5: 0.7974\n",
      "Epoch 6/200\n",
      "244/244 [==============================] - 1s 3ms/step - loss: 0.4186 - accuracy: 0.8163 - auc_5: 0.8797 - val_loss: 0.4698 - val_accuracy: 0.7446 - val_auc_5: 0.8000\n",
      "Epoch 7/200\n",
      "244/244 [==============================] - 1s 3ms/step - loss: 0.4123 - accuracy: 0.8186 - auc_5: 0.8830 - val_loss: 0.4518 - val_accuracy: 0.7495 - val_auc_5: 0.8015\n",
      "Epoch 8/200\n",
      "244/244 [==============================] - 1s 3ms/step - loss: 0.4082 - accuracy: 0.8224 - auc_5: 0.8850 - val_loss: 0.4553 - val_accuracy: 0.7524 - val_auc_5: 0.8003\n",
      "Epoch 9/200\n",
      "244/244 [==============================] - 1s 3ms/step - loss: 0.4056 - accuracy: 0.8213 - auc_5: 0.8865 - val_loss: 0.4414 - val_accuracy: 0.7593 - val_auc_5: 0.7998\n",
      "Epoch 10/200\n",
      "244/244 [==============================] - 1s 3ms/step - loss: 0.4035 - accuracy: 0.8246 - auc_5: 0.8872 - val_loss: 0.4468 - val_accuracy: 0.7613 - val_auc_5: 0.7984\n",
      "Epoch 11/200\n",
      "244/244 [==============================] - 1s 3ms/step - loss: 0.4013 - accuracy: 0.8266 - auc_5: 0.8885 - val_loss: 0.4616 - val_accuracy: 0.7495 - val_auc_5: 0.7987\n",
      "Epoch 12/200\n",
      "244/244 [==============================] - 1s 3ms/step - loss: 0.4000 - accuracy: 0.8253 - auc_5: 0.8893 - val_loss: 0.4642 - val_accuracy: 0.7495 - val_auc_5: 0.7979\n",
      "Epoch 13/200\n",
      "244/244 [==============================] - 1s 3ms/step - loss: 0.3985 - accuracy: 0.8269 - auc_5: 0.8903 - val_loss: 0.4443 - val_accuracy: 0.7622 - val_auc_5: 0.7956\n",
      "Epoch 14/200\n",
      "244/244 [==============================] - 1s 3ms/step - loss: 0.3972 - accuracy: 0.8276 - auc_5: 0.8909 - val_loss: 0.4493 - val_accuracy: 0.7593 - val_auc_5: 0.7966\n",
      "Epoch 15/200\n",
      "244/244 [==============================] - 1s 3ms/step - loss: 0.3960 - accuracy: 0.8278 - auc_5: 0.8915 - val_loss: 0.4460 - val_accuracy: 0.7642 - val_auc_5: 0.7963\n",
      "Epoch 16/200\n",
      "244/244 [==============================] - 1s 3ms/step - loss: 0.3948 - accuracy: 0.8287 - auc_5: 0.8923 - val_loss: 0.4513 - val_accuracy: 0.7613 - val_auc_5: 0.7949\n",
      "Epoch 17/200\n",
      "244/244 [==============================] - 1s 3ms/step - loss: 0.3936 - accuracy: 0.8303 - auc_5: 0.8929 - val_loss: 0.4448 - val_accuracy: 0.7632 - val_auc_5: 0.7944\n",
      "Epoch 18/200\n",
      "244/244 [==============================] - 1s 3ms/step - loss: 0.3922 - accuracy: 0.8327 - auc_5: 0.8938 - val_loss: 0.4532 - val_accuracy: 0.7642 - val_auc_5: 0.7938\n",
      "Epoch 19/200\n",
      "244/244 [==============================] - 1s 3ms/step - loss: 0.3914 - accuracy: 0.8313 - auc_5: 0.8941 - val_loss: 0.4469 - val_accuracy: 0.7671 - val_auc_5: 0.7931\n",
      "Epoch 20/200\n",
      "244/244 [==============================] - 1s 3ms/step - loss: 0.3904 - accuracy: 0.8321 - auc_5: 0.8946 - val_loss: 0.4436 - val_accuracy: 0.7710 - val_auc_5: 0.7922\n",
      "Epoch 21/200\n",
      "244/244 [==============================] - 1s 3ms/step - loss: 0.3894 - accuracy: 0.8320 - auc_5: 0.8952 - val_loss: 0.4463 - val_accuracy: 0.7691 - val_auc_5: 0.7925\n",
      "Epoch 22/200\n",
      "244/244 [==============================] - 1s 3ms/step - loss: 0.3881 - accuracy: 0.8329 - auc_5: 0.8959 - val_loss: 0.4193 - val_accuracy: 0.7808 - val_auc_5: 0.7907\n",
      "Epoch 23/200\n",
      "244/244 [==============================] - 1s 3ms/step - loss: 0.3877 - accuracy: 0.8336 - auc_5: 0.8962 - val_loss: 0.4352 - val_accuracy: 0.7750 - val_auc_5: 0.7899\n",
      "Epoch 24/200\n",
      "244/244 [==============================] - 1s 3ms/step - loss: 0.3867 - accuracy: 0.8322 - auc_5: 0.8969 - val_loss: 0.4292 - val_accuracy: 0.7798 - val_auc_5: 0.7923\n",
      "Epoch 25/200\n",
      "244/244 [==============================] - 1s 3ms/step - loss: 0.3861 - accuracy: 0.8332 - auc_5: 0.8968 - val_loss: 0.4388 - val_accuracy: 0.7720 - val_auc_5: 0.7906\n",
      "Epoch 26/200\n",
      "244/244 [==============================] - 1s 3ms/step - loss: 0.3852 - accuracy: 0.8326 - auc_5: 0.8974 - val_loss: 0.4450 - val_accuracy: 0.7701 - val_auc_5: 0.7898\n",
      "Epoch 27/200\n",
      "244/244 [==============================] - 1s 3ms/step - loss: 0.3847 - accuracy: 0.8336 - auc_5: 0.8977 - val_loss: 0.4423 - val_accuracy: 0.7710 - val_auc_5: 0.7884\n",
      "Epoch 28/200\n",
      "244/244 [==============================] - 1s 3ms/step - loss: 0.3841 - accuracy: 0.8334 - auc_5: 0.8980 - val_loss: 0.4313 - val_accuracy: 0.7808 - val_auc_5: 0.7876\n",
      "Epoch 29/200\n",
      "244/244 [==============================] - 1s 3ms/step - loss: 0.3836 - accuracy: 0.8323 - auc_5: 0.8981 - val_loss: 0.4500 - val_accuracy: 0.7671 - val_auc_5: 0.7892\n",
      "Epoch 30/200\n",
      "244/244 [==============================] - 1s 3ms/step - loss: 0.3829 - accuracy: 0.8334 - auc_5: 0.8986 - val_loss: 0.4332 - val_accuracy: 0.7789 - val_auc_5: 0.7874\n",
      "Epoch 31/200\n",
      "244/244 [==============================] - 1s 3ms/step - loss: 0.3824 - accuracy: 0.8334 - auc_5: 0.8988 - val_loss: 0.4353 - val_accuracy: 0.7750 - val_auc_5: 0.7865\n",
      "Epoch 32/200\n",
      "244/244 [==============================] - 1s 3ms/step - loss: 0.3821 - accuracy: 0.8331 - auc_5: 0.8986 - val_loss: 0.4298 - val_accuracy: 0.7789 - val_auc_5: 0.7857\n",
      "Epoch 33/200\n",
      "244/244 [==============================] - 1s 3ms/step - loss: 0.3818 - accuracy: 0.8336 - auc_5: 0.8990 - val_loss: 0.4343 - val_accuracy: 0.7789 - val_auc_5: 0.7862\n",
      "Epoch 34/200\n",
      "244/244 [==============================] - 1s 3ms/step - loss: 0.3814 - accuracy: 0.8331 - auc_5: 0.8992 - val_loss: 0.4395 - val_accuracy: 0.7779 - val_auc_5: 0.7854\n",
      "Epoch 35/200\n",
      "244/244 [==============================] - 1s 3ms/step - loss: 0.3811 - accuracy: 0.8329 - auc_5: 0.8994 - val_loss: 0.4435 - val_accuracy: 0.7750 - val_auc_5: 0.7850\n",
      "Epoch 36/200\n",
      "244/244 [==============================] - 1s 3ms/step - loss: 0.3809 - accuracy: 0.8322 - auc_5: 0.8991 - val_loss: 0.4430 - val_accuracy: 0.7759 - val_auc_5: 0.7848\n",
      "Epoch 37/200\n",
      "244/244 [==============================] - 1s 3ms/step - loss: 0.3806 - accuracy: 0.8331 - auc_5: 0.8998 - val_loss: 0.4507 - val_accuracy: 0.7720 - val_auc_5: 0.7856\n",
      "Epoch 38/200\n",
      "244/244 [==============================] - 1s 3ms/step - loss: 0.3801 - accuracy: 0.8322 - auc_5: 0.8998 - val_loss: 0.4257 - val_accuracy: 0.7838 - val_auc_5: 0.7839\n",
      "Epoch 39/200\n",
      "244/244 [==============================] - 1s 3ms/step - loss: 0.3800 - accuracy: 0.8341 - auc_5: 0.8999 - val_loss: 0.4383 - val_accuracy: 0.7789 - val_auc_5: 0.7833\n",
      "Epoch 40/200\n",
      "244/244 [==============================] - 1s 3ms/step - loss: 0.3796 - accuracy: 0.8331 - auc_5: 0.9002 - val_loss: 0.4543 - val_accuracy: 0.7701 - val_auc_5: 0.7848\n",
      "Epoch 41/200\n",
      "244/244 [==============================] - 1s 3ms/step - loss: 0.3796 - accuracy: 0.8339 - auc_5: 0.8999 - val_loss: 0.4367 - val_accuracy: 0.7808 - val_auc_5: 0.7815\n",
      "Epoch 42/200\n",
      "244/244 [==============================] - 1s 3ms/step - loss: 0.3794 - accuracy: 0.8336 - auc_5: 0.9001 - val_loss: 0.4234 - val_accuracy: 0.7886 - val_auc_5: 0.7802\n",
      "Epoch 43/200\n",
      "244/244 [==============================] - 1s 3ms/step - loss: 0.3792 - accuracy: 0.8331 - auc_5: 0.9005 - val_loss: 0.4499 - val_accuracy: 0.7750 - val_auc_5: 0.7818\n",
      "Epoch 44/200\n",
      "244/244 [==============================] - 1s 3ms/step - loss: 0.3790 - accuracy: 0.8332 - auc_5: 0.9005 - val_loss: 0.4600 - val_accuracy: 0.7661 - val_auc_5: 0.7849\n",
      "Epoch 45/200\n",
      "244/244 [==============================] - 1s 3ms/step - loss: 0.3789 - accuracy: 0.8340 - auc_5: 0.9004 - val_loss: 0.4407 - val_accuracy: 0.7789 - val_auc_5: 0.7850\n",
      "Epoch 46/200\n"
     ]
    },
    {
     "name": "stdout",
     "output_type": "stream",
     "text": [
      "244/244 [==============================] - 1s 3ms/step - loss: 0.3787 - accuracy: 0.8347 - auc_5: 0.9005 - val_loss: 0.4453 - val_accuracy: 0.7779 - val_auc_5: 0.7833\n",
      "Epoch 47/200\n",
      "244/244 [==============================] - 1s 3ms/step - loss: 0.3782 - accuracy: 0.8325 - auc_5: 0.9008 - val_loss: 0.4512 - val_accuracy: 0.7740 - val_auc_5: 0.7840\n",
      "Epoch 48/200\n",
      "244/244 [==============================] - 1s 3ms/step - loss: 0.3782 - accuracy: 0.8340 - auc_5: 0.9009 - val_loss: 0.4477 - val_accuracy: 0.7789 - val_auc_5: 0.7819\n",
      "Epoch 49/200\n",
      "244/244 [==============================] - 1s 3ms/step - loss: 0.3781 - accuracy: 0.8326 - auc_5: 0.9010 - val_loss: 0.4507 - val_accuracy: 0.7759 - val_auc_5: 0.7821\n",
      "Epoch 50/200\n",
      "244/244 [==============================] - 1s 3ms/step - loss: 0.3780 - accuracy: 0.8341 - auc_5: 0.9009 - val_loss: 0.4494 - val_accuracy: 0.7798 - val_auc_5: 0.7820\n",
      "Epoch 51/200\n",
      "244/244 [==============================] - 1s 3ms/step - loss: 0.3776 - accuracy: 0.8339 - auc_5: 0.9011 - val_loss: 0.4418 - val_accuracy: 0.7838 - val_auc_5: 0.7816\n",
      "Epoch 52/200\n",
      "244/244 [==============================] - 1s 3ms/step - loss: 0.3778 - accuracy: 0.8323 - auc_5: 0.9010 - val_loss: 0.4501 - val_accuracy: 0.7779 - val_auc_5: 0.7814\n",
      "Epoch 53/200\n",
      "244/244 [==============================] - 1s 3ms/step - loss: 0.3774 - accuracy: 0.8348 - auc_5: 0.9013 - val_loss: 0.4364 - val_accuracy: 0.7808 - val_auc_5: 0.7801\n",
      "Epoch 54/200\n",
      "244/244 [==============================] - 1s 3ms/step - loss: 0.3773 - accuracy: 0.8338 - auc_5: 0.9012 - val_loss: 0.4515 - val_accuracy: 0.7750 - val_auc_5: 0.7822\n",
      "Epoch 55/200\n",
      "244/244 [==============================] - 1s 3ms/step - loss: 0.3776 - accuracy: 0.8334 - auc_5: 0.9012 - val_loss: 0.4356 - val_accuracy: 0.7838 - val_auc_5: 0.7812\n",
      "Epoch 56/200\n",
      "244/244 [==============================] - 1s 3ms/step - loss: 0.3772 - accuracy: 0.8344 - auc_5: 0.9013 - val_loss: 0.4474 - val_accuracy: 0.7779 - val_auc_5: 0.7816\n",
      "Epoch 57/200\n",
      "244/244 [==============================] - 1s 3ms/step - loss: 0.3769 - accuracy: 0.8341 - auc_5: 0.9015 - val_loss: 0.4413 - val_accuracy: 0.7779 - val_auc_5: 0.7793\n",
      "Epoch 58/200\n",
      "244/244 [==============================] - 1s 3ms/step - loss: 0.3768 - accuracy: 0.8348 - auc_5: 0.9015 - val_loss: 0.4574 - val_accuracy: 0.7691 - val_auc_5: 0.7813\n",
      "Epoch 59/200\n",
      "244/244 [==============================] - 1s 3ms/step - loss: 0.3767 - accuracy: 0.8344 - auc_5: 0.9016 - val_loss: 0.4404 - val_accuracy: 0.7798 - val_auc_5: 0.7783\n",
      "Epoch 60/200\n",
      "244/244 [==============================] - 1s 3ms/step - loss: 0.3764 - accuracy: 0.8341 - auc_5: 0.9017 - val_loss: 0.4320 - val_accuracy: 0.7789 - val_auc_5: 0.7784\n",
      "Epoch 61/200\n",
      "244/244 [==============================] - 1s 3ms/step - loss: 0.3763 - accuracy: 0.8344 - auc_5: 0.9018 - val_loss: 0.4348 - val_accuracy: 0.7828 - val_auc_5: 0.7784\n",
      "Epoch 62/200\n",
      "244/244 [==============================] - 1s 3ms/step - loss: 0.3764 - accuracy: 0.8332 - auc_5: 0.9016 - val_loss: 0.4431 - val_accuracy: 0.7798 - val_auc_5: 0.7792\n",
      "Epoch 63/200\n",
      "244/244 [==============================] - 1s 3ms/step - loss: 0.3761 - accuracy: 0.8339 - auc_5: 0.9019 - val_loss: 0.4399 - val_accuracy: 0.7798 - val_auc_5: 0.7790\n",
      "Epoch 64/200\n",
      "244/244 [==============================] - 1s 3ms/step - loss: 0.3759 - accuracy: 0.8347 - auc_5: 0.9020 - val_loss: 0.4458 - val_accuracy: 0.7779 - val_auc_5: 0.7786\n",
      "Epoch 65/200\n",
      "244/244 [==============================] - 1s 3ms/step - loss: 0.3759 - accuracy: 0.8334 - auc_5: 0.9019 - val_loss: 0.4433 - val_accuracy: 0.7789 - val_auc_5: 0.7794\n",
      "Epoch 66/200\n",
      "244/244 [==============================] - 1s 3ms/step - loss: 0.3756 - accuracy: 0.8345 - auc_5: 0.9021 - val_loss: 0.4441 - val_accuracy: 0.7789 - val_auc_5: 0.7777\n",
      "Epoch 67/200\n",
      "244/244 [==============================] - 1s 3ms/step - loss: 0.3758 - accuracy: 0.8341 - auc_5: 0.9019 - val_loss: 0.4466 - val_accuracy: 0.7779 - val_auc_5: 0.7771\n",
      "Epoch 68/200\n",
      "244/244 [==============================] - 1s 3ms/step - loss: 0.3754 - accuracy: 0.8330 - auc_5: 0.9021 - val_loss: 0.4379 - val_accuracy: 0.7798 - val_auc_5: 0.7768\n",
      "Epoch 69/200\n",
      "244/244 [==============================] - 1s 3ms/step - loss: 0.3753 - accuracy: 0.8339 - auc_5: 0.9021 - val_loss: 0.4512 - val_accuracy: 0.7710 - val_auc_5: 0.7770\n",
      "Epoch 70/200\n",
      "244/244 [==============================] - 1s 3ms/step - loss: 0.3751 - accuracy: 0.8349 - auc_5: 0.9020 - val_loss: 0.4533 - val_accuracy: 0.7710 - val_auc_5: 0.7781\n",
      "Epoch 71/200\n",
      "244/244 [==============================] - 1s 3ms/step - loss: 0.3752 - accuracy: 0.8343 - auc_5: 0.9023 - val_loss: 0.4450 - val_accuracy: 0.7759 - val_auc_5: 0.7766\n",
      "Epoch 72/200\n",
      "244/244 [==============================] - 1s 3ms/step - loss: 0.3751 - accuracy: 0.8340 - auc_5: 0.9023 - val_loss: 0.4489 - val_accuracy: 0.7730 - val_auc_5: 0.7776\n",
      "Epoch 73/200\n",
      "244/244 [==============================] - 1s 3ms/step - loss: 0.3748 - accuracy: 0.8358 - auc_5: 0.9024 - val_loss: 0.4489 - val_accuracy: 0.7750 - val_auc_5: 0.7776\n",
      "Epoch 74/200\n",
      "244/244 [==============================] - 1s 4ms/step - loss: 0.3746 - accuracy: 0.8362 - auc_5: 0.9022 - val_loss: 0.4390 - val_accuracy: 0.7798 - val_auc_5: 0.7762\n",
      "Epoch 75/200\n",
      "244/244 [==============================] - 1s 4ms/step - loss: 0.3746 - accuracy: 0.8358 - auc_5: 0.9025 - val_loss: 0.4477 - val_accuracy: 0.7759 - val_auc_5: 0.7760\n",
      "Epoch 76/200\n",
      "244/244 [==============================] - 1s 3ms/step - loss: 0.3744 - accuracy: 0.8341 - auc_5: 0.9026 - val_loss: 0.4588 - val_accuracy: 0.7730 - val_auc_5: 0.7769\n",
      "Epoch 77/200\n",
      "244/244 [==============================] - 1s 4ms/step - loss: 0.3743 - accuracy: 0.8353 - auc_5: 0.9024 - val_loss: 0.4493 - val_accuracy: 0.7730 - val_auc_5: 0.7770\n",
      "Epoch 78/200\n",
      "244/244 [==============================] - 1s 4ms/step - loss: 0.3742 - accuracy: 0.8354 - auc_5: 0.9025 - val_loss: 0.4437 - val_accuracy: 0.7769 - val_auc_5: 0.7759\n",
      "Epoch 79/200\n",
      "244/244 [==============================] - 1s 4ms/step - loss: 0.3740 - accuracy: 0.8344 - auc_5: 0.9029 - val_loss: 0.4476 - val_accuracy: 0.7730 - val_auc_5: 0.7749\n",
      "Epoch 80/200\n",
      "244/244 [==============================] - 1s 4ms/step - loss: 0.3738 - accuracy: 0.8350 - auc_5: 0.9027 - val_loss: 0.4511 - val_accuracy: 0.7701 - val_auc_5: 0.7751\n",
      "Epoch 81/200\n",
      "244/244 [==============================] - 1s 4ms/step - loss: 0.3738 - accuracy: 0.8356 - auc_5: 0.9029 - val_loss: 0.4525 - val_accuracy: 0.7710 - val_auc_5: 0.7769\n",
      "Epoch 82/200\n",
      "244/244 [==============================] - 1s 4ms/step - loss: 0.3739 - accuracy: 0.8348 - auc_5: 0.9027 - val_loss: 0.4360 - val_accuracy: 0.7798 - val_auc_5: 0.7751\n",
      "Epoch 83/200\n",
      "244/244 [==============================] - 1s 4ms/step - loss: 0.3737 - accuracy: 0.8362 - auc_5: 0.9028 - val_loss: 0.4547 - val_accuracy: 0.7720 - val_auc_5: 0.7764\n",
      "Epoch 84/200\n",
      "244/244 [==============================] - 1s 4ms/step - loss: 0.3737 - accuracy: 0.8341 - auc_5: 0.9028 - val_loss: 0.4437 - val_accuracy: 0.7779 - val_auc_5: 0.7762\n",
      "Epoch 85/200\n",
      "244/244 [==============================] - 1s 4ms/step - loss: 0.3736 - accuracy: 0.8352 - auc_5: 0.9027 - val_loss: 0.4572 - val_accuracy: 0.7701 - val_auc_5: 0.7769\n",
      "Epoch 86/200\n",
      "244/244 [==============================] - 1s 4ms/step - loss: 0.3734 - accuracy: 0.8341 - auc_5: 0.9030 - val_loss: 0.4616 - val_accuracy: 0.7701 - val_auc_5: 0.7765\n",
      "Epoch 87/200\n",
      "244/244 [==============================] - 1s 4ms/step - loss: 0.3735 - accuracy: 0.8359 - auc_5: 0.9028 - val_loss: 0.4485 - val_accuracy: 0.7730 - val_auc_5: 0.7761\n",
      "Epoch 88/200\n",
      "244/244 [==============================] - 1s 4ms/step - loss: 0.3733 - accuracy: 0.8339 - auc_5: 0.9030 - val_loss: 0.4529 - val_accuracy: 0.7730 - val_auc_5: 0.7765\n",
      "Epoch 89/200\n",
      "244/244 [==============================] - 1s 4ms/step - loss: 0.3732 - accuracy: 0.8339 - auc_5: 0.9031 - val_loss: 0.4600 - val_accuracy: 0.7691 - val_auc_5: 0.7763\n",
      "Epoch 90/200\n",
      "244/244 [==============================] - 1s 3ms/step - loss: 0.3736 - accuracy: 0.8340 - auc_5: 0.9029 - val_loss: 0.4568 - val_accuracy: 0.7681 - val_auc_5: 0.7760\n",
      "Epoch 91/200\n"
     ]
    },
    {
     "name": "stdout",
     "output_type": "stream",
     "text": [
      "244/244 [==============================] - 1s 3ms/step - loss: 0.3731 - accuracy: 0.8341 - auc_5: 0.9030 - val_loss: 0.4452 - val_accuracy: 0.7730 - val_auc_5: 0.7745\n",
      "Epoch 92/200\n",
      "244/244 [==============================] - 1s 3ms/step - loss: 0.3731 - accuracy: 0.8356 - auc_5: 0.9028 - val_loss: 0.4416 - val_accuracy: 0.7750 - val_auc_5: 0.7750\n",
      "Epoch 93/200\n",
      "244/244 [==============================] - 1s 3ms/step - loss: 0.3730 - accuracy: 0.8335 - auc_5: 0.9033 - val_loss: 0.4332 - val_accuracy: 0.7798 - val_auc_5: 0.7741\n",
      "Epoch 94/200\n",
      "244/244 [==============================] - 1s 3ms/step - loss: 0.3730 - accuracy: 0.8357 - auc_5: 0.9030 - val_loss: 0.4568 - val_accuracy: 0.7701 - val_auc_5: 0.7754\n",
      "Epoch 95/200\n",
      "244/244 [==============================] - 1s 3ms/step - loss: 0.3729 - accuracy: 0.8329 - auc_5: 0.9033 - val_loss: 0.4544 - val_accuracy: 0.7691 - val_auc_5: 0.7755\n",
      "Epoch 96/200\n",
      "244/244 [==============================] - 1s 3ms/step - loss: 0.3730 - accuracy: 0.8350 - auc_5: 0.9031 - val_loss: 0.4549 - val_accuracy: 0.7720 - val_auc_5: 0.7762\n",
      "Epoch 97/200\n",
      "244/244 [==============================] - 1s 3ms/step - loss: 0.3730 - accuracy: 0.8345 - auc_5: 0.9032 - val_loss: 0.4518 - val_accuracy: 0.7730 - val_auc_5: 0.7767\n",
      "Epoch 98/200\n",
      "244/244 [==============================] - 1s 3ms/step - loss: 0.3730 - accuracy: 0.8347 - auc_5: 0.9031 - val_loss: 0.4534 - val_accuracy: 0.7769 - val_auc_5: 0.7746\n",
      "Epoch 99/200\n",
      "244/244 [==============================] - 1s 3ms/step - loss: 0.3728 - accuracy: 0.8354 - auc_5: 0.9033 - val_loss: 0.4388 - val_accuracy: 0.7769 - val_auc_5: 0.7743\n",
      "Epoch 100/200\n",
      "244/244 [==============================] - 1s 3ms/step - loss: 0.3726 - accuracy: 0.8345 - auc_5: 0.9033 - val_loss: 0.4593 - val_accuracy: 0.7720 - val_auc_5: 0.7771\n",
      "Epoch 101/200\n",
      "244/244 [==============================] - 1s 3ms/step - loss: 0.3727 - accuracy: 0.8327 - auc_5: 0.9032 - val_loss: 0.4574 - val_accuracy: 0.7691 - val_auc_5: 0.7757\n",
      "Epoch 102/200\n",
      "244/244 [==============================] - 1s 3ms/step - loss: 0.3728 - accuracy: 0.8335 - auc_5: 0.9031 - val_loss: 0.4543 - val_accuracy: 0.7710 - val_auc_5: 0.7759\n",
      "Epoch 103/200\n",
      "244/244 [==============================] - 1s 3ms/step - loss: 0.3725 - accuracy: 0.8334 - auc_5: 0.9035 - val_loss: 0.4491 - val_accuracy: 0.7730 - val_auc_5: 0.7740\n",
      "Epoch 104/200\n",
      "244/244 [==============================] - 1s 3ms/step - loss: 0.3726 - accuracy: 0.8340 - auc_5: 0.9031 - val_loss: 0.4510 - val_accuracy: 0.7750 - val_auc_5: 0.7741\n",
      "Epoch 105/200\n",
      "244/244 [==============================] - 1s 3ms/step - loss: 0.3722 - accuracy: 0.8362 - auc_5: 0.9036 - val_loss: 0.4417 - val_accuracy: 0.7759 - val_auc_5: 0.7741\n",
      "Epoch 106/200\n",
      "244/244 [==============================] - 1s 3ms/step - loss: 0.3725 - accuracy: 0.8343 - auc_5: 0.9034 - val_loss: 0.4473 - val_accuracy: 0.7789 - val_auc_5: 0.7740\n",
      "Epoch 107/200\n",
      "244/244 [==============================] - 1s 3ms/step - loss: 0.3723 - accuracy: 0.8343 - auc_5: 0.9033 - val_loss: 0.4567 - val_accuracy: 0.7720 - val_auc_5: 0.7761\n",
      "Epoch 108/200\n",
      "244/244 [==============================] - 1s 3ms/step - loss: 0.3721 - accuracy: 0.8343 - auc_5: 0.9038 - val_loss: 0.4519 - val_accuracy: 0.7730 - val_auc_5: 0.7763\n",
      "Epoch 109/200\n",
      "244/244 [==============================] - 1s 3ms/step - loss: 0.3720 - accuracy: 0.8359 - auc_5: 0.9036 - val_loss: 0.4431 - val_accuracy: 0.7779 - val_auc_5: 0.7749\n",
      "Epoch 110/200\n",
      "244/244 [==============================] - 1s 3ms/step - loss: 0.3720 - accuracy: 0.8362 - auc_5: 0.9038 - val_loss: 0.4512 - val_accuracy: 0.7750 - val_auc_5: 0.7759\n",
      "Epoch 111/200\n",
      "244/244 [==============================] - 1s 3ms/step - loss: 0.3719 - accuracy: 0.8347 - auc_5: 0.9036 - val_loss: 0.4509 - val_accuracy: 0.7750 - val_auc_5: 0.7754\n",
      "Epoch 112/200\n",
      "244/244 [==============================] - 1s 3ms/step - loss: 0.3717 - accuracy: 0.8348 - auc_5: 0.9039 - val_loss: 0.4663 - val_accuracy: 0.7652 - val_auc_5: 0.7761\n",
      "Epoch 113/200\n",
      "244/244 [==============================] - 1s 3ms/step - loss: 0.3718 - accuracy: 0.8348 - auc_5: 0.9035 - val_loss: 0.4560 - val_accuracy: 0.7730 - val_auc_5: 0.7753\n",
      "Epoch 114/200\n",
      "244/244 [==============================] - 1s 3ms/step - loss: 0.3717 - accuracy: 0.8345 - auc_5: 0.9039 - val_loss: 0.4604 - val_accuracy: 0.7691 - val_auc_5: 0.7764\n",
      "Epoch 115/200\n",
      "244/244 [==============================] - 1s 3ms/step - loss: 0.3716 - accuracy: 0.8340 - auc_5: 0.9039 - val_loss: 0.4480 - val_accuracy: 0.7779 - val_auc_5: 0.7723\n",
      "Epoch 116/200\n",
      "244/244 [==============================] - 1s 3ms/step - loss: 0.3714 - accuracy: 0.8352 - auc_5: 0.9040 - val_loss: 0.4485 - val_accuracy: 0.7759 - val_auc_5: 0.7745\n",
      "Epoch 117/200\n",
      "244/244 [==============================] - 1s 3ms/step - loss: 0.3715 - accuracy: 0.8347 - auc_5: 0.9038 - val_loss: 0.4438 - val_accuracy: 0.7808 - val_auc_5: 0.7708\n",
      "Epoch 118/200\n",
      "244/244 [==============================] - 1s 3ms/step - loss: 0.3713 - accuracy: 0.8341 - auc_5: 0.9040 - val_loss: 0.4592 - val_accuracy: 0.7701 - val_auc_5: 0.7755\n",
      "Epoch 119/200\n",
      "244/244 [==============================] - 1s 3ms/step - loss: 0.3714 - accuracy: 0.8344 - auc_5: 0.9041 - val_loss: 0.4548 - val_accuracy: 0.7769 - val_auc_5: 0.7716\n",
      "Epoch 120/200\n",
      "244/244 [==============================] - 1s 3ms/step - loss: 0.3714 - accuracy: 0.8343 - auc_5: 0.9040 - val_loss: 0.4523 - val_accuracy: 0.7750 - val_auc_5: 0.7745\n",
      "Epoch 121/200\n",
      "244/244 [==============================] - 1s 3ms/step - loss: 0.3713 - accuracy: 0.8352 - auc_5: 0.9039 - val_loss: 0.4474 - val_accuracy: 0.7789 - val_auc_5: 0.7714\n",
      "Epoch 122/200\n",
      "244/244 [==============================] - 1s 3ms/step - loss: 0.3713 - accuracy: 0.8335 - auc_5: 0.9040 - val_loss: 0.4508 - val_accuracy: 0.7789 - val_auc_5: 0.7749\n",
      "Epoch 123/200\n",
      "244/244 [==============================] - 1s 3ms/step - loss: 0.3710 - accuracy: 0.8334 - auc_5: 0.9043 - val_loss: 0.4494 - val_accuracy: 0.7769 - val_auc_5: 0.7709\n",
      "Epoch 124/200\n",
      "244/244 [==============================] - 1s 3ms/step - loss: 0.3712 - accuracy: 0.8339 - auc_5: 0.9042 - val_loss: 0.4507 - val_accuracy: 0.7720 - val_auc_5: 0.7734\n",
      "Epoch 125/200\n",
      "244/244 [==============================] - 1s 3ms/step - loss: 0.3712 - accuracy: 0.8332 - auc_5: 0.9041 - val_loss: 0.4485 - val_accuracy: 0.7759 - val_auc_5: 0.7745\n",
      "Epoch 126/200\n",
      "244/244 [==============================] - 1s 3ms/step - loss: 0.3709 - accuracy: 0.8320 - auc_5: 0.9041 - val_loss: 0.4449 - val_accuracy: 0.7798 - val_auc_5: 0.7749\n",
      "Epoch 127/200\n",
      "244/244 [==============================] - 1s 3ms/step - loss: 0.3710 - accuracy: 0.8336 - auc_5: 0.9044 - val_loss: 0.4639 - val_accuracy: 0.7671 - val_auc_5: 0.7755\n",
      "Epoch 128/200\n",
      "244/244 [==============================] - 1s 3ms/step - loss: 0.3710 - accuracy: 0.8320 - auc_5: 0.9043 - val_loss: 0.4434 - val_accuracy: 0.7789 - val_auc_5: 0.7727\n",
      "Epoch 129/200\n",
      "244/244 [==============================] - 1s 3ms/step - loss: 0.3711 - accuracy: 0.8335 - auc_5: 0.9040 - val_loss: 0.4441 - val_accuracy: 0.7789 - val_auc_5: 0.7736\n",
      "Epoch 130/200\n",
      "244/244 [==============================] - 1s 3ms/step - loss: 0.3706 - accuracy: 0.8330 - auc_5: 0.9046 - val_loss: 0.4527 - val_accuracy: 0.7769 - val_auc_5: 0.7724\n",
      "Epoch 131/200\n",
      "244/244 [==============================] - 1s 3ms/step - loss: 0.3707 - accuracy: 0.8336 - auc_5: 0.9043 - val_loss: 0.4617 - val_accuracy: 0.7691 - val_auc_5: 0.7762\n",
      "Epoch 132/200\n",
      "244/244 [==============================] - 1s 3ms/step - loss: 0.3707 - accuracy: 0.8332 - auc_5: 0.9043 - val_loss: 0.4498 - val_accuracy: 0.7789 - val_auc_5: 0.7722\n",
      "Epoch 133/200\n",
      "244/244 [==============================] - 1s 3ms/step - loss: 0.3706 - accuracy: 0.8325 - auc_5: 0.9045 - val_loss: 0.4370 - val_accuracy: 0.7808 - val_auc_5: 0.7702\n",
      "Epoch 134/200\n",
      "244/244 [==============================] - 1s 3ms/step - loss: 0.3705 - accuracy: 0.8330 - auc_5: 0.9043 - val_loss: 0.4528 - val_accuracy: 0.7759 - val_auc_5: 0.7742\n",
      "Epoch 135/200\n",
      "244/244 [==============================] - 1s 3ms/step - loss: 0.3703 - accuracy: 0.8327 - auc_5: 0.9046 - val_loss: 0.4621 - val_accuracy: 0.7671 - val_auc_5: 0.7756\n",
      "Epoch 136/200\n"
     ]
    },
    {
     "name": "stdout",
     "output_type": "stream",
     "text": [
      "244/244 [==============================] - 1s 3ms/step - loss: 0.3705 - accuracy: 0.8340 - auc_5: 0.9043 - val_loss: 0.4475 - val_accuracy: 0.7750 - val_auc_5: 0.7741\n",
      "Epoch 137/200\n",
      "244/244 [==============================] - 1s 3ms/step - loss: 0.3704 - accuracy: 0.8330 - auc_5: 0.9045 - val_loss: 0.4549 - val_accuracy: 0.7740 - val_auc_5: 0.7765\n",
      "Epoch 138/200\n",
      "244/244 [==============================] - 1s 3ms/step - loss: 0.3705 - accuracy: 0.8329 - auc_5: 0.9043 - val_loss: 0.4496 - val_accuracy: 0.7750 - val_auc_5: 0.7755\n",
      "Epoch 139/200\n",
      "244/244 [==============================] - 1s 4ms/step - loss: 0.3701 - accuracy: 0.8318 - auc_5: 0.9043 - val_loss: 0.4541 - val_accuracy: 0.7720 - val_auc_5: 0.7757\n",
      "Epoch 140/200\n",
      "244/244 [==============================] - 1s 3ms/step - loss: 0.3700 - accuracy: 0.8339 - auc_5: 0.9048 - val_loss: 0.4660 - val_accuracy: 0.7661 - val_auc_5: 0.7769\n",
      "Epoch 141/200\n",
      "244/244 [==============================] - 1s 3ms/step - loss: 0.3698 - accuracy: 0.8345 - auc_5: 0.9047 - val_loss: 0.4501 - val_accuracy: 0.7750 - val_auc_5: 0.7747\n",
      "Epoch 142/200\n",
      "244/244 [==============================] - 1s 3ms/step - loss: 0.3702 - accuracy: 0.8357 - auc_5: 0.9045 - val_loss: 0.4536 - val_accuracy: 0.7750 - val_auc_5: 0.7764\n",
      "Epoch 143/200\n",
      "244/244 [==============================] - 1s 3ms/step - loss: 0.3698 - accuracy: 0.8349 - auc_5: 0.9048 - val_loss: 0.4483 - val_accuracy: 0.7798 - val_auc_5: 0.7771\n",
      "Epoch 144/200\n",
      "244/244 [==============================] - 1s 3ms/step - loss: 0.3697 - accuracy: 0.8341 - auc_5: 0.9049 - val_loss: 0.4499 - val_accuracy: 0.7779 - val_auc_5: 0.7756\n",
      "Epoch 145/200\n",
      "244/244 [==============================] - 1s 3ms/step - loss: 0.3696 - accuracy: 0.8348 - auc_5: 0.9047 - val_loss: 0.4614 - val_accuracy: 0.7661 - val_auc_5: 0.7767\n",
      "Epoch 146/200\n",
      "244/244 [==============================] - 1s 3ms/step - loss: 0.3696 - accuracy: 0.8334 - auc_5: 0.9047 - val_loss: 0.4551 - val_accuracy: 0.7720 - val_auc_5: 0.7763\n",
      "Epoch 147/200\n",
      "244/244 [==============================] - 1s 3ms/step - loss: 0.3694 - accuracy: 0.8343 - auc_5: 0.9049 - val_loss: 0.4503 - val_accuracy: 0.7730 - val_auc_5: 0.7769\n",
      "Epoch 148/200\n",
      "244/244 [==============================] - 1s 3ms/step - loss: 0.3696 - accuracy: 0.8323 - auc_5: 0.9050 - val_loss: 0.4488 - val_accuracy: 0.7740 - val_auc_5: 0.7761\n",
      "Epoch 149/200\n",
      "244/244 [==============================] - 1s 3ms/step - loss: 0.3692 - accuracy: 0.8343 - auc_5: 0.9050 - val_loss: 0.4514 - val_accuracy: 0.7740 - val_auc_5: 0.7766\n",
      "Epoch 150/200\n",
      "244/244 [==============================] - 1s 3ms/step - loss: 0.3692 - accuracy: 0.8322 - auc_5: 0.9051 - val_loss: 0.4496 - val_accuracy: 0.7750 - val_auc_5: 0.7764\n",
      "Epoch 151/200\n",
      "244/244 [==============================] - 1s 3ms/step - loss: 0.3690 - accuracy: 0.8330 - auc_5: 0.9050 - val_loss: 0.4534 - val_accuracy: 0.7701 - val_auc_5: 0.7764\n",
      "Epoch 152/200\n",
      "244/244 [==============================] - 1s 4ms/step - loss: 0.3689 - accuracy: 0.8345 - auc_5: 0.9050 - val_loss: 0.4525 - val_accuracy: 0.7720 - val_auc_5: 0.7765\n",
      "Epoch 153/200\n",
      "244/244 [==============================] - 1s 4ms/step - loss: 0.3689 - accuracy: 0.8356 - auc_5: 0.9049 - val_loss: 0.4477 - val_accuracy: 0.7720 - val_auc_5: 0.7742\n",
      "Epoch 154/200\n",
      "244/244 [==============================] - 1s 4ms/step - loss: 0.3687 - accuracy: 0.8345 - auc_5: 0.9051 - val_loss: 0.4479 - val_accuracy: 0.7720 - val_auc_5: 0.7746\n",
      "Epoch 155/200\n",
      "244/244 [==============================] - 1s 3ms/step - loss: 0.3686 - accuracy: 0.8336 - auc_5: 0.9055 - val_loss: 0.4421 - val_accuracy: 0.7798 - val_auc_5: 0.7721\n",
      "Epoch 156/200\n",
      "244/244 [==============================] - 1s 3ms/step - loss: 0.3688 - accuracy: 0.8339 - auc_5: 0.9051 - val_loss: 0.4493 - val_accuracy: 0.7720 - val_auc_5: 0.7757\n",
      "Epoch 157/200\n",
      "244/244 [==============================] - 1s 3ms/step - loss: 0.3688 - accuracy: 0.8339 - auc_5: 0.9051 - val_loss: 0.4575 - val_accuracy: 0.7661 - val_auc_5: 0.7764\n",
      "Epoch 158/200\n",
      "244/244 [==============================] - 1s 3ms/step - loss: 0.3684 - accuracy: 0.8341 - auc_5: 0.9053 - val_loss: 0.4526 - val_accuracy: 0.7701 - val_auc_5: 0.7761\n",
      "Epoch 159/200\n",
      "244/244 [==============================] - 1s 4ms/step - loss: 0.3685 - accuracy: 0.8353 - auc_5: 0.9054 - val_loss: 0.4472 - val_accuracy: 0.7750 - val_auc_5: 0.7730\n",
      "Epoch 160/200\n",
      "244/244 [==============================] - 1s 3ms/step - loss: 0.3682 - accuracy: 0.8352 - auc_5: 0.9055 - val_loss: 0.4492 - val_accuracy: 0.7740 - val_auc_5: 0.7752\n",
      "Epoch 161/200\n",
      "244/244 [==============================] - 1s 4ms/step - loss: 0.3679 - accuracy: 0.8345 - auc_5: 0.9056 - val_loss: 0.4656 - val_accuracy: 0.7583 - val_auc_5: 0.7766\n",
      "Epoch 162/200\n",
      "244/244 [==============================] - 1s 4ms/step - loss: 0.3678 - accuracy: 0.8343 - auc_5: 0.9058 - val_loss: 0.4392 - val_accuracy: 0.7779 - val_auc_5: 0.7701\n",
      "Epoch 163/200\n",
      "244/244 [==============================] - 1s 4ms/step - loss: 0.3679 - accuracy: 0.8359 - auc_5: 0.9054 - val_loss: 0.4627 - val_accuracy: 0.7622 - val_auc_5: 0.7766\n",
      "Epoch 164/200\n",
      "244/244 [==============================] - 1s 3ms/step - loss: 0.3677 - accuracy: 0.8348 - auc_5: 0.9058 - val_loss: 0.4663 - val_accuracy: 0.7603 - val_auc_5: 0.7753\n",
      "Epoch 165/200\n",
      "244/244 [==============================] - 1s 3ms/step - loss: 0.3677 - accuracy: 0.8356 - auc_5: 0.9057 - val_loss: 0.4391 - val_accuracy: 0.7750 - val_auc_5: 0.7702\n",
      "Epoch 166/200\n",
      "244/244 [==============================] - 1s 4ms/step - loss: 0.3676 - accuracy: 0.8347 - auc_5: 0.9058 - val_loss: 0.4612 - val_accuracy: 0.7642 - val_auc_5: 0.7750\n",
      "Epoch 167/200\n",
      "244/244 [==============================] - 1s 3ms/step - loss: 0.3677 - accuracy: 0.8345 - auc_5: 0.9057 - val_loss: 0.4448 - val_accuracy: 0.7720 - val_auc_5: 0.7735\n",
      "Epoch 168/200\n",
      "244/244 [==============================] - 1s 3ms/step - loss: 0.3678 - accuracy: 0.8344 - auc_5: 0.9058 - val_loss: 0.4502 - val_accuracy: 0.7701 - val_auc_5: 0.7743\n",
      "Epoch 169/200\n",
      "244/244 [==============================] - 1s 3ms/step - loss: 0.3675 - accuracy: 0.8356 - auc_5: 0.9060 - val_loss: 0.4500 - val_accuracy: 0.7710 - val_auc_5: 0.7722\n",
      "Epoch 170/200\n",
      "244/244 [==============================] - 1s 3ms/step - loss: 0.3674 - accuracy: 0.8357 - auc_5: 0.9060 - val_loss: 0.4547 - val_accuracy: 0.7681 - val_auc_5: 0.7740\n",
      "Epoch 171/200\n",
      "244/244 [==============================] - 1s 4ms/step - loss: 0.3672 - accuracy: 0.8341 - auc_5: 0.9059 - val_loss: 0.4475 - val_accuracy: 0.7730 - val_auc_5: 0.7708\n",
      "Epoch 172/200\n",
      "244/244 [==============================] - 1s 3ms/step - loss: 0.3671 - accuracy: 0.8354 - auc_5: 0.9057 - val_loss: 0.4494 - val_accuracy: 0.7710 - val_auc_5: 0.7721\n",
      "Epoch 173/200\n",
      "244/244 [==============================] - 1s 3ms/step - loss: 0.3670 - accuracy: 0.8365 - auc_5: 0.9061 - val_loss: 0.4712 - val_accuracy: 0.7603 - val_auc_5: 0.7750\n",
      "Epoch 174/200\n",
      "244/244 [==============================] - 1s 3ms/step - loss: 0.3670 - accuracy: 0.8363 - auc_5: 0.9059 - val_loss: 0.4513 - val_accuracy: 0.7710 - val_auc_5: 0.7751\n",
      "Epoch 175/200\n",
      "244/244 [==============================] - 1s 3ms/step - loss: 0.3668 - accuracy: 0.8361 - auc_5: 0.9061 - val_loss: 0.4506 - val_accuracy: 0.7691 - val_auc_5: 0.7714\n",
      "Epoch 176/200\n",
      "244/244 [==============================] - 1s 3ms/step - loss: 0.3669 - accuracy: 0.8370 - auc_5: 0.9060 - val_loss: 0.4532 - val_accuracy: 0.7691 - val_auc_5: 0.7711\n",
      "Epoch 177/200\n",
      "244/244 [==============================] - 1s 3ms/step - loss: 0.3666 - accuracy: 0.8347 - auc_5: 0.9063 - val_loss: 0.4454 - val_accuracy: 0.7691 - val_auc_5: 0.7715\n",
      "Epoch 178/200\n",
      "244/244 [==============================] - 1s 3ms/step - loss: 0.3663 - accuracy: 0.8361 - auc_5: 0.9064 - val_loss: 0.4356 - val_accuracy: 0.7769 - val_auc_5: 0.7710\n",
      "Epoch 179/200\n",
      "244/244 [==============================] - 1s 3ms/step - loss: 0.3665 - accuracy: 0.8380 - auc_5: 0.9065 - val_loss: 0.4483 - val_accuracy: 0.7661 - val_auc_5: 0.7719\n",
      "Epoch 180/200\n",
      "244/244 [==============================] - 1s 3ms/step - loss: 0.3663 - accuracy: 0.8348 - auc_5: 0.9064 - val_loss: 0.4391 - val_accuracy: 0.7730 - val_auc_5: 0.7720\n",
      "Epoch 181/200\n"
     ]
    },
    {
     "name": "stdout",
     "output_type": "stream",
     "text": [
      "244/244 [==============================] - 1s 3ms/step - loss: 0.3662 - accuracy: 0.8352 - auc_5: 0.9064 - val_loss: 0.4466 - val_accuracy: 0.7701 - val_auc_5: 0.7732\n",
      "Epoch 182/200\n",
      "244/244 [==============================] - 1s 3ms/step - loss: 0.3660 - accuracy: 0.8363 - auc_5: 0.9064 - val_loss: 0.4593 - val_accuracy: 0.7632 - val_auc_5: 0.7733\n",
      "Epoch 183/200\n",
      "244/244 [==============================] - 1s 3ms/step - loss: 0.3658 - accuracy: 0.8374 - auc_5: 0.9067 - val_loss: 0.4495 - val_accuracy: 0.7691 - val_auc_5: 0.7711\n",
      "Epoch 184/200\n",
      "244/244 [==============================] - 1s 3ms/step - loss: 0.3660 - accuracy: 0.8372 - auc_5: 0.9066 - val_loss: 0.4512 - val_accuracy: 0.7661 - val_auc_5: 0.7719\n",
      "Epoch 185/200\n",
      "244/244 [==============================] - 1s 3ms/step - loss: 0.3659 - accuracy: 0.8380 - auc_5: 0.9065 - val_loss: 0.4491 - val_accuracy: 0.7681 - val_auc_5: 0.7720\n",
      "Epoch 186/200\n",
      "244/244 [==============================] - 1s 3ms/step - loss: 0.3658 - accuracy: 0.8365 - auc_5: 0.9065 - val_loss: 0.4411 - val_accuracy: 0.7759 - val_auc_5: 0.7719\n",
      "Epoch 187/200\n",
      "244/244 [==============================] - 1s 3ms/step - loss: 0.3657 - accuracy: 0.8368 - auc_5: 0.9069 - val_loss: 0.4536 - val_accuracy: 0.7691 - val_auc_5: 0.7719\n",
      "Epoch 188/200\n",
      "244/244 [==============================] - 1s 3ms/step - loss: 0.3657 - accuracy: 0.8368 - auc_5: 0.9069 - val_loss: 0.4562 - val_accuracy: 0.7661 - val_auc_5: 0.7734\n",
      "Epoch 189/200\n",
      "244/244 [==============================] - 1s 3ms/step - loss: 0.3655 - accuracy: 0.8365 - auc_5: 0.9066 - val_loss: 0.4517 - val_accuracy: 0.7681 - val_auc_5: 0.7732\n",
      "Epoch 190/200\n",
      "244/244 [==============================] - 1s 3ms/step - loss: 0.3656 - accuracy: 0.8383 - auc_5: 0.9067 - val_loss: 0.4591 - val_accuracy: 0.7642 - val_auc_5: 0.7724\n",
      "Epoch 191/200\n",
      "244/244 [==============================] - 1s 3ms/step - loss: 0.3654 - accuracy: 0.8371 - auc_5: 0.9068 - val_loss: 0.4582 - val_accuracy: 0.7622 - val_auc_5: 0.7716\n",
      "Epoch 192/200\n",
      "244/244 [==============================] - 1s 3ms/step - loss: 0.3652 - accuracy: 0.8357 - auc_5: 0.9067 - val_loss: 0.4455 - val_accuracy: 0.7701 - val_auc_5: 0.7736\n",
      "Epoch 193/200\n",
      "244/244 [==============================] - 1s 3ms/step - loss: 0.3655 - accuracy: 0.8383 - auc_5: 0.9072 - val_loss: 0.4563 - val_accuracy: 0.7681 - val_auc_5: 0.7719\n",
      "Epoch 194/200\n",
      "244/244 [==============================] - 1s 3ms/step - loss: 0.3653 - accuracy: 0.8365 - auc_5: 0.9068 - val_loss: 0.4508 - val_accuracy: 0.7691 - val_auc_5: 0.7720\n",
      "Epoch 195/200\n",
      "244/244 [==============================] - 1s 3ms/step - loss: 0.3653 - accuracy: 0.8380 - auc_5: 0.9066 - val_loss: 0.4336 - val_accuracy: 0.7769 - val_auc_5: 0.7694\n",
      "Epoch 196/200\n",
      "244/244 [==============================] - 1s 3ms/step - loss: 0.3654 - accuracy: 0.8377 - auc_5: 0.9069 - val_loss: 0.4513 - val_accuracy: 0.7661 - val_auc_5: 0.7720\n",
      "Epoch 197/200\n",
      "244/244 [==============================] - 1s 3ms/step - loss: 0.3652 - accuracy: 0.8367 - auc_5: 0.9070 - val_loss: 0.4626 - val_accuracy: 0.7593 - val_auc_5: 0.7719\n",
      "Epoch 198/200\n",
      "244/244 [==============================] - 1s 3ms/step - loss: 0.3652 - accuracy: 0.8363 - auc_5: 0.9067 - val_loss: 0.4598 - val_accuracy: 0.7622 - val_auc_5: 0.7714\n",
      "Epoch 199/200\n",
      "244/244 [==============================] - 1s 3ms/step - loss: 0.3649 - accuracy: 0.8363 - auc_5: 0.9070 - val_loss: 0.4492 - val_accuracy: 0.7691 - val_auc_5: 0.7709\n",
      "Epoch 200/200\n",
      "244/244 [==============================] - 1s 3ms/step - loss: 0.3648 - accuracy: 0.8388 - auc_5: 0.9069 - val_loss: 0.4659 - val_accuracy: 0.7573 - val_auc_5: 0.7709\n"
     ]
    }
   ],
   "source": [
    "history = model.fit(X_res, y_res, validation_data=(X_test, y_test), epochs=200)"
   ]
  },
  {
   "cell_type": "code",
   "execution_count": null,
   "id": "8b278323",
   "metadata": {},
   "outputs": [],
   "source": [
    "train_acc = model.evaluate(X_res, y_res)\n",
    "test_acc = model.evaluate(X_test, y_test)\n",
    "print('Train: %.3f, Test: %.3f' % (train_acc[1], test_acc[1]))\n",
    "# train_acc\n",
    "# test_acc"
   ]
  },
  {
   "cell_type": "code",
   "execution_count": 704,
   "id": "c1ce662b",
   "metadata": {},
   "outputs": [
    {
     "data": {
      "text/plain": [
       "[<matplotlib.lines.Line2D at 0x2603a15c1c0>]"
      ]
     },
     "execution_count": 704,
     "metadata": {},
     "output_type": "execute_result"
    },
    {
     "data": {
      "image/png": "[encoded data removed]",
      "text/plain": [
       "<Figure size 432x288 with 1 Axes>"
      ]
     },
     "metadata": {
      "needs_background": "light"
     },
     "output_type": "display_data"
    }
   ],
   "source": [
    "plt.plot(history.history['loss'], label='train')\n",
    "plt.plot(history.history['val_loss'], label='test')"
   ]
  },
  {
   "cell_type": "code",
   "execution_count": 702,
   "id": "79bd49f2",
   "metadata": {},
   "outputs": [
    {
     "name": "stdout",
     "output_type": "stream",
     "text": [
      "Epoch 1/100\n",
      "242/244 [============================>.] - ETA: 0s - loss: 0.3643 - accuracy: 0.8366 - auc_5: 0.9074"
     ]
    },
    {
     "ename": "ValueError",
     "evalue": "Data cardinality is ambiguous:\n  x sizes: 1533\n  y sizes: 1022\nMake sure all arrays contain the same number of samples.",
     "output_type": "error",
     "traceback": [
      "\u001b[1;31m---------------------------------------------------------------------------\u001b[0m",
      "\u001b[1;31mValueError\u001b[0m                                Traceback (most recent call last)",
      "Input \u001b[1;32mIn [702]\u001b[0m, in \u001b[0;36m<cell line: 1>\u001b[1;34m()\u001b[0m\n\u001b[1;32m----> 1\u001b[0m history \u001b[38;5;241m=\u001b[39m \u001b[43mmodel\u001b[49m\u001b[38;5;241;43m.\u001b[39;49m\u001b[43mfit\u001b[49m\u001b[43m(\u001b[49m\u001b[43mX_res\u001b[49m\u001b[43m,\u001b[49m\u001b[43m \u001b[49m\u001b[43my_res\u001b[49m\u001b[43m,\u001b[49m\u001b[43m \u001b[49m\u001b[43mvalidation_data\u001b[49m\u001b[38;5;241;43m=\u001b[39;49m\u001b[43m(\u001b[49m\u001b[43mX_tr_test\u001b[49m\u001b[43m,\u001b[49m\u001b[43m \u001b[49m\u001b[43my_test\u001b[49m\u001b[43m)\u001b[49m\u001b[43m,\u001b[49m\u001b[43m \u001b[49m\u001b[43mepochs\u001b[49m\u001b[38;5;241;43m=\u001b[39;49m\u001b[38;5;241;43m100\u001b[39;49m\u001b[43m)\u001b[49m\n",
      "File \u001b[1;32m~\\anaconda3\\lib\\site-packages\\keras\\utils\\traceback_utils.py:70\u001b[0m, in \u001b[0;36mfilter_traceback.<locals>.error_handler\u001b[1;34m(*args, **kwargs)\u001b[0m\n\u001b[0;32m     67\u001b[0m     filtered_tb \u001b[38;5;241m=\u001b[39m _process_traceback_frames(e\u001b[38;5;241m.\u001b[39m__traceback__)\n\u001b[0;32m     68\u001b[0m     \u001b[38;5;66;03m# To get the full stack trace, call:\u001b[39;00m\n\u001b[0;32m     69\u001b[0m     \u001b[38;5;66;03m# `tf.debugging.disable_traceback_filtering()`\u001b[39;00m\n\u001b[1;32m---> 70\u001b[0m     \u001b[38;5;28;01mraise\u001b[39;00m e\u001b[38;5;241m.\u001b[39mwith_traceback(filtered_tb) \u001b[38;5;28;01mfrom\u001b[39;00m \u001b[38;5;28mNone\u001b[39m\n\u001b[0;32m     71\u001b[0m \u001b[38;5;28;01mfinally\u001b[39;00m:\n\u001b[0;32m     72\u001b[0m     \u001b[38;5;28;01mdel\u001b[39;00m filtered_tb\n",
      "File \u001b[1;32m~\\anaconda3\\lib\\site-packages\\keras\\engine\\data_adapter.py:1851\u001b[0m, in \u001b[0;36m_check_data_cardinality\u001b[1;34m(data)\u001b[0m\n\u001b[0;32m   1844\u001b[0m     msg \u001b[38;5;241m+\u001b[39m\u001b[38;5;241m=\u001b[39m \u001b[38;5;124m\"\u001b[39m\u001b[38;5;124m  \u001b[39m\u001b[38;5;132;01m{}\u001b[39;00m\u001b[38;5;124m sizes: \u001b[39m\u001b[38;5;132;01m{}\u001b[39;00m\u001b[38;5;130;01m\\n\u001b[39;00m\u001b[38;5;124m\"\u001b[39m\u001b[38;5;241m.\u001b[39mformat(\n\u001b[0;32m   1845\u001b[0m         label,\n\u001b[0;32m   1846\u001b[0m         \u001b[38;5;124m\"\u001b[39m\u001b[38;5;124m, \u001b[39m\u001b[38;5;124m\"\u001b[39m\u001b[38;5;241m.\u001b[39mjoin(\n\u001b[0;32m   1847\u001b[0m             \u001b[38;5;28mstr\u001b[39m(i\u001b[38;5;241m.\u001b[39mshape[\u001b[38;5;241m0\u001b[39m]) \u001b[38;5;28;01mfor\u001b[39;00m i \u001b[38;5;129;01min\u001b[39;00m tf\u001b[38;5;241m.\u001b[39mnest\u001b[38;5;241m.\u001b[39mflatten(single_data)\n\u001b[0;32m   1848\u001b[0m         ),\n\u001b[0;32m   1849\u001b[0m     )\n\u001b[0;32m   1850\u001b[0m msg \u001b[38;5;241m+\u001b[39m\u001b[38;5;241m=\u001b[39m \u001b[38;5;124m\"\u001b[39m\u001b[38;5;124mMake sure all arrays contain the same number of samples.\u001b[39m\u001b[38;5;124m\"\u001b[39m\n\u001b[1;32m-> 1851\u001b[0m \u001b[38;5;28;01mraise\u001b[39;00m \u001b[38;5;167;01mValueError\u001b[39;00m(msg)\n",
      "\u001b[1;31mValueError\u001b[0m: Data cardinality is ambiguous:\n  x sizes: 1533\n  y sizes: 1022\nMake sure all arrays contain the same number of samples."
     ]
    }
   ],
   "source": [
    "history = model.fit(X_res, y_res, validation_data=(X_tr_test, y_test), epochs=100)"
   ]
  },
  {
   "cell_type": "code",
   "execution_count": 691,
   "id": "1c346653",
   "metadata": {},
   "outputs": [
    {
     "data": {
      "text/plain": [
       "(7778, 14)"
      ]
     },
     "execution_count": 691,
     "metadata": {},
     "output_type": "execute_result"
    }
   ],
   "source": [
    "X_res.shape"
   ]
  },
  {
   "cell_type": "code",
   "execution_count": 312,
   "id": "4ad09668",
   "metadata": {},
   "outputs": [
    {
     "name": "stdout",
     "output_type": "stream",
     "text": [
      "Train: 0.836, Test: 0.774\n"
     ]
    }
   ],
   "source": [
    "train_acc = model.evaluate(X_res, y_res, verbose=0)\n",
    "test_acc = model.evaluate(X_tr_test, y_test, verbose=0)\n",
    "print('Train: %.3f, Test: %.3f' % (train_acc[1], test_acc[1]))"
   ]
  },
  {
   "cell_type": "code",
   "execution_count": 692,
   "id": "e6647c9c",
   "metadata": {},
   "outputs": [],
   "source": [
    "model2 = Sequential(\n",
    "    [\n",
    "        tf.keras.Input(shape=(14,)),\n",
    "        tf.keras.layers.Dense(units=10, activation=\"relu\"),\n",
    "        tf.keras.layers.Dense(units=6, activation=\"relu\"),\n",
    "        tf.keras.layers.Dense(units=1, activation=\"sigmoid\")\n",
    "    ], name=\"my_model\"\n",
    ")"
   ]
  },
  {
   "cell_type": "code",
   "execution_count": 705,
   "id": "a07ee7b0",
   "metadata": {},
   "outputs": [],
   "source": [
    "model2.compile(\n",
    "  'adam',\n",
    "  loss='binary_crossentropy',\n",
    "  metrics=['accuracy', f1_score], #, tf.keras.metrics.AUC()],\n",
    ")"
   ]
  },
  {
   "cell_type": "code",
   "execution_count": 706,
   "id": "7296c70e",
   "metadata": {},
   "outputs": [
    {
     "name": "stdout",
     "output_type": "stream",
     "text": [
      "Epoch 1/100\n"
     ]
    },
    {
     "ename": "NotImplementedError",
     "evalue": "in user code:\n\n    File \"C:\\Users\\kenta\\anaconda3\\lib\\site-packages\\keras\\engine\\training.py\", line 1160, in train_function  *\n        return step_function(self, iterator)\n    File \"C:\\Users\\kenta\\anaconda3\\lib\\site-packages\\sklearn\\metrics\\_classification.py\", line 1130, in f1_score  *\n        zero_division=zero_division,\n    File \"C:\\Users\\kenta\\anaconda3\\lib\\site-packages\\sklearn\\metrics\\_classification.py\", line 1259, in fbeta_score  *\n        _, _, f, _ = precision_recall_fscore_support(\n    File \"C:\\Users\\kenta\\anaconda3\\lib\\site-packages\\sklearn\\metrics\\_classification.py\", line 1539, in precision_recall_fscore_support  *\n        labels = _check_set_wise_labels(y_true, y_pred, average, labels, pos_label)\n    File \"C:\\Users\\kenta\\anaconda3\\lib\\site-packages\\sklearn\\metrics\\_classification.py\", line 1348, in _check_set_wise_labels  *\n        y_type, y_true, y_pred = _check_targets(y_true, y_pred)\n    File \"C:\\Users\\kenta\\anaconda3\\lib\\site-packages\\sklearn\\metrics\\_classification.py\", line 84, in _check_targets  *\n        check_consistent_length(y_true, y_pred)\n    File \"C:\\Users\\kenta\\anaconda3\\lib\\site-packages\\sklearn\\utils\\validation.py\", line 330, in check_consistent_length  *\n        uniques = np.unique(lengths)\n    File \"<__array_function__ internals>\", line 5, in unique  **\n        \n    File \"C:\\Users\\kenta\\anaconda3\\lib\\site-packages\\numpy\\lib\\arraysetops.py\", line 270, in unique\n        ar = np.asanyarray(ar)\n\n    NotImplementedError: Cannot convert a symbolic tf.Tensor (strided_slice_1:0) to a numpy array. This error may indicate that you're trying to pass a Tensor to a NumPy call, which is not supported.\n",
     "output_type": "error",
     "traceback": [
      "\u001b[1;31m---------------------------------------------------------------------------\u001b[0m",
      "\u001b[1;31mNotImplementedError\u001b[0m                       Traceback (most recent call last)",
      "Input \u001b[1;32mIn [706]\u001b[0m, in \u001b[0;36m<cell line: 1>\u001b[1;34m()\u001b[0m\n\u001b[1;32m----> 1\u001b[0m history \u001b[38;5;241m=\u001b[39m \u001b[43mmodel2\u001b[49m\u001b[38;5;241;43m.\u001b[39;49m\u001b[43mfit\u001b[49m\u001b[43m(\u001b[49m\u001b[43mX_res\u001b[49m\u001b[43m,\u001b[49m\u001b[43m \u001b[49m\u001b[43my_res\u001b[49m\u001b[43m,\u001b[49m\u001b[43m \u001b[49m\u001b[43mvalidation_data\u001b[49m\u001b[38;5;241;43m=\u001b[39;49m\u001b[43m(\u001b[49m\u001b[43mX_test\u001b[49m\u001b[43m,\u001b[49m\u001b[43m \u001b[49m\u001b[43my_test\u001b[49m\u001b[43m)\u001b[49m\u001b[43m,\u001b[49m\u001b[43m \u001b[49m\u001b[43mepochs\u001b[49m\u001b[38;5;241;43m=\u001b[39;49m\u001b[38;5;241;43m100\u001b[39;49m\u001b[43m)\u001b[49m\n",
      "File \u001b[1;32m~\\anaconda3\\lib\\site-packages\\keras\\utils\\traceback_utils.py:70\u001b[0m, in \u001b[0;36mfilter_traceback.<locals>.error_handler\u001b[1;34m(*args, **kwargs)\u001b[0m\n\u001b[0;32m     67\u001b[0m     filtered_tb \u001b[38;5;241m=\u001b[39m _process_traceback_frames(e\u001b[38;5;241m.\u001b[39m__traceback__)\n\u001b[0;32m     68\u001b[0m     \u001b[38;5;66;03m# To get the full stack trace, call:\u001b[39;00m\n\u001b[0;32m     69\u001b[0m     \u001b[38;5;66;03m# `tf.debugging.disable_traceback_filtering()`\u001b[39;00m\n\u001b[1;32m---> 70\u001b[0m     \u001b[38;5;28;01mraise\u001b[39;00m e\u001b[38;5;241m.\u001b[39mwith_traceback(filtered_tb) \u001b[38;5;28;01mfrom\u001b[39;00m \u001b[38;5;28mNone\u001b[39m\n\u001b[0;32m     71\u001b[0m \u001b[38;5;28;01mfinally\u001b[39;00m:\n\u001b[0;32m     72\u001b[0m     \u001b[38;5;28;01mdel\u001b[39;00m filtered_tb\n",
      "File \u001b[1;32m~\\AppData\\Local\\Temp\\__autograph_generated_fileseu63qy0.py:15\u001b[0m, in \u001b[0;36mouter_factory.<locals>.inner_factory.<locals>.tf__train_function\u001b[1;34m(iterator)\u001b[0m\n\u001b[0;32m     13\u001b[0m \u001b[38;5;28;01mtry\u001b[39;00m:\n\u001b[0;32m     14\u001b[0m     do_return \u001b[38;5;241m=\u001b[39m \u001b[38;5;28;01mTrue\u001b[39;00m\n\u001b[1;32m---> 15\u001b[0m     retval_ \u001b[38;5;241m=\u001b[39m ag__\u001b[38;5;241m.\u001b[39mconverted_call(ag__\u001b[38;5;241m.\u001b[39mld(step_function), (ag__\u001b[38;5;241m.\u001b[39mld(\u001b[38;5;28mself\u001b[39m), ag__\u001b[38;5;241m.\u001b[39mld(iterator)), \u001b[38;5;28;01mNone\u001b[39;00m, fscope)\n\u001b[0;32m     16\u001b[0m \u001b[38;5;28;01mexcept\u001b[39;00m:\n\u001b[0;32m     17\u001b[0m     do_return \u001b[38;5;241m=\u001b[39m \u001b[38;5;28;01mFalse\u001b[39;00m\n",
      "File \u001b[1;32m~\\AppData\\Local\\Temp\\__autograph_generated_filek83_meiu.py:132\u001b[0m, in \u001b[0;36mouter_factory.<locals>.inner_factory.<locals>.tf__f1_score\u001b[1;34m(y_true, y_pred, labels, pos_label, average, sample_weight, zero_division)\u001b[0m\n\u001b[0;32m    130\u001b[0m \u001b[38;5;28;01mtry\u001b[39;00m:\n\u001b[0;32m    131\u001b[0m     do_return \u001b[38;5;241m=\u001b[39m \u001b[38;5;28;01mTrue\u001b[39;00m\n\u001b[1;32m--> 132\u001b[0m     retval_ \u001b[38;5;241m=\u001b[39m ag__\u001b[38;5;241m.\u001b[39mconverted_call(ag__\u001b[38;5;241m.\u001b[39mld(fbeta_score), (ag__\u001b[38;5;241m.\u001b[39mld(y_true), ag__\u001b[38;5;241m.\u001b[39mld(y_pred)), \u001b[38;5;28mdict\u001b[39m(beta\u001b[38;5;241m=\u001b[39m\u001b[38;5;241m1\u001b[39m, labels\u001b[38;5;241m=\u001b[39mag__\u001b[38;5;241m.\u001b[39mld(labels), pos_label\u001b[38;5;241m=\u001b[39mag__\u001b[38;5;241m.\u001b[39mld(pos_label), average\u001b[38;5;241m=\u001b[39mag__\u001b[38;5;241m.\u001b[39mld(average), sample_weight\u001b[38;5;241m=\u001b[39mag__\u001b[38;5;241m.\u001b[39mld(sample_weight), zero_division\u001b[38;5;241m=\u001b[39mag__\u001b[38;5;241m.\u001b[39mld(zero_division)), fscope)\n\u001b[0;32m    133\u001b[0m \u001b[38;5;28;01mexcept\u001b[39;00m:\n\u001b[0;32m    134\u001b[0m     do_return \u001b[38;5;241m=\u001b[39m \u001b[38;5;28;01mFalse\u001b[39;00m\n",
      "File \u001b[1;32m~\\AppData\\Local\\Temp\\__autograph_generated_fileak2qgfjp.py:122\u001b[0m, in \u001b[0;36mouter_factory.<locals>.inner_factory.<locals>.tf__fbeta_score\u001b[1;34m(y_true, y_pred, beta, labels, pos_label, average, sample_weight, zero_division)\u001b[0m\n\u001b[0;32m    120\u001b[0m do_return \u001b[38;5;241m=\u001b[39m \u001b[38;5;28;01mFalse\u001b[39;00m\n\u001b[0;32m    121\u001b[0m retval_ \u001b[38;5;241m=\u001b[39m ag__\u001b[38;5;241m.\u001b[39mUndefinedReturnValue()\n\u001b[1;32m--> 122\u001b[0m (_, _, f, _) \u001b[38;5;241m=\u001b[39m ag__\u001b[38;5;241m.\u001b[39mconverted_call(ag__\u001b[38;5;241m.\u001b[39mld(precision_recall_fscore_support), (ag__\u001b[38;5;241m.\u001b[39mld(y_true), ag__\u001b[38;5;241m.\u001b[39mld(y_pred)), \u001b[38;5;28mdict\u001b[39m(beta\u001b[38;5;241m=\u001b[39mag__\u001b[38;5;241m.\u001b[39mld(beta), labels\u001b[38;5;241m=\u001b[39mag__\u001b[38;5;241m.\u001b[39mld(labels), pos_label\u001b[38;5;241m=\u001b[39mag__\u001b[38;5;241m.\u001b[39mld(pos_label), average\u001b[38;5;241m=\u001b[39mag__\u001b[38;5;241m.\u001b[39mld(average), warn_for\u001b[38;5;241m=\u001b[39m(\u001b[38;5;124m'\u001b[39m\u001b[38;5;124mf-score\u001b[39m\u001b[38;5;124m'\u001b[39m,), sample_weight\u001b[38;5;241m=\u001b[39mag__\u001b[38;5;241m.\u001b[39mld(sample_weight), zero_division\u001b[38;5;241m=\u001b[39mag__\u001b[38;5;241m.\u001b[39mld(zero_division)), fscope)\n\u001b[0;32m    123\u001b[0m \u001b[38;5;28;01mtry\u001b[39;00m:\n\u001b[0;32m    124\u001b[0m     do_return \u001b[38;5;241m=\u001b[39m \u001b[38;5;28;01mTrue\u001b[39;00m\n",
      "File \u001b[1;32m~\\AppData\\Local\\Temp\\__autograph_generated_filejr2it5tc.py:168\u001b[0m, in \u001b[0;36mouter_factory.<locals>.inner_factory.<locals>.tf__precision_recall_fscore_support\u001b[1;34m(y_true, y_pred, beta, labels, pos_label, average, warn_for, sample_weight, zero_division)\u001b[0m\n\u001b[0;32m    166\u001b[0m     \u001b[38;5;28;01mpass\u001b[39;00m\n\u001b[0;32m    167\u001b[0m ag__\u001b[38;5;241m.\u001b[39mif_stmt(ag__\u001b[38;5;241m.\u001b[39mld(beta) \u001b[38;5;241m<\u001b[39m \u001b[38;5;241m0\u001b[39m, if_body, else_body, get_state, set_state, (), \u001b[38;5;241m0\u001b[39m)\n\u001b[1;32m--> 168\u001b[0m labels \u001b[38;5;241m=\u001b[39m ag__\u001b[38;5;241m.\u001b[39mconverted_call(ag__\u001b[38;5;241m.\u001b[39mld(_check_set_wise_labels), (ag__\u001b[38;5;241m.\u001b[39mld(y_true), ag__\u001b[38;5;241m.\u001b[39mld(y_pred), ag__\u001b[38;5;241m.\u001b[39mld(average), ag__\u001b[38;5;241m.\u001b[39mld(labels), ag__\u001b[38;5;241m.\u001b[39mld(pos_label)), \u001b[38;5;28;01mNone\u001b[39;00m, fscope)\n\u001b[0;32m    169\u001b[0m samplewise \u001b[38;5;241m=\u001b[39m ag__\u001b[38;5;241m.\u001b[39mld(average) \u001b[38;5;241m==\u001b[39m \u001b[38;5;124m'\u001b[39m\u001b[38;5;124msamples\u001b[39m\u001b[38;5;124m'\u001b[39m\n\u001b[0;32m    170\u001b[0m MCM \u001b[38;5;241m=\u001b[39m ag__\u001b[38;5;241m.\u001b[39mconverted_call(ag__\u001b[38;5;241m.\u001b[39mld(multilabel_confusion_matrix), (ag__\u001b[38;5;241m.\u001b[39mld(y_true), ag__\u001b[38;5;241m.\u001b[39mld(y_pred)), \u001b[38;5;28mdict\u001b[39m(sample_weight\u001b[38;5;241m=\u001b[39mag__\u001b[38;5;241m.\u001b[39mld(sample_weight), labels\u001b[38;5;241m=\u001b[39mag__\u001b[38;5;241m.\u001b[39mld(labels), samplewise\u001b[38;5;241m=\u001b[39mag__\u001b[38;5;241m.\u001b[39mld(samplewise)), fscope)\n",
      "File \u001b[1;32m~\\AppData\\Local\\Temp\\__autograph_generated_file8uu3w08x.py:28\u001b[0m, in \u001b[0;36mouter_factory.<locals>.inner_factory.<locals>.tf___check_set_wise_labels\u001b[1;34m(y_true, y_pred, average, labels, pos_label)\u001b[0m\n\u001b[0;32m     26\u001b[0m     \u001b[38;5;28;01mpass\u001b[39;00m\n\u001b[0;32m     27\u001b[0m ag__\u001b[38;5;241m.\u001b[39mif_stmt(ag__\u001b[38;5;241m.\u001b[39mand_(\u001b[38;5;28;01mlambda\u001b[39;00m : ag__\u001b[38;5;241m.\u001b[39mld(average) \u001b[38;5;129;01mnot\u001b[39;00m \u001b[38;5;129;01min\u001b[39;00m ag__\u001b[38;5;241m.\u001b[39mld(average_options), \u001b[38;5;28;01mlambda\u001b[39;00m : ag__\u001b[38;5;241m.\u001b[39mld(average) \u001b[38;5;241m!=\u001b[39m \u001b[38;5;124m'\u001b[39m\u001b[38;5;124mbinary\u001b[39m\u001b[38;5;124m'\u001b[39m), if_body, else_body, get_state, set_state, (), \u001b[38;5;241m0\u001b[39m)\n\u001b[1;32m---> 28\u001b[0m (y_type, y_true, y_pred) \u001b[38;5;241m=\u001b[39m ag__\u001b[38;5;241m.\u001b[39mconverted_call(ag__\u001b[38;5;241m.\u001b[39mld(_check_targets), (ag__\u001b[38;5;241m.\u001b[39mld(y_true), ag__\u001b[38;5;241m.\u001b[39mld(y_pred)), \u001b[38;5;28;01mNone\u001b[39;00m, fscope)\n\u001b[0;32m     29\u001b[0m present_labels \u001b[38;5;241m=\u001b[39m ag__\u001b[38;5;241m.\u001b[39mconverted_call(ag__\u001b[38;5;241m.\u001b[39mconverted_call(ag__\u001b[38;5;241m.\u001b[39mld(unique_labels), (ag__\u001b[38;5;241m.\u001b[39mld(y_true), ag__\u001b[38;5;241m.\u001b[39mld(y_pred)), \u001b[38;5;28;01mNone\u001b[39;00m, fscope)\u001b[38;5;241m.\u001b[39mtolist, (), \u001b[38;5;28;01mNone\u001b[39;00m, fscope)\n\u001b[0;32m     31\u001b[0m \u001b[38;5;28;01mdef\u001b[39;00m \u001b[38;5;21mget_state_6\u001b[39m():\n",
      "File \u001b[1;32m~\\AppData\\Local\\Temp\\__autograph_generated_fileflcz81ki.py:36\u001b[0m, in \u001b[0;36mouter_factory.<locals>.inner_factory.<locals>.tf___check_targets\u001b[1;34m(y_true, y_pred)\u001b[0m\n\u001b[0;32m     34\u001b[0m do_return \u001b[38;5;241m=\u001b[39m \u001b[38;5;28;01mFalse\u001b[39;00m\n\u001b[0;32m     35\u001b[0m retval_ \u001b[38;5;241m=\u001b[39m ag__\u001b[38;5;241m.\u001b[39mUndefinedReturnValue()\n\u001b[1;32m---> 36\u001b[0m ag__\u001b[38;5;241m.\u001b[39mconverted_call(ag__\u001b[38;5;241m.\u001b[39mld(check_consistent_length), (ag__\u001b[38;5;241m.\u001b[39mld(y_true), ag__\u001b[38;5;241m.\u001b[39mld(y_pred)), \u001b[38;5;28;01mNone\u001b[39;00m, fscope)\n\u001b[0;32m     37\u001b[0m type_true \u001b[38;5;241m=\u001b[39m ag__\u001b[38;5;241m.\u001b[39mconverted_call(ag__\u001b[38;5;241m.\u001b[39mld(type_of_target), (ag__\u001b[38;5;241m.\u001b[39mld(y_true),), \u001b[38;5;28;01mNone\u001b[39;00m, fscope)\n\u001b[0;32m     38\u001b[0m type_pred \u001b[38;5;241m=\u001b[39m ag__\u001b[38;5;241m.\u001b[39mconverted_call(ag__\u001b[38;5;241m.\u001b[39mld(type_of_target), (ag__\u001b[38;5;241m.\u001b[39mld(y_pred),), \u001b[38;5;28;01mNone\u001b[39;00m, fscope)\n",
      "File \u001b[1;32m~\\AppData\\Local\\Temp\\__autograph_generated_file7r7s0lmf.py:18\u001b[0m, in \u001b[0;36mouter_factory.<locals>.inner_factory.<locals>.tf__check_consistent_length\u001b[1;34m(*arrays)\u001b[0m\n\u001b[0;32m     16\u001b[0m \u001b[38;5;28;01mwith\u001b[39;00m ag__\u001b[38;5;241m.\u001b[39mFunctionScope(\u001b[38;5;124m'\u001b[39m\u001b[38;5;124mcheck_consistent_length\u001b[39m\u001b[38;5;124m'\u001b[39m, \u001b[38;5;124m'\u001b[39m\u001b[38;5;124mfscope\u001b[39m\u001b[38;5;124m'\u001b[39m, ag__\u001b[38;5;241m.\u001b[39mSTD) \u001b[38;5;28;01mas\u001b[39;00m fscope:\n\u001b[0;32m     17\u001b[0m     lengths \u001b[38;5;241m=\u001b[39m [ag__\u001b[38;5;241m.\u001b[39mconverted_call(ag__\u001b[38;5;241m.\u001b[39mld(_num_samples), (ag__\u001b[38;5;241m.\u001b[39mld(X),), \u001b[38;5;28;01mNone\u001b[39;00m, fscope) \u001b[38;5;28;01mfor\u001b[39;00m X \u001b[38;5;129;01min\u001b[39;00m ag__\u001b[38;5;241m.\u001b[39mld(arrays) \u001b[38;5;28;01mif\u001b[39;00m ag__\u001b[38;5;241m.\u001b[39mld(X) \u001b[38;5;129;01mis\u001b[39;00m \u001b[38;5;129;01mnot\u001b[39;00m \u001b[38;5;28;01mNone\u001b[39;00m]\n\u001b[1;32m---> 18\u001b[0m     uniques \u001b[38;5;241m=\u001b[39m ag__\u001b[38;5;241m.\u001b[39mconverted_call(ag__\u001b[38;5;241m.\u001b[39mld(np)\u001b[38;5;241m.\u001b[39munique, (ag__\u001b[38;5;241m.\u001b[39mld(lengths),), \u001b[38;5;28;01mNone\u001b[39;00m, fscope)\n\u001b[0;32m     20\u001b[0m     \u001b[38;5;28;01mdef\u001b[39;00m \u001b[38;5;21mget_state\u001b[39m():\n\u001b[0;32m     21\u001b[0m         \u001b[38;5;28;01mreturn\u001b[39;00m ()\n",
      "File \u001b[1;32m<__array_function__ internals>:5\u001b[0m, in \u001b[0;36munique\u001b[1;34m(*args, **kwargs)\u001b[0m\n",
      "File \u001b[1;32m~\\anaconda3\\lib\\site-packages\\numpy\\lib\\arraysetops.py:270\u001b[0m, in \u001b[0;36munique\u001b[1;34m(ar, return_index, return_inverse, return_counts, axis)\u001b[0m\n\u001b[0;32m    138\u001b[0m \u001b[38;5;129m@array_function_dispatch\u001b[39m(_unique_dispatcher)\n\u001b[0;32m    139\u001b[0m \u001b[38;5;28;01mdef\u001b[39;00m \u001b[38;5;21munique\u001b[39m(ar, return_index\u001b[38;5;241m=\u001b[39m\u001b[38;5;28;01mFalse\u001b[39;00m, return_inverse\u001b[38;5;241m=\u001b[39m\u001b[38;5;28;01mFalse\u001b[39;00m,\n\u001b[0;32m    140\u001b[0m            return_counts\u001b[38;5;241m=\u001b[39m\u001b[38;5;28;01mFalse\u001b[39;00m, axis\u001b[38;5;241m=\u001b[39m\u001b[38;5;28;01mNone\u001b[39;00m):\n\u001b[0;32m    141\u001b[0m     \u001b[38;5;124;03m\"\"\"\u001b[39;00m\n\u001b[0;32m    142\u001b[0m \u001b[38;5;124;03m    Find the unique elements of an array.\u001b[39;00m\n\u001b[0;32m    143\u001b[0m \n\u001b[1;32m   (...)\u001b[0m\n\u001b[0;32m    268\u001b[0m \n\u001b[0;32m    269\u001b[0m \u001b[38;5;124;03m    \"\"\"\u001b[39;00m\n\u001b[1;32m--> 270\u001b[0m     ar \u001b[38;5;241m=\u001b[39m \u001b[43mnp\u001b[49m\u001b[38;5;241;43m.\u001b[39;49m\u001b[43masanyarray\u001b[49m\u001b[43m(\u001b[49m\u001b[43mar\u001b[49m\u001b[43m)\u001b[49m\n\u001b[0;32m    271\u001b[0m     \u001b[38;5;28;01mif\u001b[39;00m axis \u001b[38;5;129;01mis\u001b[39;00m \u001b[38;5;28;01mNone\u001b[39;00m:\n\u001b[0;32m    272\u001b[0m         ret \u001b[38;5;241m=\u001b[39m _unique1d(ar, return_index, return_inverse, return_counts)\n",
      "\u001b[1;31mNotImplementedError\u001b[0m: in user code:\n\n    File \"C:\\Users\\kenta\\anaconda3\\lib\\site-packages\\keras\\engine\\training.py\", line 1160, in train_function  *\n        return step_function(self, iterator)\n    File \"C:\\Users\\kenta\\anaconda3\\lib\\site-packages\\sklearn\\metrics\\_classification.py\", line 1130, in f1_score  *\n        zero_division=zero_division,\n    File \"C:\\Users\\kenta\\anaconda3\\lib\\site-packages\\sklearn\\metrics\\_classification.py\", line 1259, in fbeta_score  *\n        _, _, f, _ = precision_recall_fscore_support(\n    File \"C:\\Users\\kenta\\anaconda3\\lib\\site-packages\\sklearn\\metrics\\_classification.py\", line 1539, in precision_recall_fscore_support  *\n        labels = _check_set_wise_labels(y_true, y_pred, average, labels, pos_label)\n    File \"C:\\Users\\kenta\\anaconda3\\lib\\site-packages\\sklearn\\metrics\\_classification.py\", line 1348, in _check_set_wise_labels  *\n        y_type, y_true, y_pred = _check_targets(y_true, y_pred)\n    File \"C:\\Users\\kenta\\anaconda3\\lib\\site-packages\\sklearn\\metrics\\_classification.py\", line 84, in _check_targets  *\n        check_consistent_length(y_true, y_pred)\n    File \"C:\\Users\\kenta\\anaconda3\\lib\\site-packages\\sklearn\\utils\\validation.py\", line 330, in check_consistent_length  *\n        uniques = np.unique(lengths)\n    File \"<__array_function__ internals>\", line 5, in unique  **\n        \n    File \"C:\\Users\\kenta\\anaconda3\\lib\\site-packages\\numpy\\lib\\arraysetops.py\", line 270, in unique\n        ar = np.asanyarray(ar)\n\n    NotImplementedError: Cannot convert a symbolic tf.Tensor (strided_slice_1:0) to a numpy array. This error may indicate that you're trying to pass a Tensor to a NumPy call, which is not supported.\n"
     ]
    }
   ],
   "source": [
    "history = model2.fit(X_res, y_res, validation_data=(X_test, y_test), epochs=100)"
   ]
  },
  {
   "cell_type": "code",
   "execution_count": 316,
   "id": "47cfab12",
   "metadata": {},
   "outputs": [
    {
     "name": "stdout",
     "output_type": "stream",
     "text": [
      "Train: 0.861, Test: 0.793\n"
     ]
    }
   ],
   "source": [
    "train_acc = model2.evaluate(X_res, y_res, verbose=0)\n",
    "test_acc = model2.evaluate(X_tr_test, y_test, verbose=0)\n",
    "print('Train: %.3f, Test: %.3f' % (train_acc[1], test_acc[1]))"
   ]
  },
  {
   "cell_type": "code",
   "execution_count": 345,
   "id": "94e27b20",
   "metadata": {},
   "outputs": [
    {
     "name": "stdout",
     "output_type": "stream",
     "text": [
      "48/48 [==============================] - 0s 985us/step\n"
     ]
    }
   ],
   "source": [
    "y_predict = model2.predict(X_tr_test)\n",
    "y_predict = (y_predict > 0.5)"
   ]
  },
  {
   "cell_type": "code",
   "execution_count": 346,
   "id": "8f776b77",
   "metadata": {},
   "outputs": [
    {
     "data": {
      "text/plain": [
       "array([False])"
      ]
     },
     "execution_count": 346,
     "metadata": {},
     "output_type": "execute_result"
    }
   ],
   "source": [
    "y_predict[0]\n",
    "#y_predict.size"
   ]
  },
  {
   "cell_type": "code",
   "execution_count": 340,
   "id": "7538c6a2",
   "metadata": {},
   "outputs": [],
   "source": [
    "def get_classification_metric(testy, probs):\n",
    "    from sklearn.metrics import precision_recall_curve\n",
    "    precision, recall, thresholds = precision_recall_curve(testy, probs)\n",
    "    # convert to f score\n",
    "    fscore = (2 * precision * recall) / (precision + recall)\n",
    "    # locate the index of the largest f score\n",
    "    ix = np.argmax(fscore)\n",
    "    return fscore[ix]"
   ]
  },
  {
   "cell_type": "code",
   "execution_count": 364,
   "id": "7107a99d",
   "metadata": {},
   "outputs": [
    {
     "name": "stdout",
     "output_type": "stream",
     "text": [
      "0.20365535248041775\n"
     ]
    }
   ],
   "source": [
    "print(get_classification_metric(list(y_test), y_predict))"
   ]
  },
  {
   "cell_type": "code",
   "execution_count": null,
   "id": "a0fc75bb",
   "metadata": {},
   "outputs": [],
   "source": []
  },
  {
   "cell_type": "code",
   "execution_count": 367,
   "id": "9bece607",
   "metadata": {},
   "outputs": [],
   "source": [
    "import seaborn as sns"
   ]
  },
  {
   "cell_type": "code",
   "execution_count": 422,
   "id": "d7128758",
   "metadata": {},
   "outputs": [
    {
     "data": {
      "text/plain": [
       "<AxesSubplot:xlabel='avg_glucose_level'>"
      ]
     },
     "execution_count": 422,
     "metadata": {},
     "output_type": "execute_result"
    },
    {
     "data": {
      "image/png": "[encoded data removed]",
      "text/plain": [
       "<Figure size 432x288 with 1 Axes>"
      ]
     },
     "metadata": {
      "needs_background": "light"
     },
     "output_type": "display_data"
    }
   ],
   "source": [
    "sns.boxplot(X_stroke_df['avg_glucose_level'])"
   ]
  },
  {
   "cell_type": "code",
   "execution_count": 423,
   "id": "b5575cec",
   "metadata": {},
   "outputs": [
    {
     "data": {
      "text/plain": [
       "<AxesSubplot:ylabel='Frequency'>"
      ]
     },
     "execution_count": 423,
     "metadata": {},
     "output_type": "execute_result"
    },
    {
     "data": {
      "image/png": "[encoded data removed]",
      "text/plain": [
       "<Figure size 432x288 with 1 Axes>"
      ]
     },
     "metadata": {
      "needs_background": "light"
     },
     "output_type": "display_data"
    }
   ],
   "source": [
    "X_stroke_df['avg_glucose_level'].plot(kind='hist')"
   ]
  },
  {
   "cell_type": "code",
   "execution_count": 393,
   "id": "80639768",
   "metadata": {},
   "outputs": [],
   "source": [
    "def get_outlier(df=None, column=None, weight=1.5):\n",
    "    # only pull out fraud case, and calculate percentile of Q1, and Q3 spot\n",
    "    # fraud = df[df['Class']==1][column]\n",
    "    active_col = df[column]\n",
    "    quantile_25 = np.percentile(active_col.values, 25)\n",
    "    quantile_75 = np.percentile(active_col.values, 75)\n",
    "    # multiplying 1.5 to calculated IQR, and add or subtract to Q3, and Q1\n",
    "    iqr = quantile_75 - quantile_25\n",
    "    iqr_weight = iqr * weight\n",
    "    low_val = quantile_25 - iqr_weight\n",
    "    print(\"lowest value = \", low_val)\n",
    "    high_val = quantile_75 + iqr_weight\n",
    "    print(\"highest value = \", high_val)\n",
    "    # Defining Outlier Values\n",
    "    outlier_index = active_col[(active_col < low_val) | (active_col > high_val)].index\n",
    "    return outlier_index, high_val, low_val"
   ]
  },
  {
   "cell_type": "code",
   "execution_count": 424,
   "id": "60d46be7",
   "metadata": {},
   "outputs": [
    {
     "name": "stdout",
     "output_type": "stream",
     "text": [
      "lowest value =  21.977500000000006\n",
      "highest value =  169.35750000000002\n",
      "Outliers: Int64Index([   0,    1,    3,    4,    5,   13,   14,   16,   17,   19,\n",
      "            ...\n",
      "            5029, 5034, 5035, 5041, 5048, 5061, 5062, 5063, 5064, 5076],\n",
      "           dtype='int64', length=627)\n"
     ]
    }
   ],
   "source": [
    "outlier_index, high_value, low_value = get_outlier(df=X_stroke_df, column='avg_glucose_level', weight=1.5)\n",
    "print('Outliers:', outlier_index)"
   ]
  },
  {
   "cell_type": "code",
   "execution_count": 425,
   "id": "83b7d1ed",
   "metadata": {},
   "outputs": [
    {
     "data": {
      "text/plain": [
       "627"
      ]
     },
     "execution_count": 425,
     "metadata": {},
     "output_type": "execute_result"
    }
   ],
   "source": [
    "outlier_index.size"
   ]
  },
  {
   "cell_type": "code",
   "execution_count": 426,
   "id": "5eb71f55",
   "metadata": {},
   "outputs": [
    {
     "data": {
      "text/plain": [
       "51100"
      ]
     },
     "execution_count": 426,
     "metadata": {},
     "output_type": "execute_result"
    }
   ],
   "source": [
    "X_stroke_df.size"
   ]
  },
  {
   "cell_type": "code",
   "execution_count": 427,
   "id": "dd01120f",
   "metadata": {},
   "outputs": [
    {
     "data": {
      "text/plain": [
       "0.012270058708414872"
      ]
     },
     "execution_count": 427,
     "metadata": {},
     "output_type": "execute_result"
    }
   ],
   "source": [
    "outlier_index.size / X_stroke_df.size"
   ]
  },
  {
   "cell_type": "code",
   "execution_count": 428,
   "id": "c3bb5339",
   "metadata": {},
   "outputs": [],
   "source": [
    "X_stroke_df[\"avg_glucose_level\"] = \\\n",
    "np.where(X_stroke_df[\"avg_glucose_level\"] > high_value, high_value, X_stroke_df[\"avg_glucose_level\"])"
   ]
  },
  {
   "cell_type": "code",
   "execution_count": 396,
   "id": "da939114",
   "metadata": {},
   "outputs": [
    {
     "data": {
      "text/plain": [
       "<AxesSubplot:ylabel='Frequency'>"
      ]
     },
     "execution_count": 396,
     "metadata": {},
     "output_type": "execute_result"
    },
    {
     "data": {
      "image/png": "[encoded data removed]",
      "text/plain": [
       "<Figure size 432x288 with 1 Axes>"
      ]
     },
     "metadata": {
      "needs_background": "light"
     },
     "output_type": "display_data"
    }
   ],
   "source": [
    "X_stroke_df['avg_glucose_level'].plot(kind='hist')"
   ]
  },
  {
   "cell_type": "code",
   "execution_count": 429,
   "id": "13d7e9ae",
   "metadata": {
    "scrolled": true
   },
   "outputs": [
    {
     "data": {
      "text/plain": [
       "<AxesSubplot:xlabel='avg_glucose_level'>"
      ]
     },
     "execution_count": 429,
     "metadata": {},
     "output_type": "execute_result"
    },
    {
     "data": {
      "image/png": "[encoded data removed]",
      "text/plain": [
       "<Figure size 432x288 with 1 Axes>"
      ]
     },
     "metadata": {
      "needs_background": "light"
     },
     "output_type": "display_data"
    }
   ],
   "source": [
    "sns.boxplot(X_stroke_df['avg_glucose_level'])"
   ]
  },
  {
   "cell_type": "code",
   "execution_count": 430,
   "id": "06ede5a5",
   "metadata": {},
   "outputs": [
    {
     "data": {
      "text/html": [
       "<div>\n",
       "<style scoped>\n",
       "    .dataframe tbody tr th:only-of-type {\n",
       "        vertical-align: middle;\n",
       "    }\n",
       "\n",
       "    .dataframe tbody tr th {\n",
       "        vertical-align: top;\n",
       "    }\n",
       "\n",
       "    .dataframe thead th {\n",
       "        text-align: right;\n",
       "    }\n",
       "</style>\n",
       "<table border=\"1\" class=\"dataframe\">\n",
       "  <thead>\n",
       "    <tr style=\"text-align: right;\">\n",
       "      <th></th>\n",
       "      <th>gender</th>\n",
       "      <th>age</th>\n",
       "      <th>hypertension</th>\n",
       "      <th>heart_disease</th>\n",
       "      <th>ever_married</th>\n",
       "      <th>work_type</th>\n",
       "      <th>Residence_type</th>\n",
       "      <th>avg_glucose_level</th>\n",
       "      <th>bmi</th>\n",
       "      <th>smoking_status</th>\n",
       "    </tr>\n",
       "  </thead>\n",
       "  <tbody>\n",
       "    <tr>\n",
       "      <th>0</th>\n",
       "      <td>Male</td>\n",
       "      <td>67.0</td>\n",
       "      <td>0</td>\n",
       "      <td>1</td>\n",
       "      <td>Yes</td>\n",
       "      <td>Private</td>\n",
       "      <td>Urban</td>\n",
       "      <td>169.3575</td>\n",
       "      <td>36.6</td>\n",
       "      <td>formerly smoked</td>\n",
       "    </tr>\n",
       "    <tr>\n",
       "      <th>1</th>\n",
       "      <td>Female</td>\n",
       "      <td>61.0</td>\n",
       "      <td>0</td>\n",
       "      <td>0</td>\n",
       "      <td>Yes</td>\n",
       "      <td>Self-employed</td>\n",
       "      <td>Rural</td>\n",
       "      <td>169.3575</td>\n",
       "      <td>NaN</td>\n",
       "      <td>never smoked</td>\n",
       "    </tr>\n",
       "    <tr>\n",
       "      <th>2</th>\n",
       "      <td>Male</td>\n",
       "      <td>80.0</td>\n",
       "      <td>0</td>\n",
       "      <td>1</td>\n",
       "      <td>Yes</td>\n",
       "      <td>Private</td>\n",
       "      <td>Rural</td>\n",
       "      <td>105.9200</td>\n",
       "      <td>32.5</td>\n",
       "      <td>never smoked</td>\n",
       "    </tr>\n",
       "    <tr>\n",
       "      <th>3</th>\n",
       "      <td>Female</td>\n",
       "      <td>49.0</td>\n",
       "      <td>0</td>\n",
       "      <td>0</td>\n",
       "      <td>Yes</td>\n",
       "      <td>Private</td>\n",
       "      <td>Urban</td>\n",
       "      <td>169.3575</td>\n",
       "      <td>34.4</td>\n",
       "      <td>smokes</td>\n",
       "    </tr>\n",
       "    <tr>\n",
       "      <th>4</th>\n",
       "      <td>Female</td>\n",
       "      <td>79.0</td>\n",
       "      <td>1</td>\n",
       "      <td>0</td>\n",
       "      <td>Yes</td>\n",
       "      <td>Self-employed</td>\n",
       "      <td>Rural</td>\n",
       "      <td>169.3575</td>\n",
       "      <td>24.0</td>\n",
       "      <td>never smoked</td>\n",
       "    </tr>\n",
       "    <tr>\n",
       "      <th>...</th>\n",
       "      <td>...</td>\n",
       "      <td>...</td>\n",
       "      <td>...</td>\n",
       "      <td>...</td>\n",
       "      <td>...</td>\n",
       "      <td>...</td>\n",
       "      <td>...</td>\n",
       "      <td>...</td>\n",
       "      <td>...</td>\n",
       "      <td>...</td>\n",
       "    </tr>\n",
       "    <tr>\n",
       "      <th>5105</th>\n",
       "      <td>Female</td>\n",
       "      <td>80.0</td>\n",
       "      <td>1</td>\n",
       "      <td>0</td>\n",
       "      <td>Yes</td>\n",
       "      <td>Private</td>\n",
       "      <td>Urban</td>\n",
       "      <td>83.7500</td>\n",
       "      <td>NaN</td>\n",
       "      <td>never smoked</td>\n",
       "    </tr>\n",
       "    <tr>\n",
       "      <th>5106</th>\n",
       "      <td>Female</td>\n",
       "      <td>81.0</td>\n",
       "      <td>0</td>\n",
       "      <td>0</td>\n",
       "      <td>Yes</td>\n",
       "      <td>Self-employed</td>\n",
       "      <td>Urban</td>\n",
       "      <td>125.2000</td>\n",
       "      <td>40.0</td>\n",
       "      <td>never smoked</td>\n",
       "    </tr>\n",
       "    <tr>\n",
       "      <th>5107</th>\n",
       "      <td>Female</td>\n",
       "      <td>35.0</td>\n",
       "      <td>0</td>\n",
       "      <td>0</td>\n",
       "      <td>Yes</td>\n",
       "      <td>Self-employed</td>\n",
       "      <td>Rural</td>\n",
       "      <td>82.9900</td>\n",
       "      <td>30.6</td>\n",
       "      <td>never smoked</td>\n",
       "    </tr>\n",
       "    <tr>\n",
       "      <th>5108</th>\n",
       "      <td>Male</td>\n",
       "      <td>51.0</td>\n",
       "      <td>0</td>\n",
       "      <td>0</td>\n",
       "      <td>Yes</td>\n",
       "      <td>Private</td>\n",
       "      <td>Rural</td>\n",
       "      <td>166.2900</td>\n",
       "      <td>25.6</td>\n",
       "      <td>formerly smoked</td>\n",
       "    </tr>\n",
       "    <tr>\n",
       "      <th>5109</th>\n",
       "      <td>Female</td>\n",
       "      <td>44.0</td>\n",
       "      <td>0</td>\n",
       "      <td>0</td>\n",
       "      <td>Yes</td>\n",
       "      <td>Govt_job</td>\n",
       "      <td>Urban</td>\n",
       "      <td>85.2800</td>\n",
       "      <td>26.2</td>\n",
       "      <td>Unknown</td>\n",
       "    </tr>\n",
       "  </tbody>\n",
       "</table>\n",
       "<p>5110 rows × 10 columns</p>\n",
       "</div>"
      ],
      "text/plain": [
       "      gender   age  hypertension  heart_disease ever_married      work_type  \\\n",
       "0       Male  67.0             0              1          Yes        Private   \n",
       "1     Female  61.0             0              0          Yes  Self-employed   \n",
       "2       Male  80.0             0              1          Yes        Private   \n",
       "3     Female  49.0             0              0          Yes        Private   \n",
       "4     Female  79.0             1              0          Yes  Self-employed   \n",
       "...      ...   ...           ...            ...          ...            ...   \n",
       "5105  Female  80.0             1              0          Yes        Private   \n",
       "5106  Female  81.0             0              0          Yes  Self-employed   \n",
       "5107  Female  35.0             0              0          Yes  Self-employed   \n",
       "5108    Male  51.0             0              0          Yes        Private   \n",
       "5109  Female  44.0             0              0          Yes       Govt_job   \n",
       "\n",
       "     Residence_type  avg_glucose_level   bmi   smoking_status  \n",
       "0             Urban           169.3575  36.6  formerly smoked  \n",
       "1             Rural           169.3575   NaN     never smoked  \n",
       "2             Rural           105.9200  32.5     never smoked  \n",
       "3             Urban           169.3575  34.4           smokes  \n",
       "4             Rural           169.3575  24.0     never smoked  \n",
       "...             ...                ...   ...              ...  \n",
       "5105          Urban            83.7500   NaN     never smoked  \n",
       "5106          Urban           125.2000  40.0     never smoked  \n",
       "5107          Rural            82.9900  30.6     never smoked  \n",
       "5108          Rural           166.2900  25.6  formerly smoked  \n",
       "5109          Urban            85.2800  26.2          Unknown  \n",
       "\n",
       "[5110 rows x 10 columns]"
      ]
     },
     "execution_count": 430,
     "metadata": {},
     "output_type": "execute_result"
    }
   ],
   "source": [
    "X_stroke_df"
   ]
  },
  {
   "cell_type": "code",
   "execution_count": 431,
   "id": "3ff543f2",
   "metadata": {},
   "outputs": [
    {
     "data": {
      "text/plain": [
       "0"
      ]
     },
     "execution_count": 431,
     "metadata": {},
     "output_type": "execute_result"
    }
   ],
   "source": [
    "# X_stroke_df.tail()\n",
    "X_stroke_df['bmi'].fillna(stroke_df['bmi'].mean(),inplace=True)\n",
    "# stroke_df[stroke_df.isna().any(axis=1)]\n",
    "# stroke_df.isna().any(axis=1).sum()\n",
    "X_stroke_df.isna().any(axis=1).sum()\n",
    "# print(X_stroke_df[X_stroke_df.isna().any(axis=1)].to_string())"
   ]
  },
  {
   "cell_type": "code",
   "execution_count": 558,
   "id": "74086e1d",
   "metadata": {},
   "outputs": [
    {
     "data": {
      "text/plain": [
       "<AxesSubplot:ylabel='Frequency'>"
      ]
     },
     "execution_count": 558,
     "metadata": {},
     "output_type": "execute_result"
    },
    {
     "data": {
      "image/png": "[encoded data removed]",
      "text/plain": [
       "<Figure size 432x288 with 1 Axes>"
      ]
     },
     "metadata": {
      "needs_background": "light"
     },
     "output_type": "display_data"
    }
   ],
   "source": [
    "X_stroke_df['bmi'].plot(kind='hist')"
   ]
  },
  {
   "cell_type": "code",
   "execution_count": 559,
   "id": "6f22ca9a",
   "metadata": {},
   "outputs": [
    {
     "data": {
      "text/plain": [
       "<AxesSubplot:xlabel='bmi'>"
      ]
     },
     "execution_count": 559,
     "metadata": {},
     "output_type": "execute_result"
    },
    {
     "data": {
      "image/png": "[encoded data removed]",
      "text/plain": [
       "<Figure size 432x288 with 1 Axes>"
      ]
     },
     "metadata": {
      "needs_background": "light"
     },
     "output_type": "display_data"
    }
   ],
   "source": [
    "sns.boxplot(X_stroke_df['bmi'])"
   ]
  },
  {
   "cell_type": "code",
   "execution_count": 434,
   "id": "a02b46fa",
   "metadata": {},
   "outputs": [
    {
     "name": "stdout",
     "output_type": "stream",
     "text": [
      "lowest value =  10.300000000000006\n",
      "highest value =  46.29999999999999\n",
      "Outliers: Int64Index([  21,   66,  113,  254,  258,  270,  333,  341,  358,  368,\n",
      "            ...\n",
      "            4779, 4838, 4847, 4858, 4894, 4906, 4952, 5009, 5057, 5103],\n",
      "           dtype='int64', length=126)\n"
     ]
    }
   ],
   "source": [
    "outlier_index, high_value, low_value = get_outlier(df=X_stroke_df, column='bmi', weight=1.5)\n",
    "print('Outliers:', outlier_index)"
   ]
  },
  {
   "cell_type": "code",
   "execution_count": 435,
   "id": "07c6e99b",
   "metadata": {},
   "outputs": [],
   "source": [
    "X_stroke_df[\"bmi\"] = \\\n",
    "np.where(X_stroke_df[\"bmi\"] > high_value, high_value, X_stroke_df[\"bmi\"])\n",
    "\n",
    "X_stroke_df[\"bmi\"] = \\\n",
    "np.where(X_stroke_df[\"bmi\"] < low_value, low_value, X_stroke_df[\"bmi\"])"
   ]
  },
  {
   "cell_type": "code",
   "execution_count": 553,
   "id": "cf156f27",
   "metadata": {},
   "outputs": [
    {
     "data": {
      "text/plain": [
       "<AxesSubplot:ylabel='Frequency'>"
      ]
     },
     "execution_count": 553,
     "metadata": {},
     "output_type": "execute_result"
    },
    {
     "data": {
      "image/png": "[encoded data removed]",
      "text/plain": [
       "<Figure size 432x288 with 1 Axes>"
      ]
     },
     "metadata": {
      "needs_background": "light"
     },
     "output_type": "display_data"
    }
   ],
   "source": [
    "X_stroke_df['bmi'].plot(kind='hist')"
   ]
  },
  {
   "cell_type": "code",
   "execution_count": 437,
   "id": "efc11680",
   "metadata": {},
   "outputs": [
    {
     "data": {
      "text/plain": [
       "<AxesSubplot:xlabel='bmi'>"
      ]
     },
     "execution_count": 437,
     "metadata": {},
     "output_type": "execute_result"
    },
    {
     "data": {
      "image/png": "[encoded data removed]",
      "text/plain": [
       "<Figure size 432x288 with 1 Axes>"
      ]
     },
     "metadata": {
      "needs_background": "light"
     },
     "output_type": "display_data"
    }
   ],
   "source": [
    "sns.boxplot(X_stroke_df['bmi'])"
   ]
  },
  {
   "cell_type": "code",
   "execution_count": 438,
   "id": "72b7fd7c",
   "metadata": {},
   "outputs": [
    {
     "data": {
      "text/plain": [
       "<AxesSubplot:ylabel='Frequency'>"
      ]
     },
     "execution_count": 438,
     "metadata": {},
     "output_type": "execute_result"
    },
    {
     "data": {
      "image/png": "[encoded data removed]",
      "text/plain": [
       "<Figure size 432x288 with 1 Axes>"
      ]
     },
     "metadata": {
      "needs_background": "light"
     },
     "output_type": "display_data"
    }
   ],
   "source": [
    "X_stroke_df['age'].plot(kind='hist')"
   ]
  },
  {
   "cell_type": "code",
   "execution_count": 439,
   "id": "c2cb4123",
   "metadata": {},
   "outputs": [
    {
     "data": {
      "text/plain": [
       "<AxesSubplot:xlabel='age'>"
      ]
     },
     "execution_count": 439,
     "metadata": {},
     "output_type": "execute_result"
    },
    {
     "data": {
      "image/png": "[encoded data removed]",
      "text/plain": [
       "<Figure size 432x288 with 1 Axes>"
      ]
     },
     "metadata": {
      "needs_background": "light"
     },
     "output_type": "display_data"
    }
   ],
   "source": [
    "sns.boxplot(X_stroke_df['age'])"
   ]
  },
  {
   "cell_type": "code",
   "execution_count": 494,
   "id": "78c98ecc",
   "metadata": {},
   "outputs": [],
   "source": [
    "X_stroke_df = ordinalize_features(X_stroke_df)"
   ]
  },
  {
   "cell_type": "code",
   "execution_count": 450,
   "id": "22ee4c8b",
   "metadata": {},
   "outputs": [],
   "source": [
    "X_stroke_df = normalize_features(X_stroke_df, norm_features)"
   ]
  },
  {
   "cell_type": "code",
   "execution_count": 479,
   "id": "2a1cedde",
   "metadata": {},
   "outputs": [
    {
     "data": {
      "text/plain": [
       "201"
      ]
     },
     "execution_count": 479,
     "metadata": {},
     "output_type": "execute_result"
    }
   ],
   "source": [
    "# X_stroke_df.tail()\n",
    "X_stroke_df['bmi'].fillna(stroke_df['bmi'].mean(),inplace=True)\n",
    "# stroke_df[stroke_df.isna().any(axis=1)]\n",
    "# stroke_df.isna().any(axis=1).sum()\n",
    "X_stroke_df.isna().any(axis=1).sum()\n",
    "# print(X_stroke_df[X_stroke_df.isna().any(axis=1)].to_string())"
   ]
  },
  {
   "cell_type": "code",
   "execution_count": 457,
   "id": "5fff8915",
   "metadata": {},
   "outputs": [
    {
     "data": {
      "text/html": [
       "<div>\n",
       "<style scoped>\n",
       "    .dataframe tbody tr th:only-of-type {\n",
       "        vertical-align: middle;\n",
       "    }\n",
       "\n",
       "    .dataframe tbody tr th {\n",
       "        vertical-align: top;\n",
       "    }\n",
       "\n",
       "    .dataframe thead th {\n",
       "        text-align: right;\n",
       "    }\n",
       "</style>\n",
       "<table border=\"1\" class=\"dataframe\">\n",
       "  <thead>\n",
       "    <tr style=\"text-align: right;\">\n",
       "      <th></th>\n",
       "      <th>age</th>\n",
       "      <th>hypertension</th>\n",
       "      <th>heart_disease</th>\n",
       "      <th>work_type</th>\n",
       "      <th>avg_glucose_level</th>\n",
       "      <th>bmi</th>\n",
       "      <th>gender_ordinal</th>\n",
       "      <th>smoking_ord</th>\n",
       "      <th>married_ord</th>\n",
       "      <th>residence_ord</th>\n",
       "    </tr>\n",
       "  </thead>\n",
       "  <tbody>\n",
       "    <tr>\n",
       "      <th>0</th>\n",
       "      <td>1.051331</td>\n",
       "      <td>0</td>\n",
       "      <td>1</td>\n",
       "      <td>Private</td>\n",
       "      <td>2.706111</td>\n",
       "      <td>0.981245</td>\n",
       "      <td>0</td>\n",
       "      <td>1</td>\n",
       "      <td>1</td>\n",
       "      <td>0</td>\n",
       "    </tr>\n",
       "    <tr>\n",
       "      <th>1</th>\n",
       "      <td>0.785993</td>\n",
       "      <td>0</td>\n",
       "      <td>0</td>\n",
       "      <td>Self-employed</td>\n",
       "      <td>2.121351</td>\n",
       "      <td>28.893237</td>\n",
       "      <td>2</td>\n",
       "      <td>0</td>\n",
       "      <td>1</td>\n",
       "      <td>1</td>\n",
       "    </tr>\n",
       "    <tr>\n",
       "      <th>2</th>\n",
       "      <td>1.626231</td>\n",
       "      <td>0</td>\n",
       "      <td>1</td>\n",
       "      <td>Private</td>\n",
       "      <td>-0.005028</td>\n",
       "      <td>0.459222</td>\n",
       "      <td>0</td>\n",
       "      <td>0</td>\n",
       "      <td>1</td>\n",
       "      <td>1</td>\n",
       "    </tr>\n",
       "    <tr>\n",
       "      <th>3</th>\n",
       "      <td>0.255317</td>\n",
       "      <td>0</td>\n",
       "      <td>0</td>\n",
       "      <td>Private</td>\n",
       "      <td>1.437217</td>\n",
       "      <td>0.701135</td>\n",
       "      <td>2</td>\n",
       "      <td>2</td>\n",
       "      <td>1</td>\n",
       "      <td>0</td>\n",
       "    </tr>\n",
       "    <tr>\n",
       "      <th>4</th>\n",
       "      <td>1.582008</td>\n",
       "      <td>1</td>\n",
       "      <td>0</td>\n",
       "      <td>Self-employed</td>\n",
       "      <td>1.501038</td>\n",
       "      <td>-0.623020</td>\n",
       "      <td>2</td>\n",
       "      <td>0</td>\n",
       "      <td>1</td>\n",
       "      <td>1</td>\n",
       "    </tr>\n",
       "    <tr>\n",
       "      <th>...</th>\n",
       "      <td>...</td>\n",
       "      <td>...</td>\n",
       "      <td>...</td>\n",
       "      <td>...</td>\n",
       "      <td>...</td>\n",
       "      <td>...</td>\n",
       "      <td>...</td>\n",
       "      <td>...</td>\n",
       "      <td>...</td>\n",
       "      <td>...</td>\n",
       "    </tr>\n",
       "    <tr>\n",
       "      <th>5105</th>\n",
       "      <td>1.626231</td>\n",
       "      <td>1</td>\n",
       "      <td>0</td>\n",
       "      <td>Private</td>\n",
       "      <td>-0.494609</td>\n",
       "      <td>28.893237</td>\n",
       "      <td>2</td>\n",
       "      <td>0</td>\n",
       "      <td>1</td>\n",
       "      <td>0</td>\n",
       "    </tr>\n",
       "    <tr>\n",
       "      <th>5106</th>\n",
       "      <td>1.670454</td>\n",
       "      <td>0</td>\n",
       "      <td>0</td>\n",
       "      <td>Self-employed</td>\n",
       "      <td>0.420734</td>\n",
       "      <td>1.414142</td>\n",
       "      <td>2</td>\n",
       "      <td>0</td>\n",
       "      <td>1</td>\n",
       "      <td>0</td>\n",
       "    </tr>\n",
       "    <tr>\n",
       "      <th>5107</th>\n",
       "      <td>-0.363806</td>\n",
       "      <td>0</td>\n",
       "      <td>0</td>\n",
       "      <td>Self-employed</td>\n",
       "      <td>-0.511393</td>\n",
       "      <td>0.217309</td>\n",
       "      <td>2</td>\n",
       "      <td>0</td>\n",
       "      <td>1</td>\n",
       "      <td>1</td>\n",
       "    </tr>\n",
       "    <tr>\n",
       "      <th>5108</th>\n",
       "      <td>0.343763</td>\n",
       "      <td>0</td>\n",
       "      <td>0</td>\n",
       "      <td>Private</td>\n",
       "      <td>1.328127</td>\n",
       "      <td>-0.419303</td>\n",
       "      <td>0</td>\n",
       "      <td>1</td>\n",
       "      <td>1</td>\n",
       "      <td>1</td>\n",
       "    </tr>\n",
       "    <tr>\n",
       "      <th>5109</th>\n",
       "      <td>0.034201</td>\n",
       "      <td>0</td>\n",
       "      <td>0</td>\n",
       "      <td>Govt_job</td>\n",
       "      <td>-0.460822</td>\n",
       "      <td>-0.342910</td>\n",
       "      <td>2</td>\n",
       "      <td>1</td>\n",
       "      <td>1</td>\n",
       "      <td>0</td>\n",
       "    </tr>\n",
       "  </tbody>\n",
       "</table>\n",
       "<p>5110 rows × 10 columns</p>\n",
       "</div>"
      ],
      "text/plain": [
       "           age  hypertension  heart_disease      work_type  avg_glucose_level  \\\n",
       "0     1.051331             0              1        Private           2.706111   \n",
       "1     0.785993             0              0  Self-employed           2.121351   \n",
       "2     1.626231             0              1        Private          -0.005028   \n",
       "3     0.255317             0              0        Private           1.437217   \n",
       "4     1.582008             1              0  Self-employed           1.501038   \n",
       "...        ...           ...            ...            ...                ...   \n",
       "5105  1.626231             1              0        Private          -0.494609   \n",
       "5106  1.670454             0              0  Self-employed           0.420734   \n",
       "5107 -0.363806             0              0  Self-employed          -0.511393   \n",
       "5108  0.343763             0              0        Private           1.328127   \n",
       "5109  0.034201             0              0       Govt_job          -0.460822   \n",
       "\n",
       "            bmi  gender_ordinal  smoking_ord  married_ord  residence_ord  \n",
       "0      0.981245               0            1            1              0  \n",
       "1     28.893237               2            0            1              1  \n",
       "2      0.459222               0            0            1              1  \n",
       "3      0.701135               2            2            1              0  \n",
       "4     -0.623020               2            0            1              1  \n",
       "...         ...             ...          ...          ...            ...  \n",
       "5105  28.893237               2            0            1              0  \n",
       "5106   1.414142               2            0            1              0  \n",
       "5107   0.217309               2            0            1              1  \n",
       "5108  -0.419303               0            1            1              1  \n",
       "5109  -0.342910               2            1            1              0  \n",
       "\n",
       "[5110 rows x 10 columns]"
      ]
     },
     "execution_count": 457,
     "metadata": {},
     "output_type": "execute_result"
    }
   ],
   "source": [
    "X_stroke_df"
   ]
  },
  {
   "cell_type": "code",
   "execution_count": 496,
   "id": "077ab6c7",
   "metadata": {},
   "outputs": [
    {
     "data": {
      "text/html": [
       "<div>\n",
       "<style scoped>\n",
       "    .dataframe tbody tr th:only-of-type {\n",
       "        vertical-align: middle;\n",
       "    }\n",
       "\n",
       "    .dataframe tbody tr th {\n",
       "        vertical-align: top;\n",
       "    }\n",
       "\n",
       "    .dataframe thead th {\n",
       "        text-align: right;\n",
       "    }\n",
       "</style>\n",
       "<table border=\"1\" class=\"dataframe\">\n",
       "  <thead>\n",
       "    <tr style=\"text-align: right;\">\n",
       "      <th></th>\n",
       "      <th>onehotencoder__x0_Govt_job</th>\n",
       "      <th>onehotencoder__x0_Never_worked</th>\n",
       "      <th>onehotencoder__x0_Private</th>\n",
       "      <th>onehotencoder__x0_Self-employed</th>\n",
       "      <th>onehotencoder__x0_children</th>\n",
       "      <th>age</th>\n",
       "      <th>hypertension</th>\n",
       "      <th>heart_disease</th>\n",
       "      <th>avg_glucose_level</th>\n",
       "      <th>bmi</th>\n",
       "      <th>bmi_log</th>\n",
       "      <th>bmi_sqrt</th>\n",
       "      <th>avg_glucose_level_log</th>\n",
       "      <th>avg_glucose_level_sqrt</th>\n",
       "      <th>gender_ordinal</th>\n",
       "      <th>smoking_ord</th>\n",
       "      <th>married_ord</th>\n",
       "      <th>residence_ord</th>\n",
       "    </tr>\n",
       "  </thead>\n",
       "  <tbody>\n",
       "    <tr>\n",
       "      <th>0</th>\n",
       "      <td>0.0</td>\n",
       "      <td>0.0</td>\n",
       "      <td>1.0</td>\n",
       "      <td>0.0</td>\n",
       "      <td>0.0</td>\n",
       "      <td>67.0</td>\n",
       "      <td>0.0</td>\n",
       "      <td>1.0</td>\n",
       "      <td>228.69</td>\n",
       "      <td>36.600000</td>\n",
       "      <td>3.600048</td>\n",
       "      <td>6.049793</td>\n",
       "      <td>5.432367</td>\n",
       "      <td>15.122500</td>\n",
       "      <td>0.0</td>\n",
       "      <td>1.0</td>\n",
       "      <td>1.0</td>\n",
       "      <td>0.0</td>\n",
       "    </tr>\n",
       "    <tr>\n",
       "      <th>1</th>\n",
       "      <td>0.0</td>\n",
       "      <td>0.0</td>\n",
       "      <td>0.0</td>\n",
       "      <td>1.0</td>\n",
       "      <td>0.0</td>\n",
       "      <td>61.0</td>\n",
       "      <td>0.0</td>\n",
       "      <td>0.0</td>\n",
       "      <td>202.21</td>\n",
       "      <td>28.893237</td>\n",
       "      <td>3.363608</td>\n",
       "      <td>5.375243</td>\n",
       "      <td>5.309307</td>\n",
       "      <td>14.220056</td>\n",
       "      <td>2.0</td>\n",
       "      <td>0.0</td>\n",
       "      <td>1.0</td>\n",
       "      <td>1.0</td>\n",
       "    </tr>\n",
       "    <tr>\n",
       "      <th>2</th>\n",
       "      <td>0.0</td>\n",
       "      <td>0.0</td>\n",
       "      <td>1.0</td>\n",
       "      <td>0.0</td>\n",
       "      <td>0.0</td>\n",
       "      <td>80.0</td>\n",
       "      <td>0.0</td>\n",
       "      <td>1.0</td>\n",
       "      <td>105.92</td>\n",
       "      <td>32.500000</td>\n",
       "      <td>3.481240</td>\n",
       "      <td>5.700877</td>\n",
       "      <td>4.662684</td>\n",
       "      <td>10.291744</td>\n",
       "      <td>0.0</td>\n",
       "      <td>0.0</td>\n",
       "      <td>1.0</td>\n",
       "      <td>1.0</td>\n",
       "    </tr>\n",
       "    <tr>\n",
       "      <th>3</th>\n",
       "      <td>0.0</td>\n",
       "      <td>0.0</td>\n",
       "      <td>1.0</td>\n",
       "      <td>0.0</td>\n",
       "      <td>0.0</td>\n",
       "      <td>49.0</td>\n",
       "      <td>0.0</td>\n",
       "      <td>0.0</td>\n",
       "      <td>171.23</td>\n",
       "      <td>34.400000</td>\n",
       "      <td>3.538057</td>\n",
       "      <td>5.865151</td>\n",
       "      <td>5.143008</td>\n",
       "      <td>13.085488</td>\n",
       "      <td>2.0</td>\n",
       "      <td>2.0</td>\n",
       "      <td>1.0</td>\n",
       "      <td>0.0</td>\n",
       "    </tr>\n",
       "    <tr>\n",
       "      <th>4</th>\n",
       "      <td>0.0</td>\n",
       "      <td>0.0</td>\n",
       "      <td>0.0</td>\n",
       "      <td>1.0</td>\n",
       "      <td>0.0</td>\n",
       "      <td>79.0</td>\n",
       "      <td>1.0</td>\n",
       "      <td>0.0</td>\n",
       "      <td>174.12</td>\n",
       "      <td>24.000000</td>\n",
       "      <td>3.178054</td>\n",
       "      <td>4.898979</td>\n",
       "      <td>5.159745</td>\n",
       "      <td>13.195454</td>\n",
       "      <td>2.0</td>\n",
       "      <td>0.0</td>\n",
       "      <td>1.0</td>\n",
       "      <td>1.0</td>\n",
       "    </tr>\n",
       "    <tr>\n",
       "      <th>...</th>\n",
       "      <td>...</td>\n",
       "      <td>...</td>\n",
       "      <td>...</td>\n",
       "      <td>...</td>\n",
       "      <td>...</td>\n",
       "      <td>...</td>\n",
       "      <td>...</td>\n",
       "      <td>...</td>\n",
       "      <td>...</td>\n",
       "      <td>...</td>\n",
       "      <td>...</td>\n",
       "      <td>...</td>\n",
       "      <td>...</td>\n",
       "      <td>...</td>\n",
       "      <td>...</td>\n",
       "      <td>...</td>\n",
       "      <td>...</td>\n",
       "      <td>...</td>\n",
       "    </tr>\n",
       "    <tr>\n",
       "      <th>5105</th>\n",
       "      <td>0.0</td>\n",
       "      <td>0.0</td>\n",
       "      <td>1.0</td>\n",
       "      <td>0.0</td>\n",
       "      <td>0.0</td>\n",
       "      <td>80.0</td>\n",
       "      <td>1.0</td>\n",
       "      <td>0.0</td>\n",
       "      <td>83.75</td>\n",
       "      <td>28.893237</td>\n",
       "      <td>3.363608</td>\n",
       "      <td>5.375243</td>\n",
       "      <td>4.427836</td>\n",
       "      <td>9.151503</td>\n",
       "      <td>2.0</td>\n",
       "      <td>0.0</td>\n",
       "      <td>1.0</td>\n",
       "      <td>0.0</td>\n",
       "    </tr>\n",
       "    <tr>\n",
       "      <th>5106</th>\n",
       "      <td>0.0</td>\n",
       "      <td>0.0</td>\n",
       "      <td>0.0</td>\n",
       "      <td>1.0</td>\n",
       "      <td>0.0</td>\n",
       "      <td>81.0</td>\n",
       "      <td>0.0</td>\n",
       "      <td>0.0</td>\n",
       "      <td>125.20</td>\n",
       "      <td>40.000000</td>\n",
       "      <td>3.688879</td>\n",
       "      <td>6.324555</td>\n",
       "      <td>4.829912</td>\n",
       "      <td>11.189281</td>\n",
       "      <td>2.0</td>\n",
       "      <td>0.0</td>\n",
       "      <td>1.0</td>\n",
       "      <td>0.0</td>\n",
       "    </tr>\n",
       "    <tr>\n",
       "      <th>5107</th>\n",
       "      <td>0.0</td>\n",
       "      <td>0.0</td>\n",
       "      <td>0.0</td>\n",
       "      <td>1.0</td>\n",
       "      <td>0.0</td>\n",
       "      <td>35.0</td>\n",
       "      <td>0.0</td>\n",
       "      <td>0.0</td>\n",
       "      <td>82.99</td>\n",
       "      <td>30.600000</td>\n",
       "      <td>3.421000</td>\n",
       "      <td>5.531727</td>\n",
       "      <td>4.418720</td>\n",
       "      <td>9.109885</td>\n",
       "      <td>2.0</td>\n",
       "      <td>0.0</td>\n",
       "      <td>1.0</td>\n",
       "      <td>1.0</td>\n",
       "    </tr>\n",
       "    <tr>\n",
       "      <th>5108</th>\n",
       "      <td>0.0</td>\n",
       "      <td>0.0</td>\n",
       "      <td>1.0</td>\n",
       "      <td>0.0</td>\n",
       "      <td>0.0</td>\n",
       "      <td>51.0</td>\n",
       "      <td>0.0</td>\n",
       "      <td>0.0</td>\n",
       "      <td>166.29</td>\n",
       "      <td>25.600000</td>\n",
       "      <td>3.242592</td>\n",
       "      <td>5.059644</td>\n",
       "      <td>5.113733</td>\n",
       "      <td>12.895348</td>\n",
       "      <td>0.0</td>\n",
       "      <td>1.0</td>\n",
       "      <td>1.0</td>\n",
       "      <td>1.0</td>\n",
       "    </tr>\n",
       "    <tr>\n",
       "      <th>5109</th>\n",
       "      <td>1.0</td>\n",
       "      <td>0.0</td>\n",
       "      <td>0.0</td>\n",
       "      <td>0.0</td>\n",
       "      <td>0.0</td>\n",
       "      <td>44.0</td>\n",
       "      <td>0.0</td>\n",
       "      <td>0.0</td>\n",
       "      <td>85.28</td>\n",
       "      <td>26.200000</td>\n",
       "      <td>3.265759</td>\n",
       "      <td>5.118594</td>\n",
       "      <td>4.445940</td>\n",
       "      <td>9.234717</td>\n",
       "      <td>2.0</td>\n",
       "      <td>1.0</td>\n",
       "      <td>1.0</td>\n",
       "      <td>0.0</td>\n",
       "    </tr>\n",
       "  </tbody>\n",
       "</table>\n",
       "<p>5110 rows × 18 columns</p>\n",
       "</div>"
      ],
      "text/plain": [
       "      onehotencoder__x0_Govt_job  onehotencoder__x0_Never_worked  \\\n",
       "0                            0.0                             0.0   \n",
       "1                            0.0                             0.0   \n",
       "2                            0.0                             0.0   \n",
       "3                            0.0                             0.0   \n",
       "4                            0.0                             0.0   \n",
       "...                          ...                             ...   \n",
       "5105                         0.0                             0.0   \n",
       "5106                         0.0                             0.0   \n",
       "5107                         0.0                             0.0   \n",
       "5108                         0.0                             0.0   \n",
       "5109                         1.0                             0.0   \n",
       "\n",
       "      onehotencoder__x0_Private  onehotencoder__x0_Self-employed  \\\n",
       "0                           1.0                              0.0   \n",
       "1                           0.0                              1.0   \n",
       "2                           1.0                              0.0   \n",
       "3                           1.0                              0.0   \n",
       "4                           0.0                              1.0   \n",
       "...                         ...                              ...   \n",
       "5105                        1.0                              0.0   \n",
       "5106                        0.0                              1.0   \n",
       "5107                        0.0                              1.0   \n",
       "5108                        1.0                              0.0   \n",
       "5109                        0.0                              0.0   \n",
       "\n",
       "      onehotencoder__x0_children   age  hypertension  heart_disease  \\\n",
       "0                            0.0  67.0           0.0            1.0   \n",
       "1                            0.0  61.0           0.0            0.0   \n",
       "2                            0.0  80.0           0.0            1.0   \n",
       "3                            0.0  49.0           0.0            0.0   \n",
       "4                            0.0  79.0           1.0            0.0   \n",
       "...                          ...   ...           ...            ...   \n",
       "5105                         0.0  80.0           1.0            0.0   \n",
       "5106                         0.0  81.0           0.0            0.0   \n",
       "5107                         0.0  35.0           0.0            0.0   \n",
       "5108                         0.0  51.0           0.0            0.0   \n",
       "5109                         0.0  44.0           0.0            0.0   \n",
       "\n",
       "      avg_glucose_level        bmi   bmi_log  bmi_sqrt  avg_glucose_level_log  \\\n",
       "0                228.69  36.600000  3.600048  6.049793               5.432367   \n",
       "1                202.21  28.893237  3.363608  5.375243               5.309307   \n",
       "2                105.92  32.500000  3.481240  5.700877               4.662684   \n",
       "3                171.23  34.400000  3.538057  5.865151               5.143008   \n",
       "4                174.12  24.000000  3.178054  4.898979               5.159745   \n",
       "...                 ...        ...       ...       ...                    ...   \n",
       "5105              83.75  28.893237  3.363608  5.375243               4.427836   \n",
       "5106             125.20  40.000000  3.688879  6.324555               4.829912   \n",
       "5107              82.99  30.600000  3.421000  5.531727               4.418720   \n",
       "5108             166.29  25.600000  3.242592  5.059644               5.113733   \n",
       "5109              85.28  26.200000  3.265759  5.118594               4.445940   \n",
       "\n",
       "      avg_glucose_level_sqrt  gender_ordinal  smoking_ord  married_ord  \\\n",
       "0                  15.122500             0.0          1.0          1.0   \n",
       "1                  14.220056             2.0          0.0          1.0   \n",
       "2                  10.291744             0.0          0.0          1.0   \n",
       "3                  13.085488             2.0          2.0          1.0   \n",
       "4                  13.195454             2.0          0.0          1.0   \n",
       "...                      ...             ...          ...          ...   \n",
       "5105                9.151503             2.0          0.0          1.0   \n",
       "5106               11.189281             2.0          0.0          1.0   \n",
       "5107                9.109885             2.0          0.0          1.0   \n",
       "5108               12.895348             0.0          1.0          1.0   \n",
       "5109                9.234717             2.0          1.0          1.0   \n",
       "\n",
       "      residence_ord  \n",
       "0               0.0  \n",
       "1               1.0  \n",
       "2               1.0  \n",
       "3               0.0  \n",
       "4               1.0  \n",
       "...             ...  \n",
       "5105            0.0  \n",
       "5106            0.0  \n",
       "5107            1.0  \n",
       "5108            1.0  \n",
       "5109            0.0  \n",
       "\n",
       "[5110 rows x 18 columns]"
      ]
     },
     "execution_count": 496,
     "metadata": {},
     "output_type": "execute_result"
    }
   ],
   "source": [
    "transformed = transformer.fit_transform(X_stroke_df)\n",
    "\n",
    "X_transformed_df = pd.DataFrame(transformed, columns=transformer.get_feature_names())\n",
    "X_transformed_df\n"
   ]
  },
  {
   "cell_type": "code",
   "execution_count": 458,
   "id": "ed0e5fe5",
   "metadata": {},
   "outputs": [],
   "source": [
    "norm_features = ['avg_glucose_level', 'age', 'bmi']\n",
    "\n",
    "def normalize_features(df, features):\n",
    "    for feature in features:\n",
    "        df[feature] = (df[feature] - df[feature].mean()) / df[feature].std()\n",
    "    return df\n",
    "\n",
    "X_stroke_df['bmi'].fillna(X_stroke_df['bmi'].mean(),inplace=True)\n",
    "X_stroke_df = normalize_features(X_stroke_df, norm_features)"
   ]
  },
  {
   "cell_type": "code",
   "execution_count": 459,
   "id": "b763f6dc",
   "metadata": {},
   "outputs": [
    {
     "data": {
      "text/html": [
       "<div>\n",
       "<style scoped>\n",
       "    .dataframe tbody tr th:only-of-type {\n",
       "        vertical-align: middle;\n",
       "    }\n",
       "\n",
       "    .dataframe tbody tr th {\n",
       "        vertical-align: top;\n",
       "    }\n",
       "\n",
       "    .dataframe thead th {\n",
       "        text-align: right;\n",
       "    }\n",
       "</style>\n",
       "<table border=\"1\" class=\"dataframe\">\n",
       "  <thead>\n",
       "    <tr style=\"text-align: right;\">\n",
       "      <th></th>\n",
       "      <th>age</th>\n",
       "      <th>hypertension</th>\n",
       "      <th>heart_disease</th>\n",
       "      <th>work_type</th>\n",
       "      <th>avg_glucose_level</th>\n",
       "      <th>bmi</th>\n",
       "      <th>gender_ordinal</th>\n",
       "      <th>smoking_ord</th>\n",
       "      <th>married_ord</th>\n",
       "      <th>residence_ord</th>\n",
       "    </tr>\n",
       "  </thead>\n",
       "  <tbody>\n",
       "    <tr>\n",
       "      <th>0</th>\n",
       "      <td>1.051331</td>\n",
       "      <td>0</td>\n",
       "      <td>1</td>\n",
       "      <td>Private</td>\n",
       "      <td>2.706111</td>\n",
       "      <td>-0.027229</td>\n",
       "      <td>0</td>\n",
       "      <td>1</td>\n",
       "      <td>1</td>\n",
       "      <td>0</td>\n",
       "    </tr>\n",
       "    <tr>\n",
       "      <th>1</th>\n",
       "      <td>0.785993</td>\n",
       "      <td>0</td>\n",
       "      <td>0</td>\n",
       "      <td>Self-employed</td>\n",
       "      <td>2.121351</td>\n",
       "      <td>4.867917</td>\n",
       "      <td>2</td>\n",
       "      <td>0</td>\n",
       "      <td>1</td>\n",
       "      <td>1</td>\n",
       "    </tr>\n",
       "    <tr>\n",
       "      <th>2</th>\n",
       "      <td>1.626231</td>\n",
       "      <td>0</td>\n",
       "      <td>1</td>\n",
       "      <td>Private</td>\n",
       "      <td>-0.005028</td>\n",
       "      <td>-0.118780</td>\n",
       "      <td>0</td>\n",
       "      <td>0</td>\n",
       "      <td>1</td>\n",
       "      <td>1</td>\n",
       "    </tr>\n",
       "    <tr>\n",
       "      <th>3</th>\n",
       "      <td>0.255317</td>\n",
       "      <td>0</td>\n",
       "      <td>0</td>\n",
       "      <td>Private</td>\n",
       "      <td>1.437217</td>\n",
       "      <td>-0.076354</td>\n",
       "      <td>2</td>\n",
       "      <td>2</td>\n",
       "      <td>1</td>\n",
       "      <td>0</td>\n",
       "    </tr>\n",
       "    <tr>\n",
       "      <th>4</th>\n",
       "      <td>1.582008</td>\n",
       "      <td>1</td>\n",
       "      <td>0</td>\n",
       "      <td>Self-employed</td>\n",
       "      <td>1.501038</td>\n",
       "      <td>-0.308582</td>\n",
       "      <td>2</td>\n",
       "      <td>0</td>\n",
       "      <td>1</td>\n",
       "      <td>1</td>\n",
       "    </tr>\n",
       "    <tr>\n",
       "      <th>...</th>\n",
       "      <td>...</td>\n",
       "      <td>...</td>\n",
       "      <td>...</td>\n",
       "      <td>...</td>\n",
       "      <td>...</td>\n",
       "      <td>...</td>\n",
       "      <td>...</td>\n",
       "      <td>...</td>\n",
       "      <td>...</td>\n",
       "      <td>...</td>\n",
       "    </tr>\n",
       "    <tr>\n",
       "      <th>5105</th>\n",
       "      <td>1.626231</td>\n",
       "      <td>1</td>\n",
       "      <td>0</td>\n",
       "      <td>Private</td>\n",
       "      <td>-0.494609</td>\n",
       "      <td>4.867917</td>\n",
       "      <td>2</td>\n",
       "      <td>0</td>\n",
       "      <td>1</td>\n",
       "      <td>0</td>\n",
       "    </tr>\n",
       "    <tr>\n",
       "      <th>5106</th>\n",
       "      <td>1.670454</td>\n",
       "      <td>0</td>\n",
       "      <td>0</td>\n",
       "      <td>Self-employed</td>\n",
       "      <td>0.420734</td>\n",
       "      <td>0.048691</td>\n",
       "      <td>2</td>\n",
       "      <td>0</td>\n",
       "      <td>1</td>\n",
       "      <td>0</td>\n",
       "    </tr>\n",
       "    <tr>\n",
       "      <th>5107</th>\n",
       "      <td>-0.363806</td>\n",
       "      <td>0</td>\n",
       "      <td>0</td>\n",
       "      <td>Self-employed</td>\n",
       "      <td>-0.511393</td>\n",
       "      <td>-0.161207</td>\n",
       "      <td>2</td>\n",
       "      <td>0</td>\n",
       "      <td>1</td>\n",
       "      <td>1</td>\n",
       "    </tr>\n",
       "    <tr>\n",
       "      <th>5108</th>\n",
       "      <td>0.343763</td>\n",
       "      <td>0</td>\n",
       "      <td>0</td>\n",
       "      <td>Private</td>\n",
       "      <td>1.328127</td>\n",
       "      <td>-0.272854</td>\n",
       "      <td>0</td>\n",
       "      <td>1</td>\n",
       "      <td>1</td>\n",
       "      <td>1</td>\n",
       "    </tr>\n",
       "    <tr>\n",
       "      <th>5109</th>\n",
       "      <td>0.034201</td>\n",
       "      <td>0</td>\n",
       "      <td>0</td>\n",
       "      <td>Govt_job</td>\n",
       "      <td>-0.460822</td>\n",
       "      <td>-0.259457</td>\n",
       "      <td>2</td>\n",
       "      <td>1</td>\n",
       "      <td>1</td>\n",
       "      <td>0</td>\n",
       "    </tr>\n",
       "  </tbody>\n",
       "</table>\n",
       "<p>5110 rows × 10 columns</p>\n",
       "</div>"
      ],
      "text/plain": [
       "           age  hypertension  heart_disease      work_type  avg_glucose_level  \\\n",
       "0     1.051331             0              1        Private           2.706111   \n",
       "1     0.785993             0              0  Self-employed           2.121351   \n",
       "2     1.626231             0              1        Private          -0.005028   \n",
       "3     0.255317             0              0        Private           1.437217   \n",
       "4     1.582008             1              0  Self-employed           1.501038   \n",
       "...        ...           ...            ...            ...                ...   \n",
       "5105  1.626231             1              0        Private          -0.494609   \n",
       "5106  1.670454             0              0  Self-employed           0.420734   \n",
       "5107 -0.363806             0              0  Self-employed          -0.511393   \n",
       "5108  0.343763             0              0        Private           1.328127   \n",
       "5109  0.034201             0              0       Govt_job          -0.460822   \n",
       "\n",
       "           bmi  gender_ordinal  smoking_ord  married_ord  residence_ord  \n",
       "0    -0.027229               0            1            1              0  \n",
       "1     4.867917               2            0            1              1  \n",
       "2    -0.118780               0            0            1              1  \n",
       "3    -0.076354               2            2            1              0  \n",
       "4    -0.308582               2            0            1              1  \n",
       "...        ...             ...          ...          ...            ...  \n",
       "5105  4.867917               2            0            1              0  \n",
       "5106  0.048691               2            0            1              0  \n",
       "5107 -0.161207               2            0            1              1  \n",
       "5108 -0.272854               0            1            1              1  \n",
       "5109 -0.259457               2            1            1              0  \n",
       "\n",
       "[5110 rows x 10 columns]"
      ]
     },
     "execution_count": 459,
     "metadata": {},
     "output_type": "execute_result"
    }
   ],
   "source": [
    "X_stroke_df"
   ]
  },
  {
   "cell_type": "code",
   "execution_count": 462,
   "id": "86cdb59e",
   "metadata": {},
   "outputs": [],
   "source": [
    "X_train, X_test, y_train, y_test = train_test_split(X_transformed_df, y_stroke_df, test_size=0.3, random_state=0, stratify=y_stroke_df)"
   ]
  },
  {
   "cell_type": "code",
   "execution_count": 621,
   "id": "0f245456",
   "metadata": {},
   "outputs": [],
   "source": [
    "from imblearn.over_sampling import SMOTE\n",
    "sm = SMOTE(random_state=0)\n",
    "X_res, y_res = sm.fit_resample(X_train, y_train)"
   ]
  },
  {
   "cell_type": "code",
   "execution_count": 622,
   "id": "11b9b1bf",
   "metadata": {},
   "outputs": [
    {
     "data": {
      "text/plain": [
       "(3577, 14)"
      ]
     },
     "execution_count": 622,
     "metadata": {},
     "output_type": "execute_result"
    }
   ],
   "source": [
    "X_train.shape"
   ]
  },
  {
   "cell_type": "code",
   "execution_count": 464,
   "id": "bd5578e9",
   "metadata": {},
   "outputs": [
    {
     "data": {
      "text/plain": [
       "(1533, 14)"
      ]
     },
     "execution_count": 464,
     "metadata": {},
     "output_type": "execute_result"
    }
   ],
   "source": [
    "X_test.shape"
   ]
  },
  {
   "cell_type": "code",
   "execution_count": 465,
   "id": "db27ee49",
   "metadata": {},
   "outputs": [],
   "source": [
    "X_res, y_res = sm.fit_resample(X_tr_train, y_train)"
   ]
  },
  {
   "cell_type": "code",
   "execution_count": 466,
   "id": "cc0786e3",
   "metadata": {},
   "outputs": [
    {
     "name": "stdout",
     "output_type": "stream",
     "text": [
      "Covariance Matrix\n",
      "[[1437   21]\n",
      " [  71    4]]\n",
      "Accuracy: 0.9400, Precision: 0.1600, Recall: 0.0533,    F1: 0.0800, AUC:0.7640\n"
     ]
    }
   ],
   "source": [
    "from lightgbm import LGBMClassifier\n",
    "lgbm_clf = LGBMClassifier(n_estimators=1000, num_leaves=64, n_jobs=-1, boost_from_average=False)\n",
    "get_model_train_eval(lgbm_clf, ftr_train=X_train, ftr_test=X_test, tgt_train=y_train, tgt_test=y_test)"
   ]
  },
  {
   "cell_type": "code",
   "execution_count": 707,
   "id": "bd536d07",
   "metadata": {},
   "outputs": [
    {
     "name": "stdout",
     "output_type": "stream",
     "text": [
      "Covariance Matrix\n",
      "[[941  31]\n",
      " [ 45   5]]\n",
      "Accuracy: 0.9256, Precision: 0.1389, Recall: 0.1000,    F1: 0.1163, AUC:0.8076\n"
     ]
    }
   ],
   "source": [
    "from lightgbm import LGBMClassifier\n",
    "lgbm_clf = LGBMClassifier()\n",
    "get_model_train_eval(lgbm_clf, ftr_train=X_res, ftr_test=X_test, tgt_train=y_res, tgt_test=y_test)"
   ]
  },
  {
   "cell_type": "code",
   "execution_count": 713,
   "id": "698eb55c",
   "metadata": {},
   "outputs": [
    {
     "name": "stdout",
     "output_type": "stream",
     "text": [
      "[20]\ttraining's binary_logloss: 0.280506\tvalid_0's binary_logloss: 0.330579\n",
      "[40]\ttraining's binary_logloss: 0.17085\tvalid_0's binary_logloss: 0.237388\n",
      "[60]\ttraining's binary_logloss: 0.124409\tvalid_0's binary_logloss: 0.210079\n",
      "[80]\ttraining's binary_logloss: 0.0993007\tvalid_0's binary_logloss: 0.198712\n",
      "[100]\ttraining's binary_logloss: 0.0820904\tvalid_0's binary_logloss: 0.195262\n",
      "Covariance Matrix\n",
      "[[947  25]\n",
      " [ 47   3]]\n",
      "Accuracy: 0.9295, Precision: 0.1071, Recall: 0.0600,    F1: 0.0769, AUC:0.8071\n"
     ]
    }
   ],
   "source": [
    "log_model = LGBMClassifier(learning_rate=0.09,max_depth=-5,random_state=42)\n",
    "log_model.fit(X_res,y_res,eval_set=[(X_test,y_test),(X_res,y_res)],\n",
    "          verbose=20,eval_metric='logloss')\n",
    "get_model_train_eval(log_model, ftr_train=X_res, ftr_test=X_test, tgt_train=y_res, tgt_test=y_test)"
   ]
  },
  {
   "cell_type": "code",
   "execution_count": 711,
   "id": "e7e97d0c",
   "metadata": {},
   "outputs": [
    {
     "name": "stdout",
     "output_type": "stream",
     "text": [
      "[20]\ttraining's binary_logloss: 0.280506\tvalid_0's binary_logloss: 0.330579\n",
      "[40]\ttraining's binary_logloss: 0.17085\tvalid_0's binary_logloss: 0.237388\n",
      "[60]\ttraining's binary_logloss: 0.124409\tvalid_0's binary_logloss: 0.210079\n",
      "[80]\ttraining's binary_logloss: 0.0993007\tvalid_0's binary_logloss: 0.198712\n",
      "[100]\ttraining's binary_logloss: 0.0820904\tvalid_0's binary_logloss: 0.195262\n",
      "Covariance Matrix\n",
      "[[947  25]\n",
      " [ 47   3]]\n",
      "Accuracy: 0.9295, Precision: 0.1071, Recall: 0.0600,    F1: 0.0769, AUC:0.8071\n"
     ]
    }
   ],
   "source": [
    "log_model = LGBMClassifier(learning_rate=0.09,max_depth=-5,random_state=42)\n",
    "log_model.fit(X_res,y_res,eval_set=[(X_test,y_test),(X_res,y_res)],\n",
    "          verbose=20,eval_metric='logloss')\n",
    "get_model_train_eval(log_model, ftr_train=X_res, ftr_test=X_test, tgt_train=y_res, tgt_test=y_test)"
   ]
  },
  {
   "cell_type": "code",
   "execution_count": 582,
   "id": "d474e5df",
   "metadata": {},
   "outputs": [
    {
     "data": {
      "text/plain": [
       "<AxesSubplot:ylabel='Frequency'>"
      ]
     },
     "execution_count": 582,
     "metadata": {},
     "output_type": "execute_result"
    },
    {
     "data": {
      "image/png": "[encoded data removed]",
      "text/plain": [
       "<Figure size 432x288 with 1 Axes>"
      ]
     },
     "metadata": {
      "needs_background": "light"
     },
     "output_type": "display_data"
    }
   ],
   "source": [
    "(np.log10(X_stroke_df['bmi'])).plot(kind='hist')"
   ]
  },
  {
   "cell_type": "code",
   "execution_count": 600,
   "id": "03b8eae4",
   "metadata": {},
   "outputs": [],
   "source": [
    "X_stroke_df['bmi_log10'] = np.log10(X_stroke_df['bmi'])"
   ]
  },
  {
   "cell_type": "code",
   "execution_count": 601,
   "id": "e1d9377e",
   "metadata": {},
   "outputs": [
    {
     "data": {
      "text/plain": [
       "<AxesSubplot:ylabel='Frequency'>"
      ]
     },
     "execution_count": 601,
     "metadata": {},
     "output_type": "execute_result"
    },
    {
     "data": {
      "image/png": "[encoded data removed]",
      "text/plain": [
       "<Figure size 432x288 with 1 Axes>"
      ]
     },
     "metadata": {
      "needs_background": "light"
     },
     "output_type": "display_data"
    }
   ],
   "source": [
    "X_stroke_df['bmi_log10'].plot(kind='hist')"
   ]
  },
  {
   "cell_type": "code",
   "execution_count": 590,
   "id": "13d89b91",
   "metadata": {},
   "outputs": [
    {
     "data": {
      "text/plain": [
       "<AxesSubplot:xlabel='bmi_log10'>"
      ]
     },
     "execution_count": 590,
     "metadata": {},
     "output_type": "execute_result"
    },
    {
     "data": {
      "image/png": "[encoded data removed]",
      "text/plain": [
       "<Figure size 432x288 with 1 Axes>"
      ]
     },
     "metadata": {
      "needs_background": "light"
     },
     "output_type": "display_data"
    }
   ],
   "source": [
    "sns.boxplot(X_stroke_df['bmi_log10'])"
   ]
  },
  {
   "cell_type": "code",
   "execution_count": 575,
   "id": "d44739bd",
   "metadata": {},
   "outputs": [],
   "source": [
    "X_stroke_df['bmi_log'] = np.log(X_stroke_df['bmi'])"
   ]
  },
  {
   "cell_type": "code",
   "execution_count": 469,
   "id": "0c3b45fa",
   "metadata": {},
   "outputs": [
    {
     "data": {
      "text/plain": [
       "<AxesSubplot:ylabel='Frequency'>"
      ]
     },
     "execution_count": 469,
     "metadata": {},
     "output_type": "execute_result"
    },
    {
     "data": {
      "image/png": "[encoded data removed]",
      "text/plain": [
       "<Figure size 432x288 with 1 Axes>"
      ]
     },
     "metadata": {
      "needs_background": "light"
     },
     "output_type": "display_data"
    }
   ],
   "source": [
    "(np.log(X_stroke_df['bmi'])).plot(kind='hist')"
   ]
  },
  {
   "cell_type": "code",
   "execution_count": 535,
   "id": "a8ff5960",
   "metadata": {},
   "outputs": [],
   "source": [
    "X_stroke_df['bmi_log'] = np.log(X_stroke_df['bmi'])"
   ]
  },
  {
   "cell_type": "code",
   "execution_count": 576,
   "id": "8e9be4d8",
   "metadata": {},
   "outputs": [
    {
     "data": {
      "text/plain": [
       "<AxesSubplot:ylabel='Frequency'>"
      ]
     },
     "execution_count": 576,
     "metadata": {},
     "output_type": "execute_result"
    },
    {
     "data": {
      "image/png": "[encoded data removed]",
      "text/plain": [
       "<Figure size 432x288 with 1 Axes>"
      ]
     },
     "metadata": {
      "needs_background": "light"
     },
     "output_type": "display_data"
    }
   ],
   "source": [
    "X_stroke_df['bmi_log'].plot(kind='hist')"
   ]
  },
  {
   "cell_type": "code",
   "execution_count": 536,
   "id": "d5af6995",
   "metadata": {},
   "outputs": [
    {
     "data": {
      "text/plain": [
       "<AxesSubplot:ylabel='Frequency'>"
      ]
     },
     "execution_count": 536,
     "metadata": {},
     "output_type": "execute_result"
    },
    {
     "data": {
      "image/png": "[encoded data removed]",
      "text/plain": [
       "<Figure size 432x288 with 1 Axes>"
      ]
     },
     "metadata": {
      "needs_background": "light"
     },
     "output_type": "display_data"
    }
   ],
   "source": [
    "X_stroke_df['bmi_log'].plot(kind='hist')"
   ]
  },
  {
   "cell_type": "code",
   "execution_count": 577,
   "id": "ea675d9a",
   "metadata": {},
   "outputs": [
    {
     "data": {
      "text/plain": [
       "<AxesSubplot:xlabel='bmi_log'>"
      ]
     },
     "execution_count": 577,
     "metadata": {},
     "output_type": "execute_result"
    },
    {
     "data": {
      "image/png": "[encoded data removed]",
      "text/plain": [
       "<Figure size 432x288 with 1 Axes>"
      ]
     },
     "metadata": {
      "needs_background": "light"
     },
     "output_type": "display_data"
    }
   ],
   "source": [
    "sns.boxplot(X_stroke_df['bmi_log'])"
   ]
  },
  {
   "cell_type": "code",
   "execution_count": 476,
   "id": "91426b30",
   "metadata": {},
   "outputs": [
    {
     "data": {
      "text/plain": [
       "<AxesSubplot:ylabel='Frequency'>"
      ]
     },
     "execution_count": 476,
     "metadata": {},
     "output_type": "execute_result"
    },
    {
     "data": {
      "image/png": "[encoded data removed]",
      "text/plain": [
       "<Figure size 432x288 with 1 Axes>"
      ]
     },
     "metadata": {
      "needs_background": "light"
     },
     "output_type": "display_data"
    }
   ],
   "source": [
    "(np.sqrt(X_stroke_df['bmi'])).plot(kind='hist')"
   ]
  },
  {
   "cell_type": "code",
   "execution_count": 507,
   "id": "fa990ec0",
   "metadata": {},
   "outputs": [],
   "source": [
    "X_stroke_df['bmi_sqrt'] = np.sqrt(X_stroke_df['bmi'])"
   ]
  },
  {
   "cell_type": "code",
   "execution_count": 484,
   "id": "efe2627e",
   "metadata": {},
   "outputs": [
    {
     "data": {
      "text/plain": [
       "<AxesSubplot:xlabel='bmi_sqrt'>"
      ]
     },
     "execution_count": 484,
     "metadata": {},
     "output_type": "execute_result"
    },
    {
     "data": {
      "image/png": "[encoded data removed]",
      "text/plain": [
       "<Figure size 432x288 with 1 Axes>"
      ]
     },
     "metadata": {
      "needs_background": "light"
     },
     "output_type": "display_data"
    }
   ],
   "source": [
    "sns.boxplot(X_stroke_df['bmi_sqrt'])"
   ]
  },
  {
   "cell_type": "code",
   "execution_count": 540,
   "id": "e791006e",
   "metadata": {},
   "outputs": [
    {
     "data": {
      "text/plain": [
       "<AxesSubplot:ylabel='Frequency'>"
      ]
     },
     "execution_count": 540,
     "metadata": {},
     "output_type": "execute_result"
    },
    {
     "data": {
      "image/png": "[encoded data removed]",
      "text/plain": [
       "<Figure size 432x288 with 1 Axes>"
      ]
     },
     "metadata": {
      "needs_background": "light"
     },
     "output_type": "display_data"
    }
   ],
   "source": [
    "(np.log(X_stroke_df['avg_glucose_level'])).plot(kind='hist')"
   ]
  },
  {
   "cell_type": "code",
   "execution_count": 539,
   "id": "f8e2288b",
   "metadata": {},
   "outputs": [],
   "source": [
    "X_stroke_df['avg_glucose_level_log'] = np.log(X_stroke_df['avg_glucose_level'])"
   ]
  },
  {
   "cell_type": "code",
   "execution_count": 488,
   "id": "a5f63efd",
   "metadata": {},
   "outputs": [
    {
     "data": {
      "text/plain": [
       "<AxesSubplot:xlabel='avg_glucose_level_log'>"
      ]
     },
     "execution_count": 488,
     "metadata": {},
     "output_type": "execute_result"
    },
    {
     "data": {
      "image/png": "[encoded data removed]",
      "text/plain": [
       "<Figure size 432x288 with 1 Axes>"
      ]
     },
     "metadata": {
      "needs_background": "light"
     },
     "output_type": "display_data"
    }
   ],
   "source": [
    "sns.boxplot(X_stroke_df['avg_glucose_level_log'])"
   ]
  },
  {
   "cell_type": "code",
   "execution_count": 542,
   "id": "f452d857",
   "metadata": {},
   "outputs": [
    {
     "data": {
      "text/plain": [
       "<AxesSubplot:ylabel='Frequency'>"
      ]
     },
     "execution_count": 542,
     "metadata": {},
     "output_type": "execute_result"
    },
    {
     "data": {
      "image/png": "[encoded data removed]",
      "text/plain": [
       "<Figure size 432x288 with 1 Axes>"
      ]
     },
     "metadata": {
      "needs_background": "light"
     },
     "output_type": "display_data"
    }
   ],
   "source": [
    "X_stroke_df['avg_glucose_level_log'].plot(kind='hist')"
   ]
  },
  {
   "cell_type": "code",
   "execution_count": 490,
   "id": "d85b94ee",
   "metadata": {},
   "outputs": [
    {
     "data": {
      "text/plain": [
       "<AxesSubplot:ylabel='Frequency'>"
      ]
     },
     "execution_count": 490,
     "metadata": {},
     "output_type": "execute_result"
    },
    {
     "data": {
      "image/png": "[encoded data removed]",
      "text/plain": [
       "<Figure size 432x288 with 1 Axes>"
      ]
     },
     "metadata": {
      "needs_background": "light"
     },
     "output_type": "display_data"
    }
   ],
   "source": [
    "(np.sqrt(X_stroke_df['avg_glucose_level'])).plot(kind='hist')"
   ]
  },
  {
   "cell_type": "code",
   "execution_count": 509,
   "id": "bc99afe2",
   "metadata": {},
   "outputs": [],
   "source": [
    "X_stroke_df['avg_glucose_level_sqrt'] = np.sqrt(X_stroke_df['avg_glucose_level'])"
   ]
  },
  {
   "cell_type": "code",
   "execution_count": 492,
   "id": "d7eacce8",
   "metadata": {},
   "outputs": [
    {
     "data": {
      "text/plain": [
       "<AxesSubplot:xlabel='avg_glucose_level_sqrt'>"
      ]
     },
     "execution_count": 492,
     "metadata": {},
     "output_type": "execute_result"
    },
    {
     "data": {
      "image/png": "[encoded data removed]",
      "text/plain": [
       "<Figure size 432x288 with 1 Axes>"
      ]
     },
     "metadata": {
      "needs_background": "light"
     },
     "output_type": "display_data"
    }
   ],
   "source": [
    "sns.boxplot(X_stroke_df['avg_glucose_level_sqrt'])"
   ]
  },
  {
   "cell_type": "code",
   "execution_count": 543,
   "id": "04046cd2",
   "metadata": {},
   "outputs": [
    {
     "data": {
      "text/plain": [
       "<AxesSubplot:ylabel='Frequency'>"
      ]
     },
     "execution_count": 543,
     "metadata": {},
     "output_type": "execute_result"
    },
    {
     "data": {
      "image/png": "[encoded data removed]",
      "text/plain": [
       "<Figure size 432x288 with 1 Axes>"
      ]
     },
     "metadata": {
      "needs_background": "light"
     },
     "output_type": "display_data"
    }
   ],
   "source": [
    "(np.log(X_stroke_df['avg_glucose_level_log'])).plot(kind='hist')"
   ]
  },
  {
   "cell_type": "code",
   "execution_count": 544,
   "id": "3651232c",
   "metadata": {},
   "outputs": [],
   "source": [
    "X_stroke_df['avg_glucose_level_log_log'] = np.log(X_stroke_df['avg_glucose_level_log'])"
   ]
  },
  {
   "cell_type": "code",
   "execution_count": 547,
   "id": "6de22869",
   "metadata": {},
   "outputs": [
    {
     "data": {
      "text/plain": [
       "<AxesSubplot:xlabel='avg_glucose_level_log_log'>"
      ]
     },
     "execution_count": 547,
     "metadata": {},
     "output_type": "execute_result"
    },
    {
     "data": {
      "image/png": "[encoded data removed]",
      "text/plain": [
       "<Figure size 432x288 with 1 Axes>"
      ]
     },
     "metadata": {
      "needs_background": "light"
     },
     "output_type": "display_data"
    }
   ],
   "source": [
    "sns.boxplot(X_stroke_df['avg_glucose_level_log_log'])"
   ]
  },
  {
   "cell_type": "code",
   "execution_count": 546,
   "id": "2d5babb3",
   "metadata": {},
   "outputs": [
    {
     "data": {
      "text/plain": [
       "<AxesSubplot:ylabel='Frequency'>"
      ]
     },
     "execution_count": 546,
     "metadata": {},
     "output_type": "execute_result"
    },
    {
     "data": {
      "image/png": "[encoded data removed]",
      "text/plain": [
       "<Figure size 432x288 with 1 Axes>"
      ]
     },
     "metadata": {
      "needs_background": "light"
     },
     "output_type": "display_data"
    }
   ],
   "source": [
    "(np.sqrt(X_stroke_df['avg_glucose_level_log_log'])).plot(kind='hist')"
   ]
  },
  {
   "cell_type": "code",
   "execution_count": 548,
   "id": "b42f62c4",
   "metadata": {},
   "outputs": [
    {
     "data": {
      "text/plain": [
       "<AxesSubplot:ylabel='Frequency'>"
      ]
     },
     "execution_count": 548,
     "metadata": {},
     "output_type": "execute_result"
    },
    {
     "data": {
      "image/png": "[encoded data removed]",
      "text/plain": [
       "<Figure size 432x288 with 1 Axes>"
      ]
     },
     "metadata": {
      "needs_background": "light"
     },
     "output_type": "display_data"
    }
   ],
   "source": [
    "(np.log10(X_stroke_df['avg_glucose_level'])).plot(kind='hist')"
   ]
  },
  {
   "cell_type": "code",
   "execution_count": 551,
   "id": "d30a6483",
   "metadata": {},
   "outputs": [
    {
     "data": {
      "text/plain": [
       "<AxesSubplot:xlabel='avg_glucose_level_log10'>"
      ]
     },
     "execution_count": 551,
     "metadata": {},
     "output_type": "execute_result"
    },
    {
     "data": {
      "image/png": "[encoded data removed]",
      "text/plain": [
       "<Figure size 432x288 with 1 Axes>"
      ]
     },
     "metadata": {
      "needs_background": "light"
     },
     "output_type": "display_data"
    }
   ],
   "source": [
    "sns.boxplot(X_stroke_df['avg_glucose_level_log10'])"
   ]
  },
  {
   "cell_type": "code",
   "execution_count": 598,
   "id": "a4406f02",
   "metadata": {},
   "outputs": [],
   "source": [
    "X_stroke_df['avg_glucose_level_log10'] = np.log10(X_stroke_df['avg_glucose_level'])"
   ]
  },
  {
   "cell_type": "code",
   "execution_count": 599,
   "id": "2e2c288a",
   "metadata": {},
   "outputs": [
    {
     "data": {
      "text/plain": [
       "<AxesSubplot:ylabel='Frequency'>"
      ]
     },
     "execution_count": 599,
     "metadata": {},
     "output_type": "execute_result"
    },
    {
     "data": {
      "image/png": "[encoded data removed]",
      "text/plain": [
       "<Figure size 432x288 with 1 Axes>"
      ]
     },
     "metadata": {
      "needs_background": "light"
     },
     "output_type": "display_data"
    }
   ],
   "source": [
    "X_stroke_df['avg_glucose_level_log10'].plot(kind='hist')"
   ]
  },
  {
   "cell_type": "code",
   "execution_count": 550,
   "id": "b46c2a99",
   "metadata": {},
   "outputs": [
    {
     "data": {
      "text/plain": [
       "<AxesSubplot:ylabel='Frequency'>"
      ]
     },
     "execution_count": 550,
     "metadata": {},
     "output_type": "execute_result"
    },
    {
     "data": {
      "image/png": "[encoded data removed]",
      "text/plain": [
       "<Figure size 432x288 with 1 Axes>"
      ]
     },
     "metadata": {
      "needs_background": "light"
     },
     "output_type": "display_data"
    }
   ],
   "source": [
    "X_stroke_df['avg_glucose_level'].plot(kind='hist')"
   ]
  },
  {
   "cell_type": "code",
   "execution_count": 613,
   "id": "f137f283",
   "metadata": {},
   "outputs": [],
   "source": [
    "from sklearn.preprocessing import StandardScaler\n",
    "standard_scaler =StandardScaler()"
   ]
  },
  {
   "cell_type": "code",
   "execution_count": 608,
   "id": "c1378984",
   "metadata": {},
   "outputs": [],
   "source": [
    "stroke_df = pd.read_csv('./healthcare-dataset-stroke-data.csv')\n",
    "y_stroke_df = stroke_df['stroke']\n",
    "X_stroke_df = stroke_df.drop(['stroke', 'id'], axis=1)\n",
    "# X_stroke_df = stroke_df.drop('id', axis=1)\n",
    "# y_stroke_df.shape\n",
    "# X_stroke_df.shape\n",
    "X_stroke_df['bmi'].fillna(X_stroke_df['bmi'].mean(),inplace=True)\n",
    "X_stroke_df['bmi_log10'] = np.log10(X_stroke_df['bmi'])\n",
    "X_stroke_df['avg_glucose_level_log10'] = np.log10(X_stroke_df['avg_glucose_level'])\n",
    "X_stroke_df = X_stroke_df.drop(['bmi', 'avg_glucose_level'], axis=1)\n",
    "X_stroke_df = ordinalize_features(X_stroke_df)"
   ]
  },
  {
   "cell_type": "code",
   "execution_count": 609,
   "id": "e2751af8",
   "metadata": {},
   "outputs": [
    {
     "data": {
      "text/html": [
       "<div>\n",
       "<style scoped>\n",
       "    .dataframe tbody tr th:only-of-type {\n",
       "        vertical-align: middle;\n",
       "    }\n",
       "\n",
       "    .dataframe tbody tr th {\n",
       "        vertical-align: top;\n",
       "    }\n",
       "\n",
       "    .dataframe thead th {\n",
       "        text-align: right;\n",
       "    }\n",
       "</style>\n",
       "<table border=\"1\" class=\"dataframe\">\n",
       "  <thead>\n",
       "    <tr style=\"text-align: right;\">\n",
       "      <th></th>\n",
       "      <th>age</th>\n",
       "      <th>hypertension</th>\n",
       "      <th>heart_disease</th>\n",
       "      <th>work_type</th>\n",
       "      <th>bmi_log10</th>\n",
       "      <th>avg_glucose_level_log10</th>\n",
       "      <th>gender_ordinal</th>\n",
       "      <th>smoking_ord</th>\n",
       "      <th>married_ord</th>\n",
       "      <th>residence_ord</th>\n",
       "    </tr>\n",
       "  </thead>\n",
       "  <tbody>\n",
       "    <tr>\n",
       "      <th>0</th>\n",
       "      <td>67.0</td>\n",
       "      <td>0</td>\n",
       "      <td>1</td>\n",
       "      <td>Private</td>\n",
       "      <td>1.563481</td>\n",
       "      <td>2.359247</td>\n",
       "      <td>0</td>\n",
       "      <td>1</td>\n",
       "      <td>1</td>\n",
       "      <td>0</td>\n",
       "    </tr>\n",
       "    <tr>\n",
       "      <th>1</th>\n",
       "      <td>61.0</td>\n",
       "      <td>0</td>\n",
       "      <td>0</td>\n",
       "      <td>Self-employed</td>\n",
       "      <td>1.460796</td>\n",
       "      <td>2.305803</td>\n",
       "      <td>2</td>\n",
       "      <td>0</td>\n",
       "      <td>1</td>\n",
       "      <td>1</td>\n",
       "    </tr>\n",
       "    <tr>\n",
       "      <th>2</th>\n",
       "      <td>80.0</td>\n",
       "      <td>0</td>\n",
       "      <td>1</td>\n",
       "      <td>Private</td>\n",
       "      <td>1.511883</td>\n",
       "      <td>2.024978</td>\n",
       "      <td>0</td>\n",
       "      <td>0</td>\n",
       "      <td>1</td>\n",
       "      <td>1</td>\n",
       "    </tr>\n",
       "    <tr>\n",
       "      <th>3</th>\n",
       "      <td>49.0</td>\n",
       "      <td>0</td>\n",
       "      <td>0</td>\n",
       "      <td>Private</td>\n",
       "      <td>1.536558</td>\n",
       "      <td>2.233580</td>\n",
       "      <td>2</td>\n",
       "      <td>2</td>\n",
       "      <td>1</td>\n",
       "      <td>0</td>\n",
       "    </tr>\n",
       "    <tr>\n",
       "      <th>4</th>\n",
       "      <td>79.0</td>\n",
       "      <td>1</td>\n",
       "      <td>0</td>\n",
       "      <td>Self-employed</td>\n",
       "      <td>1.380211</td>\n",
       "      <td>2.240849</td>\n",
       "      <td>2</td>\n",
       "      <td>0</td>\n",
       "      <td>1</td>\n",
       "      <td>1</td>\n",
       "    </tr>\n",
       "    <tr>\n",
       "      <th>...</th>\n",
       "      <td>...</td>\n",
       "      <td>...</td>\n",
       "      <td>...</td>\n",
       "      <td>...</td>\n",
       "      <td>...</td>\n",
       "      <td>...</td>\n",
       "      <td>...</td>\n",
       "      <td>...</td>\n",
       "      <td>...</td>\n",
       "      <td>...</td>\n",
       "    </tr>\n",
       "    <tr>\n",
       "      <th>5105</th>\n",
       "      <td>80.0</td>\n",
       "      <td>1</td>\n",
       "      <td>0</td>\n",
       "      <td>Private</td>\n",
       "      <td>1.460796</td>\n",
       "      <td>1.922985</td>\n",
       "      <td>2</td>\n",
       "      <td>0</td>\n",
       "      <td>1</td>\n",
       "      <td>0</td>\n",
       "    </tr>\n",
       "    <tr>\n",
       "      <th>5106</th>\n",
       "      <td>81.0</td>\n",
       "      <td>0</td>\n",
       "      <td>0</td>\n",
       "      <td>Self-employed</td>\n",
       "      <td>1.602060</td>\n",
       "      <td>2.097604</td>\n",
       "      <td>2</td>\n",
       "      <td>0</td>\n",
       "      <td>1</td>\n",
       "      <td>0</td>\n",
       "    </tr>\n",
       "    <tr>\n",
       "      <th>5107</th>\n",
       "      <td>35.0</td>\n",
       "      <td>0</td>\n",
       "      <td>0</td>\n",
       "      <td>Self-employed</td>\n",
       "      <td>1.485721</td>\n",
       "      <td>1.919026</td>\n",
       "      <td>2</td>\n",
       "      <td>0</td>\n",
       "      <td>1</td>\n",
       "      <td>1</td>\n",
       "    </tr>\n",
       "    <tr>\n",
       "      <th>5108</th>\n",
       "      <td>51.0</td>\n",
       "      <td>0</td>\n",
       "      <td>0</td>\n",
       "      <td>Private</td>\n",
       "      <td>1.408240</td>\n",
       "      <td>2.220866</td>\n",
       "      <td>0</td>\n",
       "      <td>1</td>\n",
       "      <td>1</td>\n",
       "      <td>1</td>\n",
       "    </tr>\n",
       "    <tr>\n",
       "      <th>5109</th>\n",
       "      <td>44.0</td>\n",
       "      <td>0</td>\n",
       "      <td>0</td>\n",
       "      <td>Govt_job</td>\n",
       "      <td>1.418301</td>\n",
       "      <td>1.930847</td>\n",
       "      <td>2</td>\n",
       "      <td>1</td>\n",
       "      <td>1</td>\n",
       "      <td>0</td>\n",
       "    </tr>\n",
       "  </tbody>\n",
       "</table>\n",
       "<p>5110 rows × 10 columns</p>\n",
       "</div>"
      ],
      "text/plain": [
       "       age  hypertension  heart_disease      work_type  bmi_log10  \\\n",
       "0     67.0             0              1        Private   1.563481   \n",
       "1     61.0             0              0  Self-employed   1.460796   \n",
       "2     80.0             0              1        Private   1.511883   \n",
       "3     49.0             0              0        Private   1.536558   \n",
       "4     79.0             1              0  Self-employed   1.380211   \n",
       "...    ...           ...            ...            ...        ...   \n",
       "5105  80.0             1              0        Private   1.460796   \n",
       "5106  81.0             0              0  Self-employed   1.602060   \n",
       "5107  35.0             0              0  Self-employed   1.485721   \n",
       "5108  51.0             0              0        Private   1.408240   \n",
       "5109  44.0             0              0       Govt_job   1.418301   \n",
       "\n",
       "      avg_glucose_level_log10  gender_ordinal  smoking_ord  married_ord  \\\n",
       "0                    2.359247               0            1            1   \n",
       "1                    2.305803               2            0            1   \n",
       "2                    2.024978               0            0            1   \n",
       "3                    2.233580               2            2            1   \n",
       "4                    2.240849               2            0            1   \n",
       "...                       ...             ...          ...          ...   \n",
       "5105                 1.922985               2            0            1   \n",
       "5106                 2.097604               2            0            1   \n",
       "5107                 1.919026               2            0            1   \n",
       "5108                 2.220866               0            1            1   \n",
       "5109                 1.930847               2            1            1   \n",
       "\n",
       "      residence_ord  \n",
       "0                 0  \n",
       "1                 1  \n",
       "2                 1  \n",
       "3                 0  \n",
       "4                 1  \n",
       "...             ...  \n",
       "5105              0  \n",
       "5106              0  \n",
       "5107              1  \n",
       "5108              1  \n",
       "5109              0  \n",
       "\n",
       "[5110 rows x 10 columns]"
      ]
     },
     "execution_count": 609,
     "metadata": {},
     "output_type": "execute_result"
    }
   ],
   "source": [
    "X_stroke_df"
   ]
  },
  {
   "cell_type": "code",
   "execution_count": 618,
   "id": "c9a6390b",
   "metadata": {},
   "outputs": [
    {
     "data": {
      "text/html": [
       "<div>\n",
       "<style scoped>\n",
       "    .dataframe tbody tr th:only-of-type {\n",
       "        vertical-align: middle;\n",
       "    }\n",
       "\n",
       "    .dataframe tbody tr th {\n",
       "        vertical-align: top;\n",
       "    }\n",
       "\n",
       "    .dataframe thead th {\n",
       "        text-align: right;\n",
       "    }\n",
       "</style>\n",
       "<table border=\"1\" class=\"dataframe\">\n",
       "  <thead>\n",
       "    <tr style=\"text-align: right;\">\n",
       "      <th></th>\n",
       "      <th>onehotencoder__x0_Govt_job</th>\n",
       "      <th>onehotencoder__x0_Never_worked</th>\n",
       "      <th>onehotencoder__x0_Private</th>\n",
       "      <th>onehotencoder__x0_Self-employed</th>\n",
       "      <th>onehotencoder__x0_children</th>\n",
       "      <th>age</th>\n",
       "      <th>hypertension</th>\n",
       "      <th>heart_disease</th>\n",
       "      <th>bmi_log10</th>\n",
       "      <th>avg_glucose_level_log10</th>\n",
       "      <th>gender_ordinal</th>\n",
       "      <th>smoking_ord</th>\n",
       "      <th>married_ord</th>\n",
       "      <th>residence_ord</th>\n",
       "    </tr>\n",
       "  </thead>\n",
       "  <tbody>\n",
       "    <tr>\n",
       "      <th>0</th>\n",
       "      <td>-0.384111</td>\n",
       "      <td>-0.065756</td>\n",
       "      <td>0.864297</td>\n",
       "      <td>-0.436881</td>\n",
       "      <td>-0.394112</td>\n",
       "      <td>1.051434</td>\n",
       "      <td>-0.328602</td>\n",
       "      <td>4.185032</td>\n",
       "      <td>1.039943</td>\n",
       "      <td>2.320494</td>\n",
       "      <td>-1.189870</td>\n",
       "      <td>0.312184</td>\n",
       "      <td>0.723884</td>\n",
       "      <td>-0.984080</td>\n",
       "    </tr>\n",
       "    <tr>\n",
       "      <th>1</th>\n",
       "      <td>-0.384111</td>\n",
       "      <td>-0.065756</td>\n",
       "      <td>-1.157010</td>\n",
       "      <td>2.288955</td>\n",
       "      <td>-0.394112</td>\n",
       "      <td>0.786070</td>\n",
       "      <td>-0.328602</td>\n",
       "      <td>-0.238947</td>\n",
       "      <td>0.130073</td>\n",
       "      <td>1.980500</td>\n",
       "      <td>0.840598</td>\n",
       "      <td>-1.134109</td>\n",
       "      <td>0.723884</td>\n",
       "      <td>1.016178</td>\n",
       "    </tr>\n",
       "    <tr>\n",
       "      <th>2</th>\n",
       "      <td>-0.384111</td>\n",
       "      <td>-0.065756</td>\n",
       "      <td>0.864297</td>\n",
       "      <td>-0.436881</td>\n",
       "      <td>-0.394112</td>\n",
       "      <td>1.626390</td>\n",
       "      <td>-0.328602</td>\n",
       "      <td>4.185032</td>\n",
       "      <td>0.582746</td>\n",
       "      <td>0.194001</td>\n",
       "      <td>-1.189870</td>\n",
       "      <td>-1.134109</td>\n",
       "      <td>0.723884</td>\n",
       "      <td>1.016178</td>\n",
       "    </tr>\n",
       "    <tr>\n",
       "      <th>3</th>\n",
       "      <td>-0.384111</td>\n",
       "      <td>-0.065756</td>\n",
       "      <td>0.864297</td>\n",
       "      <td>-0.436881</td>\n",
       "      <td>-0.394112</td>\n",
       "      <td>0.255342</td>\n",
       "      <td>-0.328602</td>\n",
       "      <td>-0.238947</td>\n",
       "      <td>0.801387</td>\n",
       "      <td>1.521047</td>\n",
       "      <td>0.840598</td>\n",
       "      <td>1.758477</td>\n",
       "      <td>0.723884</td>\n",
       "      <td>-0.984080</td>\n",
       "    </tr>\n",
       "    <tr>\n",
       "      <th>4</th>\n",
       "      <td>-0.384111</td>\n",
       "      <td>-0.065756</td>\n",
       "      <td>-1.157010</td>\n",
       "      <td>2.288955</td>\n",
       "      <td>-0.394112</td>\n",
       "      <td>1.582163</td>\n",
       "      <td>3.043196</td>\n",
       "      <td>-0.238947</td>\n",
       "      <td>-0.583974</td>\n",
       "      <td>1.567288</td>\n",
       "      <td>0.840598</td>\n",
       "      <td>-1.134109</td>\n",
       "      <td>0.723884</td>\n",
       "      <td>1.016178</td>\n",
       "    </tr>\n",
       "    <tr>\n",
       "      <th>...</th>\n",
       "      <td>...</td>\n",
       "      <td>...</td>\n",
       "      <td>...</td>\n",
       "      <td>...</td>\n",
       "      <td>...</td>\n",
       "      <td>...</td>\n",
       "      <td>...</td>\n",
       "      <td>...</td>\n",
       "      <td>...</td>\n",
       "      <td>...</td>\n",
       "      <td>...</td>\n",
       "      <td>...</td>\n",
       "      <td>...</td>\n",
       "      <td>...</td>\n",
       "    </tr>\n",
       "    <tr>\n",
       "      <th>5105</th>\n",
       "      <td>-0.384111</td>\n",
       "      <td>-0.065756</td>\n",
       "      <td>0.864297</td>\n",
       "      <td>-0.436881</td>\n",
       "      <td>-0.394112</td>\n",
       "      <td>1.626390</td>\n",
       "      <td>3.043196</td>\n",
       "      <td>-0.238947</td>\n",
       "      <td>0.130073</td>\n",
       "      <td>-0.454840</td>\n",
       "      <td>0.840598</td>\n",
       "      <td>-1.134109</td>\n",
       "      <td>0.723884</td>\n",
       "      <td>-0.984080</td>\n",
       "    </tr>\n",
       "    <tr>\n",
       "      <th>5106</th>\n",
       "      <td>-0.384111</td>\n",
       "      <td>-0.065756</td>\n",
       "      <td>-1.157010</td>\n",
       "      <td>2.288955</td>\n",
       "      <td>-0.394112</td>\n",
       "      <td>1.670617</td>\n",
       "      <td>-0.328602</td>\n",
       "      <td>-0.238947</td>\n",
       "      <td>1.381783</td>\n",
       "      <td>0.656022</td>\n",
       "      <td>0.840598</td>\n",
       "      <td>-1.134109</td>\n",
       "      <td>0.723884</td>\n",
       "      <td>-0.984080</td>\n",
       "    </tr>\n",
       "    <tr>\n",
       "      <th>5107</th>\n",
       "      <td>-0.384111</td>\n",
       "      <td>-0.065756</td>\n",
       "      <td>-1.157010</td>\n",
       "      <td>2.288955</td>\n",
       "      <td>-0.394112</td>\n",
       "      <td>-0.363842</td>\n",
       "      <td>-0.328602</td>\n",
       "      <td>-0.238947</td>\n",
       "      <td>0.350930</td>\n",
       "      <td>-0.480026</td>\n",
       "      <td>0.840598</td>\n",
       "      <td>-1.134109</td>\n",
       "      <td>0.723884</td>\n",
       "      <td>1.016178</td>\n",
       "    </tr>\n",
       "    <tr>\n",
       "      <th>5108</th>\n",
       "      <td>-0.384111</td>\n",
       "      <td>-0.065756</td>\n",
       "      <td>0.864297</td>\n",
       "      <td>-0.436881</td>\n",
       "      <td>-0.394112</td>\n",
       "      <td>0.343796</td>\n",
       "      <td>-0.328602</td>\n",
       "      <td>-0.238947</td>\n",
       "      <td>-0.335617</td>\n",
       "      <td>1.440167</td>\n",
       "      <td>-1.189870</td>\n",
       "      <td>0.312184</td>\n",
       "      <td>0.723884</td>\n",
       "      <td>1.016178</td>\n",
       "    </tr>\n",
       "    <tr>\n",
       "      <th>5109</th>\n",
       "      <td>2.603417</td>\n",
       "      <td>-0.065756</td>\n",
       "      <td>-1.157010</td>\n",
       "      <td>-0.436881</td>\n",
       "      <td>-0.394112</td>\n",
       "      <td>0.034205</td>\n",
       "      <td>-0.328602</td>\n",
       "      <td>-0.238947</td>\n",
       "      <td>-0.246466</td>\n",
       "      <td>-0.404823</td>\n",
       "      <td>0.840598</td>\n",
       "      <td>0.312184</td>\n",
       "      <td>0.723884</td>\n",
       "      <td>-0.984080</td>\n",
       "    </tr>\n",
       "  </tbody>\n",
       "</table>\n",
       "<p>5110 rows × 14 columns</p>\n",
       "</div>"
      ],
      "text/plain": [
       "      onehotencoder__x0_Govt_job  onehotencoder__x0_Never_worked  \\\n",
       "0                      -0.384111                       -0.065756   \n",
       "1                      -0.384111                       -0.065756   \n",
       "2                      -0.384111                       -0.065756   \n",
       "3                      -0.384111                       -0.065756   \n",
       "4                      -0.384111                       -0.065756   \n",
       "...                          ...                             ...   \n",
       "5105                   -0.384111                       -0.065756   \n",
       "5106                   -0.384111                       -0.065756   \n",
       "5107                   -0.384111                       -0.065756   \n",
       "5108                   -0.384111                       -0.065756   \n",
       "5109                    2.603417                       -0.065756   \n",
       "\n",
       "      onehotencoder__x0_Private  onehotencoder__x0_Self-employed  \\\n",
       "0                      0.864297                        -0.436881   \n",
       "1                     -1.157010                         2.288955   \n",
       "2                      0.864297                        -0.436881   \n",
       "3                      0.864297                        -0.436881   \n",
       "4                     -1.157010                         2.288955   \n",
       "...                         ...                              ...   \n",
       "5105                   0.864297                        -0.436881   \n",
       "5106                  -1.157010                         2.288955   \n",
       "5107                  -1.157010                         2.288955   \n",
       "5108                   0.864297                        -0.436881   \n",
       "5109                  -1.157010                        -0.436881   \n",
       "\n",
       "      onehotencoder__x0_children       age  hypertension  heart_disease  \\\n",
       "0                      -0.394112  1.051434     -0.328602       4.185032   \n",
       "1                      -0.394112  0.786070     -0.328602      -0.238947   \n",
       "2                      -0.394112  1.626390     -0.328602       4.185032   \n",
       "3                      -0.394112  0.255342     -0.328602      -0.238947   \n",
       "4                      -0.394112  1.582163      3.043196      -0.238947   \n",
       "...                          ...       ...           ...            ...   \n",
       "5105                   -0.394112  1.626390      3.043196      -0.238947   \n",
       "5106                   -0.394112  1.670617     -0.328602      -0.238947   \n",
       "5107                   -0.394112 -0.363842     -0.328602      -0.238947   \n",
       "5108                   -0.394112  0.343796     -0.328602      -0.238947   \n",
       "5109                   -0.394112  0.034205     -0.328602      -0.238947   \n",
       "\n",
       "      bmi_log10  avg_glucose_level_log10  gender_ordinal  smoking_ord  \\\n",
       "0      1.039943                 2.320494       -1.189870     0.312184   \n",
       "1      0.130073                 1.980500        0.840598    -1.134109   \n",
       "2      0.582746                 0.194001       -1.189870    -1.134109   \n",
       "3      0.801387                 1.521047        0.840598     1.758477   \n",
       "4     -0.583974                 1.567288        0.840598    -1.134109   \n",
       "...         ...                      ...             ...          ...   \n",
       "5105   0.130073                -0.454840        0.840598    -1.134109   \n",
       "5106   1.381783                 0.656022        0.840598    -1.134109   \n",
       "5107   0.350930                -0.480026        0.840598    -1.134109   \n",
       "5108  -0.335617                 1.440167       -1.189870     0.312184   \n",
       "5109  -0.246466                -0.404823        0.840598     0.312184   \n",
       "\n",
       "      married_ord  residence_ord  \n",
       "0        0.723884      -0.984080  \n",
       "1        0.723884       1.016178  \n",
       "2        0.723884       1.016178  \n",
       "3        0.723884      -0.984080  \n",
       "4        0.723884       1.016178  \n",
       "...           ...            ...  \n",
       "5105     0.723884      -0.984080  \n",
       "5106     0.723884      -0.984080  \n",
       "5107     0.723884       1.016178  \n",
       "5108     0.723884       1.016178  \n",
       "5109     0.723884      -0.984080  \n",
       "\n",
       "[5110 rows x 14 columns]"
      ]
     },
     "execution_count": 618,
     "metadata": {},
     "output_type": "execute_result"
    }
   ],
   "source": [
    "transformed = transformer.fit_transform(X_stroke_df)\n",
    "\n",
    "X_transformed_df = pd.DataFrame(transformed, columns=transformer.get_feature_names())\n",
    "scaled_features = standard_scaler.fit_transform(X_transformed_df)\n",
    "X_transformed_df = pd.DataFrame(scaled_features, index=X_transformed_df.index, columns=X_transformed_df.columns)\n",
    "X_transformed_df"
   ]
  },
  {
   "cell_type": "code",
   "execution_count": 674,
   "id": "6b57d969",
   "metadata": {},
   "outputs": [],
   "source": [
    "X_train, X_test, y_train, y_test = train_test_split(X_transformed_df, y_stroke_df, test_size=0.2, random_state=0, stratify=y_stroke_df)"
   ]
  },
  {
   "cell_type": "code",
   "execution_count": 675,
   "id": "e7896a0c",
   "metadata": {},
   "outputs": [
    {
     "data": {
      "text/plain": [
       "4088"
      ]
     },
     "execution_count": 675,
     "metadata": {},
     "output_type": "execute_result"
    }
   ],
   "source": [
    "y_train.size"
   ]
  },
  {
   "cell_type": "code",
   "execution_count": 655,
   "id": "2b3085a6",
   "metadata": {},
   "outputs": [
    {
     "data": {
      "text/plain": [
       "0    3889\n",
       "1     199\n",
       "Name: stroke, dtype: int64"
      ]
     },
     "execution_count": 655,
     "metadata": {},
     "output_type": "execute_result"
    }
   ],
   "source": [
    "y_train.value_counts()"
   ]
  },
  {
   "cell_type": "code",
   "execution_count": 653,
   "id": "63ff0566",
   "metadata": {},
   "outputs": [
    {
     "data": {
      "text/plain": [
       "<AxesSubplot:>"
      ]
     },
     "execution_count": 653,
     "metadata": {},
     "output_type": "execute_result"
    },
    {
     "data": {
      "image/png": "[encoded data removed]",
      "text/plain": [
       "<Figure size 432x288 with 1 Axes>"
      ]
     },
     "metadata": {
      "needs_background": "light"
     },
     "output_type": "display_data"
    }
   ],
   "source": [
    "y_train.value_counts().sort_index().plot(kind='bar')"
   ]
  },
  {
   "cell_type": "code",
   "execution_count": 500,
   "id": "ddecac22",
   "metadata": {},
   "outputs": [],
   "source": [
    "norm_features_extra = ['avg_glucose_level', 'age', 'bmi', 'avg_glucose_level_log', 'avg_glucose_level_sqrt',\n",
    "                       'bmi_log', 'bmi_sqrt']\n",
    "\n",
    "def normalize_features(df, features):\n",
    "    for feature in features:\n",
    "        df[feature] = (df[feature] - df[feature].mean()) / df[feature].std()\n",
    "    return df\n",
    "\n",
    "X_stroke_df['bmi'].fillna(X_stroke_df['bmi'].mean(),inplace=True)\n",
    "X_stroke_df = normalize_features(X_stroke_df, norm_features_extra)"
   ]
  },
  {
   "cell_type": "code",
   "execution_count": 676,
   "id": "5cc1becd",
   "metadata": {},
   "outputs": [],
   "source": [
    "X_res, y_res = sm.fit_resample(X_train, y_train)"
   ]
  },
  {
   "cell_type": "code",
   "execution_count": 677,
   "id": "08151c5d",
   "metadata": {},
   "outputs": [
    {
     "data": {
      "text/plain": [
       "0    3889\n",
       "1    3889\n",
       "Name: stroke, dtype: int64"
      ]
     },
     "execution_count": 677,
     "metadata": {},
     "output_type": "execute_result"
    }
   ],
   "source": [
    "y_res.value_counts().sort_index()"
   ]
  },
  {
   "cell_type": "code",
   "execution_count": 652,
   "id": "ea455184",
   "metadata": {},
   "outputs": [
    {
     "data": {
      "text/plain": [
       "<AxesSubplot:>"
      ]
     },
     "execution_count": 652,
     "metadata": {},
     "output_type": "execute_result"
    },
    {
     "data": {
      "image/png": "[encoded data removed]",
      "text/plain": [
       "<Figure size 432x288 with 1 Axes>"
      ]
     },
     "metadata": {
      "needs_background": "light"
     },
     "output_type": "display_data"
    }
   ],
   "source": [
    "y_res.value_counts().sort_index().plot(kind='bar')"
   ]
  },
  {
   "cell_type": "code",
   "execution_count": 678,
   "id": "b29f03a3",
   "metadata": {},
   "outputs": [
    {
     "name": "stdout",
     "output_type": "stream",
     "text": [
      "Covariance Matrix\n",
      "[[944  28]\n",
      " [ 45   5]]\n",
      "Accuracy: 0.9286, Precision: 0.1515, Recall: 0.1000,    F1: 0.1205, AUC:0.7823\n"
     ]
    }
   ],
   "source": [
    "from lightgbm import LGBMClassifier\n",
    "lgbm_clf = LGBMClassifier(n_estimators=1000, num_leaves=64, n_jobs=-1, boost_from_average=False)\n",
    "get_model_train_eval(lgbm_clf, ftr_train=X_res, ftr_test=X_test, tgt_train=y_res, tgt_test=y_test)"
   ]
  },
  {
   "cell_type": "code",
   "execution_count": 730,
   "id": "7198efd7",
   "metadata": {},
   "outputs": [
    {
     "name": "stdout",
     "output_type": "stream",
     "text": [
      "Covariance Matrix\n",
      "[[947  25]\n",
      " [ 46   4]]\n",
      "Accuracy: 0.9305, Precision: 0.1379, Recall: 0.0800,    F1: 0.1013, AUC:0.7868\n"
     ]
    }
   ],
   "source": [
    "from lightgbm import LGBMClassifier\n",
    "lgbm_clf = LGBMClassifier(n_estimators=500, num_leaves=64)\n",
    "get_model_train_eval(lgbm_clf, ftr_train=X_res, ftr_test=X_test, tgt_train=y_res, tgt_test=y_test)"
   ]
  },
  {
   "cell_type": "code",
   "execution_count": 734,
   "id": "0a0869c0",
   "metadata": {},
   "outputs": [
    {
     "name": "stdout",
     "output_type": "stream",
     "text": [
      "Covariance Matrix\n",
      "[[729 243]\n",
      " [ 18  32]]\n",
      "Accuracy: 0.7446, Precision: 0.1164, Recall: 0.6400,    F1: 0.1969, AUC:0.8097\n"
     ]
    }
   ],
   "source": [
    "logreg = LogisticRegression(penalty='none')\n",
    "get_model_train_eval(logreg, ftr_train=X_res, ftr_test=X_test, tgt_train=y_res, tgt_test=y_test)"
   ]
  },
  {
   "cell_type": "code",
   "execution_count": 723,
   "id": "ff46f89d",
   "metadata": {},
   "outputs": [
    {
     "name": "stdout",
     "output_type": "stream",
     "text": [
      "Covariance Matrix\n",
      "[[729 243]\n",
      " [ 18  32]]\n",
      "Accuracy: 0.7446, Precision: 0.1164, Recall: 0.6400,    F1: 0.1969, AUC:0.8095\n"
     ]
    }
   ],
   "source": [
    "logreg = LogisticRegression(n_jobs=-1)\n",
    "get_model_train_eval(logreg, ftr_train=X_res, ftr_test=X_test, tgt_train=y_res, tgt_test=y_test)"
   ]
  },
  {
   "cell_type": "code",
   "execution_count": 511,
   "id": "b12171f3",
   "metadata": {},
   "outputs": [],
   "source": [
    "X_stroke_df = ordinalize_features(X_stroke_df)"
   ]
  },
  {
   "cell_type": "code",
   "execution_count": 514,
   "id": "0fcd9d92",
   "metadata": {},
   "outputs": [],
   "source": [
    "norm_features_extra = ['avg_glucose_level', 'age', 'bmi', 'avg_glucose_level_log', 'avg_glucose_level_sqrt',\n",
    "                       'bmi_log', 'bmi_sqrt']\n",
    "\n",
    "def normalize_features(df, features):\n",
    "    for feature in features:\n",
    "        df[feature] = (df[feature] - df[feature].mean()) / df[feature].std()\n",
    "    return df\n",
    "\n",
    "X_stroke_df['bmi'].fillna(X_stroke_df['bmi'].mean(),inplace=True)\n",
    "X_stroke_df = normalize_features(X_stroke_df, norm_features_extra)"
   ]
  },
  {
   "cell_type": "code",
   "execution_count": 515,
   "id": "5537daa2",
   "metadata": {
    "scrolled": true
   },
   "outputs": [
    {
     "data": {
      "text/html": [
       "<div>\n",
       "<style scoped>\n",
       "    .dataframe tbody tr th:only-of-type {\n",
       "        vertical-align: middle;\n",
       "    }\n",
       "\n",
       "    .dataframe tbody tr th {\n",
       "        vertical-align: top;\n",
       "    }\n",
       "\n",
       "    .dataframe thead th {\n",
       "        text-align: right;\n",
       "    }\n",
       "</style>\n",
       "<table border=\"1\" class=\"dataframe\">\n",
       "  <thead>\n",
       "    <tr style=\"text-align: right;\">\n",
       "      <th></th>\n",
       "      <th>onehotencoder__x0_Govt_job</th>\n",
       "      <th>onehotencoder__x0_Never_worked</th>\n",
       "      <th>onehotencoder__x0_Private</th>\n",
       "      <th>onehotencoder__x0_Self-employed</th>\n",
       "      <th>onehotencoder__x0_children</th>\n",
       "      <th>age</th>\n",
       "      <th>hypertension</th>\n",
       "      <th>heart_disease</th>\n",
       "      <th>avg_glucose_level</th>\n",
       "      <th>bmi</th>\n",
       "      <th>bmi_log</th>\n",
       "      <th>bmi_sqrt</th>\n",
       "      <th>avg_glucose_level_log</th>\n",
       "      <th>avg_glucose_level_sqrt</th>\n",
       "      <th>gender_ordinal</th>\n",
       "      <th>smoking_ord</th>\n",
       "      <th>married_ord</th>\n",
       "      <th>residence_ord</th>\n",
       "    </tr>\n",
       "  </thead>\n",
       "  <tbody>\n",
       "    <tr>\n",
       "      <th>0</th>\n",
       "      <td>0.0</td>\n",
       "      <td>0.0</td>\n",
       "      <td>1.0</td>\n",
       "      <td>0.0</td>\n",
       "      <td>0.0</td>\n",
       "      <td>1.051331</td>\n",
       "      <td>0.0</td>\n",
       "      <td>1.0</td>\n",
       "      <td>2.706111</td>\n",
       "      <td>1.001136e+00</td>\n",
       "      <td>1.039841</td>\n",
       "      <td>1.033763</td>\n",
       "      <td>2.320267</td>\n",
       "      <td>2.523754</td>\n",
       "      <td>0.0</td>\n",
       "      <td>1.0</td>\n",
       "      <td>1.0</td>\n",
       "      <td>0.0</td>\n",
       "    </tr>\n",
       "    <tr>\n",
       "      <th>1</th>\n",
       "      <td>0.0</td>\n",
       "      <td>0.0</td>\n",
       "      <td>0.0</td>\n",
       "      <td>1.0</td>\n",
       "      <td>0.0</td>\n",
       "      <td>0.785993</td>\n",
       "      <td>0.0</td>\n",
       "      <td>0.0</td>\n",
       "      <td>2.121351</td>\n",
       "      <td>4.615102e-16</td>\n",
       "      <td>0.130060</td>\n",
       "      <td>0.065033</td>\n",
       "      <td>1.980307</td>\n",
       "      <td>2.069421</td>\n",
       "      <td>2.0</td>\n",
       "      <td>0.0</td>\n",
       "      <td>1.0</td>\n",
       "      <td>1.0</td>\n",
       "    </tr>\n",
       "    <tr>\n",
       "      <th>2</th>\n",
       "      <td>0.0</td>\n",
       "      <td>0.0</td>\n",
       "      <td>1.0</td>\n",
       "      <td>0.0</td>\n",
       "      <td>0.0</td>\n",
       "      <td>1.626231</td>\n",
       "      <td>0.0</td>\n",
       "      <td>1.0</td>\n",
       "      <td>-0.005028</td>\n",
       "      <td>4.685314e-01</td>\n",
       "      <td>0.582689</td>\n",
       "      <td>0.532680</td>\n",
       "      <td>0.193982</td>\n",
       "      <td>0.091724</td>\n",
       "      <td>0.0</td>\n",
       "      <td>0.0</td>\n",
       "      <td>1.0</td>\n",
       "      <td>1.0</td>\n",
       "    </tr>\n",
       "    <tr>\n",
       "      <th>3</th>\n",
       "      <td>0.0</td>\n",
       "      <td>0.0</td>\n",
       "      <td>1.0</td>\n",
       "      <td>0.0</td>\n",
       "      <td>0.0</td>\n",
       "      <td>0.255317</td>\n",
       "      <td>0.0</td>\n",
       "      <td>0.0</td>\n",
       "      <td>1.437217</td>\n",
       "      <td>7.153482e-01</td>\n",
       "      <td>0.801308</td>\n",
       "      <td>0.768596</td>\n",
       "      <td>1.520898</td>\n",
       "      <td>1.498226</td>\n",
       "      <td>2.0</td>\n",
       "      <td>2.0</td>\n",
       "      <td>1.0</td>\n",
       "      <td>0.0</td>\n",
       "    </tr>\n",
       "    <tr>\n",
       "      <th>4</th>\n",
       "      <td>0.0</td>\n",
       "      <td>0.0</td>\n",
       "      <td>0.0</td>\n",
       "      <td>1.0</td>\n",
       "      <td>0.0</td>\n",
       "      <td>1.582008</td>\n",
       "      <td>1.0</td>\n",
       "      <td>0.0</td>\n",
       "      <td>1.501038</td>\n",
       "      <td>-6.356489e-01</td>\n",
       "      <td>-0.583917</td>\n",
       "      <td>-0.618936</td>\n",
       "      <td>1.567135</td>\n",
       "      <td>1.553588</td>\n",
       "      <td>2.0</td>\n",
       "      <td>0.0</td>\n",
       "      <td>1.0</td>\n",
       "      <td>1.0</td>\n",
       "    </tr>\n",
       "    <tr>\n",
       "      <th>...</th>\n",
       "      <td>...</td>\n",
       "      <td>...</td>\n",
       "      <td>...</td>\n",
       "      <td>...</td>\n",
       "      <td>...</td>\n",
       "      <td>...</td>\n",
       "      <td>...</td>\n",
       "      <td>...</td>\n",
       "      <td>...</td>\n",
       "      <td>...</td>\n",
       "      <td>...</td>\n",
       "      <td>...</td>\n",
       "      <td>...</td>\n",
       "      <td>...</td>\n",
       "      <td>...</td>\n",
       "      <td>...</td>\n",
       "      <td>...</td>\n",
       "      <td>...</td>\n",
       "    </tr>\n",
       "    <tr>\n",
       "      <th>5105</th>\n",
       "      <td>0.0</td>\n",
       "      <td>0.0</td>\n",
       "      <td>1.0</td>\n",
       "      <td>0.0</td>\n",
       "      <td>0.0</td>\n",
       "      <td>1.626231</td>\n",
       "      <td>1.0</td>\n",
       "      <td>0.0</td>\n",
       "      <td>-0.494609</td>\n",
       "      <td>4.615102e-16</td>\n",
       "      <td>0.130060</td>\n",
       "      <td>0.065033</td>\n",
       "      <td>-0.454796</td>\n",
       "      <td>-0.482327</td>\n",
       "      <td>2.0</td>\n",
       "      <td>0.0</td>\n",
       "      <td>1.0</td>\n",
       "      <td>0.0</td>\n",
       "    </tr>\n",
       "    <tr>\n",
       "      <th>5106</th>\n",
       "      <td>0.0</td>\n",
       "      <td>0.0</td>\n",
       "      <td>0.0</td>\n",
       "      <td>1.0</td>\n",
       "      <td>0.0</td>\n",
       "      <td>1.670454</td>\n",
       "      <td>0.0</td>\n",
       "      <td>0.0</td>\n",
       "      <td>0.420734</td>\n",
       "      <td>1.442808e+00</td>\n",
       "      <td>1.381648</td>\n",
       "      <td>1.428353</td>\n",
       "      <td>0.655958</td>\n",
       "      <td>0.543586</td>\n",
       "      <td>2.0</td>\n",
       "      <td>0.0</td>\n",
       "      <td>1.0</td>\n",
       "      <td>0.0</td>\n",
       "    </tr>\n",
       "    <tr>\n",
       "      <th>5107</th>\n",
       "      <td>0.0</td>\n",
       "      <td>0.0</td>\n",
       "      <td>0.0</td>\n",
       "      <td>1.0</td>\n",
       "      <td>0.0</td>\n",
       "      <td>-0.363806</td>\n",
       "      <td>0.0</td>\n",
       "      <td>0.0</td>\n",
       "      <td>-0.511393</td>\n",
       "      <td>2.217146e-01</td>\n",
       "      <td>0.350896</td>\n",
       "      <td>0.289761</td>\n",
       "      <td>-0.479979</td>\n",
       "      <td>-0.503279</td>\n",
       "      <td>2.0</td>\n",
       "      <td>0.0</td>\n",
       "      <td>1.0</td>\n",
       "      <td>1.0</td>\n",
       "    </tr>\n",
       "    <tr>\n",
       "      <th>5108</th>\n",
       "      <td>0.0</td>\n",
       "      <td>0.0</td>\n",
       "      <td>1.0</td>\n",
       "      <td>0.0</td>\n",
       "      <td>0.0</td>\n",
       "      <td>0.343763</td>\n",
       "      <td>0.0</td>\n",
       "      <td>0.0</td>\n",
       "      <td>1.328127</td>\n",
       "      <td>-4.278032e-01</td>\n",
       "      <td>-0.335584</td>\n",
       "      <td>-0.388203</td>\n",
       "      <td>1.440026</td>\n",
       "      <td>1.402501</td>\n",
       "      <td>0.0</td>\n",
       "      <td>1.0</td>\n",
       "      <td>1.0</td>\n",
       "      <td>1.0</td>\n",
       "    </tr>\n",
       "    <tr>\n",
       "      <th>5109</th>\n",
       "      <td>1.0</td>\n",
       "      <td>0.0</td>\n",
       "      <td>0.0</td>\n",
       "      <td>0.0</td>\n",
       "      <td>0.0</td>\n",
       "      <td>0.034201</td>\n",
       "      <td>0.0</td>\n",
       "      <td>0.0</td>\n",
       "      <td>-0.460822</td>\n",
       "      <td>-3.498611e-01</td>\n",
       "      <td>-0.246442</td>\n",
       "      <td>-0.303545</td>\n",
       "      <td>-0.404783</td>\n",
       "      <td>-0.440433</td>\n",
       "      <td>2.0</td>\n",
       "      <td>1.0</td>\n",
       "      <td>1.0</td>\n",
       "      <td>0.0</td>\n",
       "    </tr>\n",
       "  </tbody>\n",
       "</table>\n",
       "<p>5110 rows × 18 columns</p>\n",
       "</div>"
      ],
      "text/plain": [
       "      onehotencoder__x0_Govt_job  onehotencoder__x0_Never_worked  \\\n",
       "0                            0.0                             0.0   \n",
       "1                            0.0                             0.0   \n",
       "2                            0.0                             0.0   \n",
       "3                            0.0                             0.0   \n",
       "4                            0.0                             0.0   \n",
       "...                          ...                             ...   \n",
       "5105                         0.0                             0.0   \n",
       "5106                         0.0                             0.0   \n",
       "5107                         0.0                             0.0   \n",
       "5108                         0.0                             0.0   \n",
       "5109                         1.0                             0.0   \n",
       "\n",
       "      onehotencoder__x0_Private  onehotencoder__x0_Self-employed  \\\n",
       "0                           1.0                              0.0   \n",
       "1                           0.0                              1.0   \n",
       "2                           1.0                              0.0   \n",
       "3                           1.0                              0.0   \n",
       "4                           0.0                              1.0   \n",
       "...                         ...                              ...   \n",
       "5105                        1.0                              0.0   \n",
       "5106                        0.0                              1.0   \n",
       "5107                        0.0                              1.0   \n",
       "5108                        1.0                              0.0   \n",
       "5109                        0.0                              0.0   \n",
       "\n",
       "      onehotencoder__x0_children       age  hypertension  heart_disease  \\\n",
       "0                            0.0  1.051331           0.0            1.0   \n",
       "1                            0.0  0.785993           0.0            0.0   \n",
       "2                            0.0  1.626231           0.0            1.0   \n",
       "3                            0.0  0.255317           0.0            0.0   \n",
       "4                            0.0  1.582008           1.0            0.0   \n",
       "...                          ...       ...           ...            ...   \n",
       "5105                         0.0  1.626231           1.0            0.0   \n",
       "5106                         0.0  1.670454           0.0            0.0   \n",
       "5107                         0.0 -0.363806           0.0            0.0   \n",
       "5108                         0.0  0.343763           0.0            0.0   \n",
       "5109                         0.0  0.034201           0.0            0.0   \n",
       "\n",
       "      avg_glucose_level           bmi   bmi_log  bmi_sqrt  \\\n",
       "0              2.706111  1.001136e+00  1.039841  1.033763   \n",
       "1              2.121351  4.615102e-16  0.130060  0.065033   \n",
       "2             -0.005028  4.685314e-01  0.582689  0.532680   \n",
       "3              1.437217  7.153482e-01  0.801308  0.768596   \n",
       "4              1.501038 -6.356489e-01 -0.583917 -0.618936   \n",
       "...                 ...           ...       ...       ...   \n",
       "5105          -0.494609  4.615102e-16  0.130060  0.065033   \n",
       "5106           0.420734  1.442808e+00  1.381648  1.428353   \n",
       "5107          -0.511393  2.217146e-01  0.350896  0.289761   \n",
       "5108           1.328127 -4.278032e-01 -0.335584 -0.388203   \n",
       "5109          -0.460822 -3.498611e-01 -0.246442 -0.303545   \n",
       "\n",
       "      avg_glucose_level_log  avg_glucose_level_sqrt  gender_ordinal  \\\n",
       "0                  2.320267                2.523754             0.0   \n",
       "1                  1.980307                2.069421             2.0   \n",
       "2                  0.193982                0.091724             0.0   \n",
       "3                  1.520898                1.498226             2.0   \n",
       "4                  1.567135                1.553588             2.0   \n",
       "...                     ...                     ...             ...   \n",
       "5105              -0.454796               -0.482327             2.0   \n",
       "5106               0.655958                0.543586             2.0   \n",
       "5107              -0.479979               -0.503279             2.0   \n",
       "5108               1.440026                1.402501             0.0   \n",
       "5109              -0.404783               -0.440433             2.0   \n",
       "\n",
       "      smoking_ord  married_ord  residence_ord  \n",
       "0             1.0          1.0            0.0  \n",
       "1             0.0          1.0            1.0  \n",
       "2             0.0          1.0            1.0  \n",
       "3             2.0          1.0            0.0  \n",
       "4             0.0          1.0            1.0  \n",
       "...           ...          ...            ...  \n",
       "5105          0.0          1.0            0.0  \n",
       "5106          0.0          1.0            0.0  \n",
       "5107          0.0          1.0            1.0  \n",
       "5108          1.0          1.0            1.0  \n",
       "5109          1.0          1.0            0.0  \n",
       "\n",
       "[5110 rows x 18 columns]"
      ]
     },
     "execution_count": 515,
     "metadata": {},
     "output_type": "execute_result"
    }
   ],
   "source": [
    "transformed = transformer.fit_transform(X_stroke_df)\n",
    "\n",
    "X_transformed_df = pd.DataFrame(transformed, columns=transformer.get_feature_names())\n",
    "X_transformed_df"
   ]
  },
  {
   "cell_type": "code",
   "execution_count": 681,
   "id": "0a914c94",
   "metadata": {},
   "outputs": [
    {
     "name": "stdout",
     "output_type": "stream",
     "text": [
      "Covariance Matrix\n",
      "[[944  28]\n",
      " [ 45   5]]\n",
      "Accuracy: 0.9286, Precision: 0.1515, Recall: 0.1000,    F1: 0.1205, AUC:0.7823\n"
     ]
    }
   ],
   "source": [
    "from lightgbm import LGBMClassifier\n",
    "lgbm_clf = LGBMClassifier(n_estimators=1000, num_leaves=64, n_jobs=-1, boost_from_average=False)\n",
    "get_model_train_eval(lgbm_clf, ftr_train=X_res, ftr_test=X_test, tgt_train=y_res, tgt_test=y_test)"
   ]
  },
  {
   "cell_type": "code",
   "execution_count": 520,
   "id": "f058b435",
   "metadata": {},
   "outputs": [],
   "source": [
    "from sklearn.linear_model import LogisticRegression\n",
    "from sklearn.svm import LinearSVC"
   ]
  },
  {
   "cell_type": "code",
   "execution_count": 682,
   "id": "b3265dd0",
   "metadata": {},
   "outputs": [
    {
     "name": "stdout",
     "output_type": "stream",
     "text": [
      "Covariance Matrix\n",
      "[[729 243]\n",
      " [ 18  32]]\n",
      "Accuracy: 0.7446, Precision: 0.1164, Recall: 0.6400,    F1: 0.1969, AUC:0.8095\n"
     ]
    }
   ],
   "source": [
    "logreg = LogisticRegression()\n",
    "get_model_train_eval(logreg, ftr_train=X_res, ftr_test=X_test, tgt_train=y_res, tgt_test=y_test)"
   ]
  },
  {
   "cell_type": "code",
   "execution_count": 663,
   "id": "94b6a8e6",
   "metadata": {},
   "outputs": [],
   "source": [
    "from xgboost import XGBRegressor"
   ]
  },
  {
   "cell_type": "code",
   "execution_count": 664,
   "id": "7881356c",
   "metadata": {},
   "outputs": [
    {
     "ename": "AttributeError",
     "evalue": "'XGBRegressor' object has no attribute 'predict_proba'",
     "output_type": "error",
     "traceback": [
      "\u001b[1;31m---------------------------------------------------------------------------\u001b[0m",
      "\u001b[1;31mAttributeError\u001b[0m                            Traceback (most recent call last)",
      "Input \u001b[1;32mIn [664]\u001b[0m, in \u001b[0;36m<cell line: 2>\u001b[1;34m()\u001b[0m\n\u001b[0;32m      1\u001b[0m xgreg \u001b[38;5;241m=\u001b[39m XGBRegressor()\n\u001b[1;32m----> 2\u001b[0m \u001b[43mget_model_train_eval\u001b[49m\u001b[43m(\u001b[49m\u001b[43mxgreg\u001b[49m\u001b[43m,\u001b[49m\u001b[43m \u001b[49m\u001b[43mftr_train\u001b[49m\u001b[38;5;241;43m=\u001b[39;49m\u001b[43mX_train\u001b[49m\u001b[43m,\u001b[49m\u001b[43m \u001b[49m\u001b[43mftr_test\u001b[49m\u001b[38;5;241;43m=\u001b[39;49m\u001b[43mX_test\u001b[49m\u001b[43m,\u001b[49m\u001b[43m \u001b[49m\u001b[43mtgt_train\u001b[49m\u001b[38;5;241;43m=\u001b[39;49m\u001b[43my_train\u001b[49m\u001b[43m,\u001b[49m\u001b[43m \u001b[49m\u001b[43mtgt_test\u001b[49m\u001b[38;5;241;43m=\u001b[39;49m\u001b[43my_test\u001b[49m\u001b[43m)\u001b[49m\n",
      "Input \u001b[1;32mIn [82]\u001b[0m, in \u001b[0;36mget_model_train_eval\u001b[1;34m(model, ftr_train, ftr_test, tgt_train, tgt_test)\u001b[0m\n\u001b[0;32m      2\u001b[0m model\u001b[38;5;241m.\u001b[39mfit(ftr_train, tgt_train)\n\u001b[0;32m      3\u001b[0m pred \u001b[38;5;241m=\u001b[39m model\u001b[38;5;241m.\u001b[39mpredict(ftr_test)\n\u001b[1;32m----> 4\u001b[0m pred_proba \u001b[38;5;241m=\u001b[39m \u001b[43mmodel\u001b[49m\u001b[38;5;241;43m.\u001b[39;49m\u001b[43mpredict_proba\u001b[49m(ftr_test)[:, \u001b[38;5;241m1\u001b[39m]\n\u001b[0;32m      5\u001b[0m get_clf_eval(tgt_test, pred, pred_proba)\n",
      "\u001b[1;31mAttributeError\u001b[0m: 'XGBRegressor' object has no attribute 'predict_proba'"
     ]
    }
   ],
   "source": [
    "xgreg = XGBRegressor()\n",
    "get_model_train_eval(xgreg, ftr_train=X_train, ftr_test=X_test, tgt_train=y_train, tgt_test=y_test)"
   ]
  },
  {
   "cell_type": "code",
   "execution_count": 747,
   "id": "81bbf57e",
   "metadata": {},
   "outputs": [
    {
     "name": "stdout",
     "output_type": "stream",
     "text": [
      "Covariance Matrix\n",
      "[[943  29]\n",
      " [ 44   6]]\n",
      "Accuracy: 0.9286, Precision: 0.1714, Recall: 0.1200,    F1: 0.1412, AUC:0.7854\n"
     ]
    }
   ],
   "source": [
    "from xgboost import XGBClassifier\n",
    "bst_constr = xgb.XGBClassifier(n_estimators=1000, max_leaves=16)\n",
    "get_model_train_eval(bst_constr, ftr_train=X_res, ftr_test=X_test, tgt_train=y_res, tgt_test=y_test)"
   ]
  },
  {
   "cell_type": "code",
   "execution_count": 740,
   "id": "402388c3",
   "metadata": {},
   "outputs": [
    {
     "name": "stdout",
     "output_type": "stream",
     "text": [
      "Covariance Matrix\n",
      "[[945  27]\n",
      " [ 44   6]]\n",
      "Accuracy: 0.9305, Precision: 0.1818, Recall: 0.1200,    F1: 0.1446, AUC:0.7848\n"
     ]
    }
   ],
   "source": [
    "from xgboost import XGBClassifier\n",
    "bst_constr = xgb.XGBClassifier(n_estimators=1000)\n",
    "get_model_train_eval(bst_constr, ftr_train=X_res, ftr_test=X_test, tgt_train=y_res, tgt_test=y_test)"
   ]
  },
  {
   "cell_type": "code",
   "execution_count": 775,
   "id": "4cfd7e91",
   "metadata": {},
   "outputs": [
    {
     "name": "stdout",
     "output_type": "stream",
     "text": [
      "Covariance Matrix\n",
      "[[928  44]\n",
      " [ 44   6]]\n",
      "Accuracy: 0.9139, Precision: 0.1200, Recall: 0.1200,    F1: 0.1200, AUC:0.7925\n"
     ]
    }
   ],
   "source": [
    "from sklearn.ensemble import RandomForestClassifier\n",
    "rf_model = RandomForestClassifier(n_estimators=4000, criterion='entropy')\n",
    "get_model_train_eval(rf_model, ftr_train=X_res, ftr_test=X_test, tgt_train=y_res, tgt_test=y_test)"
   ]
  },
  {
   "cell_type": "code",
   "execution_count": 771,
   "id": "b6ca04dd",
   "metadata": {},
   "outputs": [
    {
     "name": "stdout",
     "output_type": "stream",
     "text": [
      "Covariance Matrix\n",
      "[[931  41]\n",
      " [ 43   7]]\n",
      "Accuracy: 0.9178, Precision: 0.1458, Recall: 0.1400,    F1: 0.1429, AUC:0.7896\n"
     ]
    }
   ],
   "source": [
    "from sklearn.ensemble import RandomForestClassifier\n",
    "rf_model = RandomForestClassifier(n_estimators=4000)\n",
    "get_model_train_eval(rf_model, ftr_train=X_res, ftr_test=X_test, tgt_train=y_res, tgt_test=y_test)"
   ]
  },
  {
   "cell_type": "code",
   "execution_count": null,
   "id": "bfb43d08",
   "metadata": {},
   "outputs": [],
   "source": [
    "get_model_train_eval(xgreg, ftr_train=X_train, ftr_test=X_test, tgt_train=y_train, tgt_test=y_test)"
   ]
  },
  {
   "cell_type": "code",
   "execution_count": 765,
   "id": "8b93e7ac",
   "metadata": {},
   "outputs": [
    {
     "name": "stdout",
     "output_type": "stream",
     "text": [
      "Covariance Matrix\n",
      "[[773 199]\n",
      " [ 19  31]]\n",
      "Accuracy: 0.7867, Precision: 0.1348, Recall: 0.6200,    F1: 0.2214, AUC:0.7922\n"
     ]
    }
   ],
   "source": [
    "from sklearn.ensemble import GradientBoostingClassifier\n",
    "gb_model = GradientBoostingClassifier(n_estimators=27)\n",
    "get_model_train_eval(gb_model, ftr_train=X_res, ftr_test=X_test, tgt_train=y_res, tgt_test=y_test)"
   ]
  },
  {
   "cell_type": "code",
   "execution_count": 766,
   "id": "e598c9b3",
   "metadata": {},
   "outputs": [
    {
     "name": "stdout",
     "output_type": "stream",
     "text": [
      "Covariance Matrix\n",
      "[[772 200]\n",
      " [ 19  31]]\n",
      "Accuracy: 0.7857, Precision: 0.1342, Recall: 0.6200,    F1: 0.2206, AUC:0.7939\n"
     ]
    }
   ],
   "source": [
    "from sklearn.ensemble import GradientBoostingClassifier\n",
    "gb_model = GradientBoostingClassifier(n_estimators=26)\n",
    "get_model_train_eval(gb_model, ftr_train=X_res, ftr_test=X_test, tgt_train=y_res, tgt_test=y_test)"
   ]
  },
  {
   "cell_type": "code",
   "execution_count": 767,
   "id": "8a0f3c50",
   "metadata": {},
   "outputs": [
    {
     "ename": "AttributeError",
     "evalue": "'LinearRegression' object has no attribute 'predict_proba'",
     "output_type": "error",
     "traceback": [
      "\u001b[1;31m---------------------------------------------------------------------------\u001b[0m",
      "\u001b[1;31mAttributeError\u001b[0m                            Traceback (most recent call last)",
      "Input \u001b[1;32mIn [767]\u001b[0m, in \u001b[0;36m<cell line: 3>\u001b[1;34m()\u001b[0m\n\u001b[0;32m      1\u001b[0m \u001b[38;5;28;01mfrom\u001b[39;00m \u001b[38;5;21;01msklearn\u001b[39;00m\u001b[38;5;21;01m.\u001b[39;00m\u001b[38;5;21;01mlinear_model\u001b[39;00m \u001b[38;5;28;01mimport\u001b[39;00m LinearRegression\n\u001b[0;32m      2\u001b[0m linear_model \u001b[38;5;241m=\u001b[39m LinearRegression()\n\u001b[1;32m----> 3\u001b[0m \u001b[43mget_model_train_eval\u001b[49m\u001b[43m(\u001b[49m\u001b[43mlinear_model\u001b[49m\u001b[43m,\u001b[49m\u001b[43m \u001b[49m\u001b[43mftr_train\u001b[49m\u001b[38;5;241;43m=\u001b[39;49m\u001b[43mX_res\u001b[49m\u001b[43m,\u001b[49m\u001b[43m \u001b[49m\u001b[43mftr_test\u001b[49m\u001b[38;5;241;43m=\u001b[39;49m\u001b[43mX_test\u001b[49m\u001b[43m,\u001b[49m\u001b[43m \u001b[49m\u001b[43mtgt_train\u001b[49m\u001b[38;5;241;43m=\u001b[39;49m\u001b[43my_res\u001b[49m\u001b[43m,\u001b[49m\u001b[43m \u001b[49m\u001b[43mtgt_test\u001b[49m\u001b[38;5;241;43m=\u001b[39;49m\u001b[43my_test\u001b[49m\u001b[43m)\u001b[49m\n",
      "Input \u001b[1;32mIn [82]\u001b[0m, in \u001b[0;36mget_model_train_eval\u001b[1;34m(model, ftr_train, ftr_test, tgt_train, tgt_test)\u001b[0m\n\u001b[0;32m      2\u001b[0m model\u001b[38;5;241m.\u001b[39mfit(ftr_train, tgt_train)\n\u001b[0;32m      3\u001b[0m pred \u001b[38;5;241m=\u001b[39m model\u001b[38;5;241m.\u001b[39mpredict(ftr_test)\n\u001b[1;32m----> 4\u001b[0m pred_proba \u001b[38;5;241m=\u001b[39m \u001b[43mmodel\u001b[49m\u001b[38;5;241;43m.\u001b[39;49m\u001b[43mpredict_proba\u001b[49m(ftr_test)[:, \u001b[38;5;241m1\u001b[39m]\n\u001b[0;32m      5\u001b[0m get_clf_eval(tgt_test, pred, pred_proba)\n",
      "\u001b[1;31mAttributeError\u001b[0m: 'LinearRegression' object has no attribute 'predict_proba'"
     ]
    }
   ],
   "source": [
    "from sklearn.linear_model import LinearRegression\n",
    "linear_model = LinearRegression()\n",
    "get_model_train_eval(linear_model, ftr_train=X_res, ftr_test=X_test, tgt_train=y_res, tgt_test=y_test)"
   ]
  },
  {
   "cell_type": "code",
   "execution_count": 524,
   "id": "e0666c07",
   "metadata": {},
   "outputs": [],
   "source": [
    "from xgboost import XGBClassifier\n",
    "from sklearn.model_selection import GridSearchCV"
   ]
  },
  {
   "cell_type": "code",
   "execution_count": 531,
   "id": "0231ca48",
   "metadata": {},
   "outputs": [],
   "source": [
    "xgb_clf = XGBClassifier(objective='binary:logistic',nthread=4, seed=42)\n",
    "xgb_param = {\n",
    "    'max_depth': range(2, 10, 1),\n",
    "    'n_estimators': range(60, 220, 40),\n",
    "    'learning_rate': [0.1, 0.01, 0.05]\n",
    "}\n",
    "grid_xgb = GridSearchCV(xgb_clf, xgb_param, scoring='roc_auc', cv=5)\n",
    "search_xgb = grid_xgb.fit(X_train, y_train)\n",
    "best_xgb = search_xgb.best_estimator_"
   ]
  },
  {
   "cell_type": "code",
   "execution_count": 532,
   "id": "3231fbcb",
   "metadata": {},
   "outputs": [
    {
     "name": "stdout",
     "output_type": "stream",
     "text": [
      "Covariance Matrix\n",
      "[[1458    0]\n",
      " [  75    0]]\n",
      "Accuracy: 0.9511, Precision: 0.0000, Recall: 0.0000,    F1: 0.0000, AUC:0.8421\n"
     ]
    }
   ],
   "source": [
    "get_model_train_eval(grid_xgb, ftr_train=X_train, ftr_test=X_test, tgt_train=y_train, tgt_test=y_test)"
   ]
  },
  {
   "cell_type": "code",
   "execution_count": 619,
   "id": "cf2549ac",
   "metadata": {},
   "outputs": [
    {
     "name": "stdout",
     "output_type": "stream",
     "text": [
      "Covariance Matrix\n",
      "[[1435   23]\n",
      " [  70    5]]\n",
      "Accuracy: 0.9393, Precision: 0.1786, Recall: 0.0667,    F1: 0.0971, AUC:0.7734\n"
     ]
    }
   ],
   "source": [
    "from lightgbm import LGBMClassifier\n",
    "lgbm_clf = LGBMClassifier(n_estimators=1000, num_leaves=64, n_jobs=-1, boost_from_average=False)\n",
    "get_model_train_eval(lgbm_clf, ftr_train=X_train, ftr_test=X_test, tgt_train=y_train, tgt_test=y_test)"
   ]
  },
  {
   "cell_type": "code",
   "execution_count": 784,
   "id": "58c3c641",
   "metadata": {},
   "outputs": [
    {
     "data": {
      "text/plain": [
       "PCA(n_components=14, random_state=0)"
      ]
     },
     "execution_count": 784,
     "metadata": {},
     "output_type": "execute_result"
    }
   ],
   "source": [
    "from sklearn.decomposition import PCA\n",
    "pca_14 = PCA(n_components=14, random_state=0)\n",
    "pca_14.fit(X_train)"
   ]
  },
  {
   "cell_type": "code",
   "execution_count": 811,
   "id": "3fa03029",
   "metadata": {},
   "outputs": [
    {
     "data": {
      "text/plain": [
       "array([2.14724593e-01, 1.20820765e-01, 8.86409138e-02, 8.11422061e-02,\n",
       "       7.50869140e-02, 7.19355159e-02, 6.77416312e-02, 6.39992446e-02,\n",
       "       6.30469675e-02, 5.88208412e-02, 4.53959720e-02, 3.08586706e-02,\n",
       "       1.77857648e-02, 2.13540541e-33])"
      ]
     },
     "execution_count": 811,
     "metadata": {},
     "output_type": "execute_result"
    }
   ],
   "source": [
    "contrib = pca_14.explained_variance_ratio_\n",
    "contrib"
   ]
  },
  {
   "cell_type": "code",
   "execution_count": 810,
   "id": "36833b39",
   "metadata": {},
   "outputs": [
    {
     "data": {
      "text/plain": [
       "array([2.99907370e+00, 1.68751225e+00, 1.23805396e+00, 1.13331898e+00,\n",
       "       1.04874428e+00, 1.00472848e+00, 9.46152194e-01, 8.93882013e-01,\n",
       "       8.80581491e-01, 8.21554884e-01, 6.34048779e-01, 4.31005253e-01,\n",
       "       2.48415046e-01, 2.98253596e-32])"
      ]
     },
     "execution_count": 810,
     "metadata": {},
     "output_type": "execute_result"
    }
   ],
   "source": [
    "eigenv = pca_14.explained_variance_\n",
    "eigenv"
   ]
  },
  {
   "cell_type": "code",
   "execution_count": 814,
   "id": "3363a3bd",
   "metadata": {},
   "outputs": [
    {
     "data": {
      "text/plain": [
       "array([0.21472459, 0.33554536, 0.42418627, 0.50532848, 0.58041539,\n",
       "       0.65235091, 0.72009254, 0.78409178, 0.84713875, 0.90595959,\n",
       "       0.95135556, 0.98221424, 1.        , 1.        ])"
      ]
     },
     "execution_count": 814,
     "metadata": {},
     "output_type": "execute_result"
    }
   ],
   "source": [
    "cumsum = np.cumsum(pca_14.explained_variance_ratio_)\n",
    "cumsum"
   ]
  },
  {
   "cell_type": "code",
   "execution_count": 829,
   "id": "9666a3a7",
   "metadata": {},
   "outputs": [],
   "source": [
    "pca_df = pd.DataFrame({'Eigenvalue': eigenv,\n",
    "                      'Contribution': contrib,\n",
    "                      'Cumulative Contribution': cumsum},\n",
    "                               index=['pca1','pca2','pca3','pca4','pca5','pca6','pca7','pca8','pca9','pca10','pca11','pca12','pca13','pca14'])"
   ]
  },
  {
   "cell_type": "code",
   "execution_count": 835,
   "id": "6e0381dd",
   "metadata": {},
   "outputs": [],
   "source": [
    "pca_df\n",
    "import dataframe_image as dfi\n",
    "dfi.export(pca_df, \"pca_df.png\")"
   ]
  },
  {
   "cell_type": "code",
   "execution_count": 791,
   "id": "54b8395b",
   "metadata": {},
   "outputs": [
    {
     "data": {
      "text/plain": [
       "Text(0, 0.5, 'Explained variance')"
      ]
     },
     "execution_count": 791,
     "metadata": {},
     "output_type": "execute_result"
    },
    {
     "data": {
      "image/png": "[encoded data removed]",
      "text/plain": [
       "<Figure size 432x288 with 1 Axes>"
      ]
     },
     "metadata": {
      "needs_background": "light"
     },
     "output_type": "display_data"
    }
   ],
   "source": [
    "plt.plot(np.cumsum(pca_14.explained_variance_ratio_))\n",
    "plt.xlabel('Number of components')\n",
    "plt.ylabel('Explained variance')"
   ]
  },
  {
   "cell_type": "code",
   "execution_count": 837,
   "id": "66a417a8",
   "metadata": {},
   "outputs": [
    {
     "data": {
      "text/plain": [
       "Text(0, 0.5, 'Variance explained')"
      ]
     },
     "execution_count": 837,
     "metadata": {},
     "output_type": "execute_result"
    },
    {
     "data": {
      "image/png": "[encoded data removed]",
      "text/plain": [
       "<Figure size 432x288 with 1 Axes>"
      ]
     },
     "metadata": {
      "needs_background": "light"
     },
     "output_type": "display_data"
    }
   ],
   "source": [
    "plt.plot(pca_14.explained_variance_ratio_)\n",
    "plt.xlabel('Number of components')\n",
    "plt.ylabel('Variance explained')"
   ]
  },
  {
   "cell_type": "code",
   "execution_count": 783,
   "id": "63ffc5c5",
   "metadata": {},
   "outputs": [
    {
     "data": {
      "text/html": [
       "<div>\n",
       "<style scoped>\n",
       "    .dataframe tbody tr th:only-of-type {\n",
       "        vertical-align: middle;\n",
       "    }\n",
       "\n",
       "    .dataframe tbody tr th {\n",
       "        vertical-align: top;\n",
       "    }\n",
       "\n",
       "    .dataframe thead th {\n",
       "        text-align: right;\n",
       "    }\n",
       "</style>\n",
       "<table border=\"1\" class=\"dataframe\">\n",
       "  <thead>\n",
       "    <tr style=\"text-align: right;\">\n",
       "      <th></th>\n",
       "      <th>onehotencoder__x0_Govt_job</th>\n",
       "      <th>onehotencoder__x0_Never_worked</th>\n",
       "      <th>onehotencoder__x0_Private</th>\n",
       "      <th>onehotencoder__x0_Self-employed</th>\n",
       "      <th>onehotencoder__x0_children</th>\n",
       "      <th>age</th>\n",
       "      <th>hypertension</th>\n",
       "      <th>heart_disease</th>\n",
       "      <th>bmi_log10</th>\n",
       "      <th>avg_glucose_level_log10</th>\n",
       "      <th>gender_ordinal</th>\n",
       "      <th>smoking_ord</th>\n",
       "      <th>married_ord</th>\n",
       "      <th>residence_ord</th>\n",
       "    </tr>\n",
       "  </thead>\n",
       "  <tbody>\n",
       "    <tr>\n",
       "      <th>943</th>\n",
       "      <td>-0.384111</td>\n",
       "      <td>-0.065756</td>\n",
       "      <td>0.864297</td>\n",
       "      <td>-0.436881</td>\n",
       "      <td>-0.394112</td>\n",
       "      <td>1.405253</td>\n",
       "      <td>-0.328602</td>\n",
       "      <td>-0.238947</td>\n",
       "      <td>1.624122</td>\n",
       "      <td>-0.368774</td>\n",
       "      <td>0.840598</td>\n",
       "      <td>-1.134109</td>\n",
       "      <td>0.723884</td>\n",
       "      <td>-0.984080</td>\n",
       "    </tr>\n",
       "    <tr>\n",
       "      <th>821</th>\n",
       "      <td>2.603417</td>\n",
       "      <td>-0.065756</td>\n",
       "      <td>-1.157010</td>\n",
       "      <td>-0.436881</td>\n",
       "      <td>-0.394112</td>\n",
       "      <td>1.184116</td>\n",
       "      <td>3.043196</td>\n",
       "      <td>-0.238947</td>\n",
       "      <td>1.050443</td>\n",
       "      <td>-0.297435</td>\n",
       "      <td>0.840598</td>\n",
       "      <td>0.312184</td>\n",
       "      <td>0.723884</td>\n",
       "      <td>1.016178</td>\n",
       "    </tr>\n",
       "    <tr>\n",
       "      <th>4675</th>\n",
       "      <td>-0.384111</td>\n",
       "      <td>-0.065756</td>\n",
       "      <td>-1.157010</td>\n",
       "      <td>-0.436881</td>\n",
       "      <td>2.537348</td>\n",
       "      <td>-1.557980</td>\n",
       "      <td>-0.328602</td>\n",
       "      <td>-0.238947</td>\n",
       "      <td>-0.953954</td>\n",
       "      <td>-1.222625</td>\n",
       "      <td>-1.189870</td>\n",
       "      <td>0.312184</td>\n",
       "      <td>-1.381436</td>\n",
       "      <td>1.016178</td>\n",
       "    </tr>\n",
       "    <tr>\n",
       "      <th>3737</th>\n",
       "      <td>-0.384111</td>\n",
       "      <td>-0.065756</td>\n",
       "      <td>-1.157010</td>\n",
       "      <td>2.288955</td>\n",
       "      <td>-0.394112</td>\n",
       "      <td>1.316798</td>\n",
       "      <td>-0.328602</td>\n",
       "      <td>-0.238947</td>\n",
       "      <td>-0.046143</td>\n",
       "      <td>-0.001331</td>\n",
       "      <td>0.840598</td>\n",
       "      <td>0.312184</td>\n",
       "      <td>0.723884</td>\n",
       "      <td>1.016178</td>\n",
       "    </tr>\n",
       "    <tr>\n",
       "      <th>2067</th>\n",
       "      <td>-0.384111</td>\n",
       "      <td>-0.065756</td>\n",
       "      <td>-1.157010</td>\n",
       "      <td>2.288955</td>\n",
       "      <td>-0.394112</td>\n",
       "      <td>-0.142705</td>\n",
       "      <td>-0.328602</td>\n",
       "      <td>-0.238947</td>\n",
       "      <td>2.225059</td>\n",
       "      <td>2.123737</td>\n",
       "      <td>0.840598</td>\n",
       "      <td>0.312184</td>\n",
       "      <td>0.723884</td>\n",
       "      <td>1.016178</td>\n",
       "    </tr>\n",
       "    <tr>\n",
       "      <th>...</th>\n",
       "      <td>...</td>\n",
       "      <td>...</td>\n",
       "      <td>...</td>\n",
       "      <td>...</td>\n",
       "      <td>...</td>\n",
       "      <td>...</td>\n",
       "      <td>...</td>\n",
       "      <td>...</td>\n",
       "      <td>...</td>\n",
       "      <td>...</td>\n",
       "      <td>...</td>\n",
       "      <td>...</td>\n",
       "      <td>...</td>\n",
       "      <td>...</td>\n",
       "    </tr>\n",
       "    <tr>\n",
       "      <th>4655</th>\n",
       "      <td>-0.384111</td>\n",
       "      <td>-0.065756</td>\n",
       "      <td>-1.157010</td>\n",
       "      <td>-0.436881</td>\n",
       "      <td>2.537348</td>\n",
       "      <td>-1.469526</td>\n",
       "      <td>-0.328602</td>\n",
       "      <td>-0.238947</td>\n",
       "      <td>-2.291365</td>\n",
       "      <td>-1.504391</td>\n",
       "      <td>0.840598</td>\n",
       "      <td>-1.134109</td>\n",
       "      <td>-1.381436</td>\n",
       "      <td>-0.984080</td>\n",
       "    </tr>\n",
       "    <tr>\n",
       "      <th>3126</th>\n",
       "      <td>-0.384111</td>\n",
       "      <td>-0.065756</td>\n",
       "      <td>-1.157010</td>\n",
       "      <td>2.288955</td>\n",
       "      <td>-0.394112</td>\n",
       "      <td>0.476478</td>\n",
       "      <td>-0.328602</td>\n",
       "      <td>-0.238947</td>\n",
       "      <td>1.391391</td>\n",
       "      <td>0.411852</td>\n",
       "      <td>-1.189870</td>\n",
       "      <td>0.312184</td>\n",
       "      <td>0.723884</td>\n",
       "      <td>-0.984080</td>\n",
       "    </tr>\n",
       "    <tr>\n",
       "      <th>3896</th>\n",
       "      <td>-0.384111</td>\n",
       "      <td>-0.065756</td>\n",
       "      <td>0.864297</td>\n",
       "      <td>-0.436881</td>\n",
       "      <td>-0.394112</td>\n",
       "      <td>-0.540751</td>\n",
       "      <td>-0.328602</td>\n",
       "      <td>-0.238947</td>\n",
       "      <td>-0.764519</td>\n",
       "      <td>0.100355</td>\n",
       "      <td>0.840598</td>\n",
       "      <td>1.758477</td>\n",
       "      <td>-1.381436</td>\n",
       "      <td>-0.984080</td>\n",
       "    </tr>\n",
       "    <tr>\n",
       "      <th>1099</th>\n",
       "      <td>-0.384111</td>\n",
       "      <td>-0.065756</td>\n",
       "      <td>0.864297</td>\n",
       "      <td>-0.436881</td>\n",
       "      <td>-0.394112</td>\n",
       "      <td>-0.408069</td>\n",
       "      <td>-0.328602</td>\n",
       "      <td>-0.238947</td>\n",
       "      <td>-0.159333</td>\n",
       "      <td>-0.395444</td>\n",
       "      <td>-1.189870</td>\n",
       "      <td>0.312184</td>\n",
       "      <td>0.723884</td>\n",
       "      <td>-0.984080</td>\n",
       "    </tr>\n",
       "    <tr>\n",
       "      <th>71</th>\n",
       "      <td>-0.384111</td>\n",
       "      <td>-0.065756</td>\n",
       "      <td>0.864297</td>\n",
       "      <td>-0.436881</td>\n",
       "      <td>-0.394112</td>\n",
       "      <td>1.051434</td>\n",
       "      <td>3.043196</td>\n",
       "      <td>-0.238947</td>\n",
       "      <td>0.022947</td>\n",
       "      <td>1.645507</td>\n",
       "      <td>0.840598</td>\n",
       "      <td>0.312184</td>\n",
       "      <td>0.723884</td>\n",
       "      <td>1.016178</td>\n",
       "    </tr>\n",
       "  </tbody>\n",
       "</table>\n",
       "<p>4088 rows × 14 columns</p>\n",
       "</div>"
      ],
      "text/plain": [
       "      onehotencoder__x0_Govt_job  onehotencoder__x0_Never_worked  \\\n",
       "943                    -0.384111                       -0.065756   \n",
       "821                     2.603417                       -0.065756   \n",
       "4675                   -0.384111                       -0.065756   \n",
       "3737                   -0.384111                       -0.065756   \n",
       "2067                   -0.384111                       -0.065756   \n",
       "...                          ...                             ...   \n",
       "4655                   -0.384111                       -0.065756   \n",
       "3126                   -0.384111                       -0.065756   \n",
       "3896                   -0.384111                       -0.065756   \n",
       "1099                   -0.384111                       -0.065756   \n",
       "71                     -0.384111                       -0.065756   \n",
       "\n",
       "      onehotencoder__x0_Private  onehotencoder__x0_Self-employed  \\\n",
       "943                    0.864297                        -0.436881   \n",
       "821                   -1.157010                        -0.436881   \n",
       "4675                  -1.157010                        -0.436881   \n",
       "3737                  -1.157010                         2.288955   \n",
       "2067                  -1.157010                         2.288955   \n",
       "...                         ...                              ...   \n",
       "4655                  -1.157010                        -0.436881   \n",
       "3126                  -1.157010                         2.288955   \n",
       "3896                   0.864297                        -0.436881   \n",
       "1099                   0.864297                        -0.436881   \n",
       "71                     0.864297                        -0.436881   \n",
       "\n",
       "      onehotencoder__x0_children       age  hypertension  heart_disease  \\\n",
       "943                    -0.394112  1.405253     -0.328602      -0.238947   \n",
       "821                    -0.394112  1.184116      3.043196      -0.238947   \n",
       "4675                    2.537348 -1.557980     -0.328602      -0.238947   \n",
       "3737                   -0.394112  1.316798     -0.328602      -0.238947   \n",
       "2067                   -0.394112 -0.142705     -0.328602      -0.238947   \n",
       "...                          ...       ...           ...            ...   \n",
       "4655                    2.537348 -1.469526     -0.328602      -0.238947   \n",
       "3126                   -0.394112  0.476478     -0.328602      -0.238947   \n",
       "3896                   -0.394112 -0.540751     -0.328602      -0.238947   \n",
       "1099                   -0.394112 -0.408069     -0.328602      -0.238947   \n",
       "71                     -0.394112  1.051434      3.043196      -0.238947   \n",
       "\n",
       "      bmi_log10  avg_glucose_level_log10  gender_ordinal  smoking_ord  \\\n",
       "943    1.624122                -0.368774        0.840598    -1.134109   \n",
       "821    1.050443                -0.297435        0.840598     0.312184   \n",
       "4675  -0.953954                -1.222625       -1.189870     0.312184   \n",
       "3737  -0.046143                -0.001331        0.840598     0.312184   \n",
       "2067   2.225059                 2.123737        0.840598     0.312184   \n",
       "...         ...                      ...             ...          ...   \n",
       "4655  -2.291365                -1.504391        0.840598    -1.134109   \n",
       "3126   1.391391                 0.411852       -1.189870     0.312184   \n",
       "3896  -0.764519                 0.100355        0.840598     1.758477   \n",
       "1099  -0.159333                -0.395444       -1.189870     0.312184   \n",
       "71     0.022947                 1.645507        0.840598     0.312184   \n",
       "\n",
       "      married_ord  residence_ord  \n",
       "943      0.723884      -0.984080  \n",
       "821      0.723884       1.016178  \n",
       "4675    -1.381436       1.016178  \n",
       "3737     0.723884       1.016178  \n",
       "2067     0.723884       1.016178  \n",
       "...           ...            ...  \n",
       "4655    -1.381436      -0.984080  \n",
       "3126     0.723884      -0.984080  \n",
       "3896    -1.381436      -0.984080  \n",
       "1099     0.723884      -0.984080  \n",
       "71       0.723884       1.016178  \n",
       "\n",
       "[4088 rows x 14 columns]"
      ]
     },
     "execution_count": 783,
     "metadata": {},
     "output_type": "execute_result"
    }
   ],
   "source": [
    "X_train"
   ]
  },
  {
   "cell_type": "code",
   "execution_count": 792,
   "id": "e8f8ccea",
   "metadata": {},
   "outputs": [],
   "source": [
    "loadings = pca_14.components_"
   ]
  },
  {
   "cell_type": "code",
   "execution_count": 793,
   "id": "7df5c7d0",
   "metadata": {},
   "outputs": [],
   "source": [
    "num_pc = pca_14.n_features_"
   ]
  },
  {
   "cell_type": "code",
   "execution_count": 794,
   "id": "ea98d944",
   "metadata": {},
   "outputs": [],
   "source": [
    "pc_list = [\"PC\"+str(i) for i in list(range(1, num_pc+1))]"
   ]
  },
  {
   "cell_type": "code",
   "execution_count": 795,
   "id": "6c666121",
   "metadata": {},
   "outputs": [],
   "source": [
    "loadings_df = pd.DataFrame.from_dict(dict(zip(pc_list, loadings)))"
   ]
  },
  {
   "cell_type": "code",
   "execution_count": 796,
   "id": "99c80a4a",
   "metadata": {},
   "outputs": [],
   "source": [
    "loadings_df['variable'] = X_train.columns.values"
   ]
  },
  {
   "cell_type": "code",
   "execution_count": 797,
   "id": "5726e051",
   "metadata": {},
   "outputs": [],
   "source": [
    "loadings_df = loadings_df.set_index('variable')"
   ]
  },
  {
   "cell_type": "code",
   "execution_count": 798,
   "id": "f2bddc7a",
   "metadata": {},
   "outputs": [
    {
     "data": {
      "text/plain": [
       "array([[-7.12630330e-02,  5.20891369e-02, -1.72358463e-01,\n",
       "        -1.63964248e-01,  4.86229042e-01, -5.03261562e-01,\n",
       "        -2.03531814e-01, -1.48598832e-01, -3.83713361e-01,\n",
       "        -1.56560904e-01, -3.54265235e-02,  4.52808171e-02,\n",
       "        -4.55360751e-01, -3.58189264e-03],\n",
       "       [ 3.19246171e-01,  1.51780779e-02, -7.15905985e-01,\n",
       "         5.08065960e-01,  1.75703787e-01,  1.31723035e-01,\n",
       "         1.55144430e-01,  1.42504294e-01, -1.20580233e-01,\n",
       "         1.05819122e-01, -7.15432040e-02,  1.78183978e-02,\n",
       "         3.89041308e-02, -4.37301662e-02],\n",
       "       [-6.21812705e-01, -4.73641347e-02,  1.48497097e-01,\n",
       "         2.11905765e-01,  1.75980588e-01,  2.71704311e-02,\n",
       "         2.54126380e-01,  3.61689861e-01, -1.03027906e-01,\n",
       "         3.26055390e-01, -3.87492765e-01,  1.97906902e-01,\n",
       "        -9.02168204e-02,  5.15679986e-02],\n",
       "       [ 5.18161340e-01, -5.07720791e-02,  1.04768692e-02,\n",
       "        -5.32995372e-01,  5.93154925e-02, -3.23040538e-02,\n",
       "         4.14747377e-02,  2.70539490e-01,  6.07026762e-02,\n",
       "         2.85739726e-01, -4.57748472e-01,  2.61528829e-01,\n",
       "         5.84245179e-03, -4.43441963e-02],\n",
       "       [ 7.35006440e-02,  1.70294683e-01, -1.63331950e-02,\n",
       "        -1.23523096e-01,  5.17225123e-02, -5.83895157e-02,\n",
       "         2.71335003e-01, -3.91827851e-02,  2.17092390e-02,\n",
       "         3.21014732e-01,  1.92308457e-02, -5.98341333e-01,\n",
       "        -1.24673555e-01,  6.25605866e-01],\n",
       "       [-4.40292757e-02,  7.88026383e-01,  8.68006186e-03,\n",
       "        -1.68618140e-02, -1.02499453e-01, -1.62241237e-02,\n",
       "         5.55021455e-02,  3.88335414e-02,  4.90237523e-02,\n",
       "         1.26076979e-02, -1.90115627e-01, -2.62556733e-01,\n",
       "        -8.22314277e-02, -4.96944672e-01],\n",
       "       [-1.70717151e-02,  3.91736581e-01, -5.10539159e-02,\n",
       "         1.45763220e-01, -1.41152044e-01,  3.28123730e-02,\n",
       "        -4.48160927e-01,  5.14386195e-02,  5.56658776e-02,\n",
       "        -2.82406831e-01, -3.34106844e-01,  2.67251438e-01,\n",
       "         1.09171753e-01,  5.65757364e-01],\n",
       "       [ 1.47965011e-02, -1.07311591e-01,  4.27990104e-02,\n",
       "        -4.60232536e-02, -6.49775900e-03,  9.21983272e-02,\n",
       "        -4.36240800e-01,  7.38888758e-01, -2.30583350e-01,\n",
       "        -7.60141292e-02,  1.84138412e-01, -3.78721261e-01,\n",
       "        -2.92510662e-04, -5.68009060e-02],\n",
       "       [ 2.24087578e-02,  3.82147289e-01, -3.71010365e-03,\n",
       "        -9.15034499e-02,  8.45212663e-03, -1.75337611e-02,\n",
       "         9.10100223e-02,  2.18400139e-01, -3.75735385e-02,\n",
       "         2.81942118e-01,  6.65771610e-01,  4.89797968e-01,\n",
       "        -7.84226240e-02,  1.36041214e-01],\n",
       "       [ 6.24583680e-02,  5.71971207e-02,  5.10027318e-02,\n",
       "        -1.41555290e-01,  6.00115683e-03,  7.06808629e-02,\n",
       "         6.13975552e-01,  2.56348574e-01, -1.85171591e-01,\n",
       "        -6.87326851e-01, -1.79549710e-03,  5.19102272e-02,\n",
       "        -4.60242372e-03,  1.14237029e-01],\n",
       "       [ 5.88277540e-03, -1.02000239e-01, -8.35839664e-02,\n",
       "         1.29057411e-01, -3.76801226e-03, -2.74618024e-01,\n",
       "         2.52545631e-02,  2.62387663e-01,  7.80001633e-01,\n",
       "        -1.56990228e-01,  4.12558548e-02, -2.16012927e-03,\n",
       "        -4.31533942e-01, -5.30848226e-03],\n",
       "       [ 1.92375164e-01, -9.74638786e-02,  1.38550430e-01,\n",
       "         2.11786373e-01, -5.98757897e-01,  7.72023592e-02,\n",
       "         2.34692261e-02, -4.72002118e-02, -3.23339059e-01,\n",
       "         8.10152980e-02, -8.25341078e-02,  7.43935544e-02,\n",
       "        -6.31368259e-01,  1.04511948e-02],\n",
       "       [-7.41770804e-02,  3.25673175e-02, -4.61216520e-02,\n",
       "        -1.93056748e-01,  3.41043672e-01,  7.92254275e-01,\n",
       "        -1.17939864e-01, -1.32157183e-01,  1.27011521e-01,\n",
       "        -6.68695858e-02,  1.11859498e-02,  1.14184284e-02,\n",
       "        -3.97136089e-01,  1.04887264e-02],\n",
       "       [-4.27857098e-01, -8.36901990e-02, -6.32380347e-01,\n",
       "        -4.68933130e-01, -4.36040217e-01, -1.07967919e-16,\n",
       "        -3.24420290e-17, -3.36880950e-17,  9.40076335e-19,\n",
       "        -2.05539973e-17,  7.88628449e-18, -8.66389299e-18,\n",
       "        -4.57500317e-17, -5.71749567e-18]])"
      ]
     },
     "execution_count": 798,
     "metadata": {},
     "output_type": "execute_result"
    }
   ],
   "source": [
    "loadings"
   ]
  },
  {
   "cell_type": "code",
   "execution_count": 843,
   "id": "4fb27736",
   "metadata": {},
   "outputs": [
    {
     "data": {
      "image/png": "[encoded data removed]",
      "text/plain": [
       "<Figure size 792x792 with 2 Axes>"
      ]
     },
     "metadata": {
      "needs_background": "light"
     },
     "output_type": "display_data"
    }
   ],
   "source": [
    "plt.figure(figsize=(11,11))\n",
    "ax = sns.heatmap(loadings_df, annot=True, cmap='Spectral')\n",
    "heatmap = ax.get_figure()\n",
    "heatmap.savefig(\"heatmap.png\")"
   ]
  },
  {
   "cell_type": "code",
   "execution_count": null,
   "id": "36d06a1c",
   "metadata": {},
   "outputs": [],
   "source": []
  }
 ],
 "metadata": {
  "kernelspec": {
   "display_name": "Python 3 (ipykernel)",
   "language": "python",
   "name": "python3"
  },
  "language_info": {
   "codemirror_mode": {
    "name": "ipython",
    "version": 3
   },
   "file_extension": ".py",
   "mimetype": "text/x-python",
   "name": "python",
   "nbconvert_exporter": "python",
   "pygments_lexer": "ipython3",
   "version": "3.9.12"
  }
 },
 "nbformat": 4,
 "nbformat_minor": 5
}
